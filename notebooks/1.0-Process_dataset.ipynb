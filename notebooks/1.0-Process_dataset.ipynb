{
 "cells": [
  {
   "cell_type": "code",
   "execution_count": 175,
   "metadata": {
    "colab": {
     "base_uri": "https://localhost:8080/"
    },
    "id": "XdgTqnctlEI7",
    "outputId": "cc1761fb-4739-45cb-f076-2d74a13a6039"
   },
   "outputs": [],
   "source": [
    "import io, os, re, logging, datetime, sys\n",
    "import requests, tqdm, tarfile, itertools, html, time\n",
    "import numpy as np\n",
    "import pandas as pd\n",
    "import dask.dataframe as dd\n",
    "\n",
    "import plotly.express as px\n",
    "from dateparser import parse\n",
    "from fuzzywuzzy import process, fuzz\n",
    "\n",
    "sys.path.append(\"../\")\n",
    "\n",
    "from src.visualization.visualize import visualize_shot\n",
    "from src.features.categorical import *\n",
    "from src.transformations import *\n",
    "from src.transformations.arrays import numpy_fill\n",
    "pd.set_option('display.max_rows', 20)"
   ]
  },
  {
   "cell_type": "markdown",
   "metadata": {
    "id": "Obi4UvzXmoi4",
    "jp-MarkdownHeadingCollapsed": true,
    "tags": []
   },
   "source": [
    "# Load all public shot IDs by iterating through pages from database"
   ]
  },
  {
   "cell_type": "code",
   "execution_count": 2,
   "metadata": {
    "colab": {
     "base_uri": "https://localhost:8080/",
     "height": 445
    },
    "id": "PghXkC-Gs1jC",
    "outputId": "8da94a75-10d4-4299-8331-2424fbd00095",
    "scrolled": true,
    "tags": []
   },
   "outputs": [
    {
     "data": {
      "text/html": [
       "<div>\n",
       "<style scoped>\n",
       "    .dataframe tbody tr th:only-of-type {\n",
       "        vertical-align: middle;\n",
       "    }\n",
       "\n",
       "    .dataframe tbody tr th {\n",
       "        vertical-align: top;\n",
       "    }\n",
       "\n",
       "    .dataframe thead th {\n",
       "        text-align: right;\n",
       "    }\n",
       "</style>\n",
       "<table border=\"1\" class=\"dataframe\">\n",
       "  <thead>\n",
       "    <tr style=\"text-align: right;\">\n",
       "      <th></th>\n",
       "      <th>clock</th>\n",
       "      <th>id</th>\n",
       "    </tr>\n",
       "  </thead>\n",
       "  <tbody>\n",
       "    <tr>\n",
       "      <th>0</th>\n",
       "      <td>1636526780</td>\n",
       "      <td>14899484-a5f8-4ccc-b372-79700c8150ae</td>\n",
       "    </tr>\n",
       "    <tr>\n",
       "      <th>1</th>\n",
       "      <td>1636526752</td>\n",
       "      <td>76f936ee-5147-40ac-986e-f0f1be5ac97e</td>\n",
       "    </tr>\n",
       "    <tr>\n",
       "      <th>2</th>\n",
       "      <td>1636526738</td>\n",
       "      <td>8853ae7c-5bf8-4194-93dd-462de63f1471</td>\n",
       "    </tr>\n",
       "    <tr>\n",
       "      <th>3</th>\n",
       "      <td>1636526681</td>\n",
       "      <td>a4d7a358-fc3f-451c-92f5-756adaa4a7dd</td>\n",
       "    </tr>\n",
       "    <tr>\n",
       "      <th>4</th>\n",
       "      <td>1636526665</td>\n",
       "      <td>3ebcfff9-fb6f-47f6-a3df-affe01d55150</td>\n",
       "    </tr>\n",
       "    <tr>\n",
       "      <th>...</th>\n",
       "      <td>...</td>\n",
       "      <td>...</td>\n",
       "    </tr>\n",
       "    <tr>\n",
       "      <th>73213</th>\n",
       "      <td>1274388447</td>\n",
       "      <td>a68afc41-645d-46c6-bfce-3dc9bf95ed0b</td>\n",
       "    </tr>\n",
       "    <tr>\n",
       "      <th>73214</th>\n",
       "      <td>1274388290</td>\n",
       "      <td>a37b6160-3e6a-4860-97cc-6b75a035c0da</td>\n",
       "    </tr>\n",
       "    <tr>\n",
       "      <th>73215</th>\n",
       "      <td>1274387176</td>\n",
       "      <td>3849dd2f-1678-488b-8f76-b166f53fe7ed</td>\n",
       "    </tr>\n",
       "    <tr>\n",
       "      <th>73216</th>\n",
       "      <td>1274386903</td>\n",
       "      <td>5a5d218e-7d84-4a8c-9621-f3067b0b8fb5</td>\n",
       "    </tr>\n",
       "    <tr>\n",
       "      <th>73217</th>\n",
       "      <td>1274386491</td>\n",
       "      <td>7e567cc5-3f50-4a74-aa05-abbf8cfed55c</td>\n",
       "    </tr>\n",
       "  </tbody>\n",
       "</table>\n",
       "<p>73218 rows × 2 columns</p>\n",
       "</div>"
      ],
      "text/plain": [
       "            clock                                    id\n",
       "0      1636526780  14899484-a5f8-4ccc-b372-79700c8150ae\n",
       "1      1636526752  76f936ee-5147-40ac-986e-f0f1be5ac97e\n",
       "2      1636526738  8853ae7c-5bf8-4194-93dd-462de63f1471\n",
       "3      1636526681  a4d7a358-fc3f-451c-92f5-756adaa4a7dd\n",
       "4      1636526665  3ebcfff9-fb6f-47f6-a3df-affe01d55150\n",
       "...           ...                                   ...\n",
       "73213  1274388447  a68afc41-645d-46c6-bfce-3dc9bf95ed0b\n",
       "73214  1274388290  a37b6160-3e6a-4860-97cc-6b75a035c0da\n",
       "73215  1274387176  3849dd2f-1678-488b-8f76-b166f53fe7ed\n",
       "73216  1274386903  5a5d218e-7d84-4a8c-9621-f3067b0b8fb5\n",
       "73217  1274386491  7e567cc5-3f50-4a74-aa05-abbf8cfed55c\n",
       "\n",
       "[73218 rows x 2 columns]"
      ]
     },
     "execution_count": 2,
     "metadata": {},
     "output_type": "execute_result"
    }
   ],
   "source": [
    "# Load list of shots\n",
    "pages_df = pd.read_csv(\"../data/raw/visualizercoffee_shot_ids_2021-12-18.csv\")\n",
    "\n",
    "pages_df"
   ]
  },
  {
   "cell_type": "code",
   "execution_count": 5,
   "metadata": {
    "id": "jGbDNSpUlNYW"
   },
   "outputs": [],
   "source": [
    "# n_pages = 7321\n",
    "data_pages = []\n",
    "\n",
    "def get_page_json(page_num):\n",
    "    response = requests.get(f'https://visualizer.coffee/api/shots?page={page_num}',)\n",
    "    obj = response.json()\n",
    "    return obj[\"data\"]\n",
    "\n",
    "for page_num in tqdm.tqdm(range(7321, 8631+1)):\n",
    "    data = get_page_json(page_num)\n",
    "    data_pages.extend(data)\n",
    "\n",
    "new_pages_df = pd.DataFrame.from_dict(data_pages).drop_duplicates()\n",
    "\n",
    "# Multi-worker \n",
    "# npartitions = 24\n",
    "# pages = pd.Series(range(1589, n_pages+1))\n",
    "\n",
    "# rest_df = dd.from_pandas(pages, npartitions=npartitions).apply(lambda pages: get_page_json(page), meta=list).compute()\n",
    "pages_df = pd.concat([pages_df, new_pages_df], axis=0).drop_duplicates()\n",
    "pages_df.to_csv(\"../data/raw/visualizercoffee_shot_ids_2021-12-18.csv\", index=False)"
   ]
  },
  {
   "cell_type": "code",
   "execution_count": 7,
   "metadata": {
    "id": "Xs3Xyvr0oywP"
   },
   "outputs": [],
   "source": [
    "def get_shot_json(shot_id):\n",
    "    response = requests.get(f'https://visualizer.coffee/api/shots/{shot_id}/download',)\n",
    "    obj = response.json()\n",
    "    return obj"
   ]
  },
  {
   "cell_type": "code",
   "execution_count": 8,
   "metadata": {
    "id": "QGLIYzg7lQN0"
   },
   "outputs": [],
   "source": [
    "def json_to_series(data):\n",
    "    if \"error\" in data: return False\n",
    "    \n",
    "    shot_df = pd.DataFrame({k:v for k,v in data.items() if k not in [\"data\", \"timeframe\"]}, \n",
    "                           index=pd.Index([data[\"id\"]], name=\"id\"))\n",
    "    \n",
    "    shot_df = pd.DataFrame.from_dict({k:v for k,v in data.items() if k not in [\"data\", \"timeframe\"]}, orient=\"index\")[0]\n",
    "\n",
    "    timeframe = pd.Index(data[\"timeframe\"]+[data[\"timeframe\"][-1]], name=\"timeframe\").astype(float)\n",
    "    shot_df[\"timeframe\"] = timeframe.tolist()\n",
    "\n",
    "    series_df = pd.DataFrame(data[\"data\"]).astype(float)\n",
    "    \n",
    "    for key, values in series_df.to_dict(orient='list').items():\n",
    "        shot_df[key] = np.array(values)\n",
    "\n",
    "    return shot_df"
   ]
  },
  {
   "cell_type": "code",
   "execution_count": 12,
   "metadata": {
    "colab": {
     "base_uri": "https://localhost:8080/"
    },
    "id": "tdINW_a4mz7s",
    "outputId": "a2b26afe-a018-4281-b6ba-5cb2047fc483"
   },
   "outputs": [
    {
     "name": "stderr",
     "output_type": "stream",
     "text": [
      "100%|███████████████████████████████████| 13109/13109 [2:03:02<00:00,  1.78it/s]\n"
     ]
    }
   ],
   "source": [
    "shot_series = []\n",
    "\n",
    "for shot_id in tqdm.tqdm(new_pages_df[\"id\"]):\n",
    "    data = get_shot_json(shot_id)\n",
    "    \n",
    "    try:\n",
    "        shot_json = json_to_series(data)\n",
    "        if not isinstance(shot_json, pd.Series): \n",
    "            continue\n",
    "        shot_series.append(shot_json)\n",
    "        \n",
    "    except:\n",
    "        logging.info(f\"error for shot {shot_id}\")\n",
    "\n",
    "        \n",
    "new_shots_df = pd.concat(shot_series, axis=1).T"
   ]
  },
  {
   "cell_type": "code",
   "execution_count": 22,
   "metadata": {},
   "outputs": [
    {
     "data": {
      "text/html": [
       "<div>\n",
       "<style scoped>\n",
       "    .dataframe tbody tr th:only-of-type {\n",
       "        vertical-align: middle;\n",
       "    }\n",
       "\n",
       "    .dataframe tbody tr th {\n",
       "        vertical-align: top;\n",
       "    }\n",
       "\n",
       "    .dataframe thead th {\n",
       "        text-align: right;\n",
       "    }\n",
       "</style>\n",
       "<table border=\"1\" class=\"dataframe\">\n",
       "  <thead>\n",
       "    <tr style=\"text-align: right;\">\n",
       "      <th></th>\n",
       "      <th>clock</th>\n",
       "      <th>id</th>\n",
       "    </tr>\n",
       "  </thead>\n",
       "  <tbody>\n",
       "    <tr>\n",
       "      <th>0</th>\n",
       "      <td>1618494554</td>\n",
       "      <td>65851316-b83e-4676-a072-c34b6b572a0b</td>\n",
       "    </tr>\n",
       "    <tr>\n",
       "      <th>1</th>\n",
       "      <td>1618494483</td>\n",
       "      <td>2c2bad25-d6f6-4058-a571-1c5ae925ebe9</td>\n",
       "    </tr>\n",
       "    <tr>\n",
       "      <th>2</th>\n",
       "      <td>1618494266</td>\n",
       "      <td>16d5f8e1-a087-45b8-a623-bdec4445e9a8</td>\n",
       "    </tr>\n",
       "    <tr>\n",
       "      <th>3</th>\n",
       "      <td>1618493724</td>\n",
       "      <td>3ddb33ba-1754-4bd2-b1b6-e1969d5ac240</td>\n",
       "    </tr>\n",
       "    <tr>\n",
       "      <th>4</th>\n",
       "      <td>1618493724</td>\n",
       "      <td>fe266d43-86f4-4e0e-8cda-243ef98eb395</td>\n",
       "    </tr>\n",
       "    <tr>\n",
       "      <th>...</th>\n",
       "      <td>...</td>\n",
       "      <td>...</td>\n",
       "    </tr>\n",
       "    <tr>\n",
       "      <th>13105</th>\n",
       "      <td>1274388447</td>\n",
       "      <td>a68afc41-645d-46c6-bfce-3dc9bf95ed0b</td>\n",
       "    </tr>\n",
       "    <tr>\n",
       "      <th>13106</th>\n",
       "      <td>1274388290</td>\n",
       "      <td>a37b6160-3e6a-4860-97cc-6b75a035c0da</td>\n",
       "    </tr>\n",
       "    <tr>\n",
       "      <th>13107</th>\n",
       "      <td>1274387176</td>\n",
       "      <td>3849dd2f-1678-488b-8f76-b166f53fe7ed</td>\n",
       "    </tr>\n",
       "    <tr>\n",
       "      <th>13108</th>\n",
       "      <td>1274386903</td>\n",
       "      <td>5a5d218e-7d84-4a8c-9621-f3067b0b8fb5</td>\n",
       "    </tr>\n",
       "    <tr>\n",
       "      <th>13109</th>\n",
       "      <td>1274386491</td>\n",
       "      <td>7e567cc5-3f50-4a74-aa05-abbf8cfed55c</td>\n",
       "    </tr>\n",
       "  </tbody>\n",
       "</table>\n",
       "<p>13109 rows × 2 columns</p>\n",
       "</div>"
      ],
      "text/plain": [
       "            clock                                    id\n",
       "0      1618494554  65851316-b83e-4676-a072-c34b6b572a0b\n",
       "1      1618494483  2c2bad25-d6f6-4058-a571-1c5ae925ebe9\n",
       "2      1618494266  16d5f8e1-a087-45b8-a623-bdec4445e9a8\n",
       "3      1618493724  3ddb33ba-1754-4bd2-b1b6-e1969d5ac240\n",
       "4      1618493724  fe266d43-86f4-4e0e-8cda-243ef98eb395\n",
       "...           ...                                   ...\n",
       "13105  1274388447  a68afc41-645d-46c6-bfce-3dc9bf95ed0b\n",
       "13106  1274388290  a37b6160-3e6a-4860-97cc-6b75a035c0da\n",
       "13107  1274387176  3849dd2f-1678-488b-8f76-b166f53fe7ed\n",
       "13108  1274386903  5a5d218e-7d84-4a8c-9621-f3067b0b8fb5\n",
       "13109  1274386491  7e567cc5-3f50-4a74-aa05-abbf8cfed55c\n",
       "\n",
       "[13109 rows x 2 columns]"
      ]
     },
     "execution_count": 22,
     "metadata": {},
     "output_type": "execute_result"
    }
   ],
   "source": [
    "new_pages_df[\"id\"]"
   ]
  },
  {
   "cell_type": "code",
   "execution_count": 21,
   "metadata": {},
   "outputs": [
    {
     "data": {
      "text/plain": [
       "((73202, 36), 73202)"
      ]
     },
     "execution_count": 21,
     "metadata": {},
     "output_type": "execute_result"
    }
   ],
   "source": [
    "combined_shots_df = pd.concat([shots_df, new_shots_df], axis=0).drop_duplicates(subset=[\"id\"])\n",
    "\n",
    "combined_shots_df.shape, combined_shots_df[\"id\"].nunique()"
   ]
  },
  {
   "cell_type": "code",
   "execution_count": 19,
   "metadata": {},
   "outputs": [
    {
     "data": {
      "text/plain": [
       "72877"
      ]
     },
     "execution_count": 19,
     "metadata": {},
     "output_type": "execute_result"
    }
   ],
   "source": [
    "shots_df = pd.read_parquet(\"../data/raw/visualizercoffee_shot_series.parquet\",)\n",
    "shots_df.to_parquet(\"../data/raw/visualizercoffee_shot_series_2021-12-18.parquet\", index=False)\n",
    "shots_df.shape"
   ]
  },
  {
   "cell_type": "markdown",
   "metadata": {},
   "source": [
    "# Import raw downloaded data"
   ]
  },
  {
   "cell_type": "code",
   "execution_count": 3,
   "metadata": {},
   "outputs": [
    {
     "data": {
      "text/plain": [
       "(73202, 36)"
      ]
     },
     "execution_count": 3,
     "metadata": {},
     "output_type": "execute_result"
    }
   ],
   "source": [
    "shots_df = pd.read_parquet(\"../data/raw/visualizercoffee_shot_series_2021-12-18.parquet\")\n",
    "shots_df.shape"
   ]
  },
  {
   "cell_type": "markdown",
   "metadata": {},
   "source": [
    "# Clean data"
   ]
  },
  {
   "cell_type": "markdown",
   "metadata": {},
   "source": [
    "## Datetime"
   ]
  },
  {
   "cell_type": "code",
   "execution_count": 4,
   "metadata": {},
   "outputs": [],
   "source": [
    "shots_df[\"start_time\"] = pd.DatetimeIndex(shots_df[\"start_time\"])\n",
    "shots_df[\"start_time\"] = shots_df[\"start_time\"].dt.tz_localize(None)"
   ]
  },
  {
   "cell_type": "code",
   "execution_count": 5,
   "metadata": {},
   "outputs": [
    {
     "name": "stderr",
     "output_type": "stream",
     "text": [
      "/opt/anaconda3/lib/python3.7/site-packages/dateparser/date_parser.py:35: PytzUsageWarning: The localize method is no longer necessary, as this time zone supports the fold attribute (PEP 495). For more details on migrating to a PEP 495-compliant implementation, see https://pytz-deprecation-shim.readthedocs.io/en/latest/migration.html\n",
      "  date_obj = stz.localize(date_obj)\n",
      "/opt/anaconda3/lib/python3.7/site-packages/dateparser/utils/__init__.py:130: PytzUsageWarning: The localize method is no longer necessary, as this time zone supports the fold attribute (PEP 495). For more details on migrating to a PEP 495-compliant implementation, see https://pytz-deprecation-shim.readthedocs.io/en/latest/migration.html\n",
      "  date_obj = tz.localize(date_obj)\n"
     ]
    }
   ],
   "source": [
    "def parse_date(x):\n",
    "    if not isinstance(x, str) or len(x) < 4:\n",
    "        return None        \n",
    "    try: \n",
    "        dt = parse(x)\n",
    "        timestamp = pd.Timestamp(dt)\n",
    "    except:\n",
    "        return None\n",
    "    \n",
    "    return timestamp\n",
    "\n",
    "shots_df[\"roast_date\"] = shots_df[\"roast_date\"].apply(parse_date)"
   ]
  },
  {
   "cell_type": "code",
   "execution_count": 9,
   "metadata": {},
   "outputs": [
    {
     "name": "stderr",
     "output_type": "stream",
     "text": [
      "/opt/anaconda3/lib/python3.7/site-packages/ipykernel_launcher.py:4: SettingWithCopyWarning: \n",
      "A value is trying to be set on a copy of a slice from a DataFrame\n",
      "\n",
      "See the caveats in the documentation: https://pandas.pydata.org/pandas-docs/stable/user_guide/indexing.html#returning-a-view-versus-a-copy\n",
      "  after removing the cwd from sys.path.\n",
      "/opt/anaconda3/lib/python3.7/site-packages/ipykernel_launcher.py:7: SettingWithCopyWarning: \n",
      "A value is trying to be set on a copy of a slice from a DataFrame\n",
      "\n",
      "See the caveats in the documentation: https://pandas.pydata.org/pandas-docs/stable/user_guide/indexing.html#returning-a-view-versus-a-copy\n",
      "  import sys\n",
      "/opt/anaconda3/lib/python3.7/site-packages/ipykernel_launcher.py:11: SettingWithCopyWarning: \n",
      "A value is trying to be set on a copy of a slice from a DataFrame.\n",
      "Try using .loc[row_indexer,col_indexer] = value instead\n",
      "\n",
      "See the caveats in the documentation: https://pandas.pydata.org/pandas-docs/stable/user_guide/indexing.html#returning-a-view-versus-a-copy\n",
      "  # This is added back by InteractiveShellApp.init_path()\n"
     ]
    }
   ],
   "source": [
    "shots_df[\"bean_age\"] = shots_df[\"start_time\"] - shots_df[\"roast_date\"]\n",
    "\n",
    "idx_A = shots_df[\"bean_age\"] < pd.Timedelta(10, unit=\"minutes\")\n",
    "shots_df[\"bean_age\"][idx_A] = None\n",
    "\n",
    "idx_B = shots_df[\"bean_age\"] > pd.Timedelta(200, unit=\"days\")\n",
    "shots_df[\"bean_age\"][idx_B] = None\n",
    "\n",
    "shots_df[\"bean_age\"] = shots_df[\"bean_age\"] / pd.to_timedelta(1, unit='D')\n",
    "\n",
    "shots_df.loc[idx_A | idx_B][\"roast_date\"] = None"
   ]
  },
  {
   "cell_type": "markdown",
   "metadata": {},
   "source": [
    "\n",
    "### Timeframe series data"
   ]
  },
  {
   "cell_type": "code",
   "execution_count": 7,
   "metadata": {
    "tags": []
   },
   "outputs": [],
   "source": [
    "# needed when timeframe not aligned to the other signals, e.g. espresso_flow\n",
    "\n",
    "def shift_timeframe_step(time_index, values, id=None):\n",
    "    time_index = np.roll(time_index, shift=-1)\n",
    "    time_index[-1] = time_index[-2]\n",
    "    \n",
    "    if len(time_index) - len(values) == 1:\n",
    "        time_index = time_index[:-1]\n",
    "        \n",
    "    if len(time_index) != len(values):\n",
    "        time_index = time_index[:len(values)]\n",
    "    \n",
    "    return time_index\n",
    "\n",
    "shots_df[\"timeframe\"] = shots_df[[\"timeframe\", \"espresso_flow\", \"id\"]].apply(\n",
    "    lambda x: shift_timeframe_step(x.timeframe, x.espresso_flow, x.id), axis=1)"
   ]
  },
  {
   "cell_type": "code",
   "execution_count": 10,
   "metadata": {},
   "outputs": [
    {
     "name": "stderr",
     "output_type": "stream",
     "text": [
      "/opt/anaconda3/lib/python3.7/site-packages/ipykernel_launcher.py:1: SettingWithCopyWarning: \n",
      "A value is trying to be set on a copy of a slice from a DataFrame\n",
      "\n",
      "See the caveats in the documentation: https://pandas.pydata.org/pandas-docs/stable/user_guide/indexing.html#returning-a-view-versus-a-copy\n",
      "  \"\"\"Entry point for launching an IPython kernel.\n"
     ]
    }
   ],
   "source": [
    "shots_df[\"duration\"][shots_df[\"duration\"] > 400] = np.NaN\n",
    "\n",
    "shots_df[\"duration\"].fillna(shots_df[\"timeframe\"].apply(max), inplace=True)"
   ]
  },
  {
   "cell_type": "markdown",
   "metadata": {},
   "source": [
    "## Numericals"
   ]
  },
  {
   "cell_type": "code",
   "execution_count": 11,
   "metadata": {
    "scrolled": true,
    "tags": []
   },
   "outputs": [
    {
     "name": "stderr",
     "output_type": "stream",
     "text": [
      "/opt/anaconda3/lib/python3.7/site-packages/ipykernel_launcher.py:1: FutureWarning: The default value of regex will change from True to False in a future version.\n",
      "  \"\"\"Entry point for launching an IPython kernel.\n",
      "/opt/anaconda3/lib/python3.7/site-packages/ipykernel_launcher.py:2: FutureWarning: The default value of regex will change from True to False in a future version.\n",
      "  \n"
     ]
    }
   ],
   "source": [
    "shots_df[\"drink_tds\"] = shots_df[\"drink_tds\"].str.replace(r\"[^0-9.]+\", '').replace({\"\": None})\n",
    "shots_df[\"drink_ey\"] = shots_df[\"drink_ey\"].str.replace(\",\", \".\").str.replace(r\"[^0-9.]+\", '').replace({\"\": None, \"20210113174207\": None})"
   ]
  },
  {
   "cell_type": "code",
   "execution_count": 12,
   "metadata": {},
   "outputs": [],
   "source": [
    "shots_df[\"bean_weight\"] = shots_df[\"bean_weight\"].str.replace(\",\", \".\").str.extract(r\"(\\d*\\.\\d+|\\d+)\")[0]\n",
    "shots_df[\"drink_weight\"] = shots_df[\"drink_weight\"].str.replace(\",\", \".\").str.extract(r\"(\\d*\\.\\d+|\\d+)\")[0]\n",
    "shots_df[\"grinder_setting\"] = shots_df[\"grinder_setting\"].str.replace(\",\", \".\").str.extract(r\"(\\d*\\.\\d+|\\d+)\")[0]"
   ]
  },
  {
   "cell_type": "markdown",
   "metadata": {
    "jp-MarkdownHeadingCollapsed": true,
    "tags": []
   },
   "source": [
    "## Caterogrical fields"
   ]
  },
  {
   "cell_type": "code",
   "execution_count": 13,
   "metadata": {
    "scrolled": true,
    "tags": []
   },
   "outputs": [],
   "source": [
    "shots_df[\"profile_title\"] = shots_df[\"profile_title\"].replace({\"\": None})"
   ]
  },
  {
   "cell_type": "code",
   "execution_count": 14,
   "metadata": {},
   "outputs": [
    {
     "data": {
      "text/plain": [
       "Niche Zero                  11059\n",
       "Sette 270                    2389\n",
       "Mahlkonig EK43               1930\n",
       "Lagom P100                   1863\n",
       "Bentwood 63                  1852\n",
       "Lagom P64                    1709\n",
       "Kafatek Monolith Flat        1534\n",
       "Kafatek Monolith Max         1371\n",
       "DF64                          850\n",
       "Eureka Mignon Specialita      604\n",
       "Weber EG-1                    432\n",
       "Titus M3                      394\n",
       "Baratza Forté                 392\n",
       "Kinu M47 Simplicity           386\n",
       "LeverCraft Ultra              306\n",
       "Mazzer Mini                   252\n",
       "Baratza Vario                 239\n",
       "1Zpresso JX-PRO               208\n",
       "Eureka Atom Specialty 75      196\n",
       "Macap M4                      191\n",
       "Name: grinder_model, dtype: int64"
      ]
     },
     "execution_count": 14,
     "metadata": {},
     "output_type": "execute_result"
    }
   ],
   "source": [
    "def is_match(query, values=[], thresh=75):\n",
    "    for substring in values:\n",
    "        if fuzz.ratio(query.lower(), substring.lower()) > thresh:\n",
    "            return True\n",
    "        \n",
    "    return False\n",
    "\n",
    "def match_grinder(wd):\n",
    "    if not isinstance(wd, str):\n",
    "        return wd\n",
    "    \n",
    "    if is_match(wd, ['niche zero', 'niche', 'nz', 'zero']):\n",
    "        return 'Niche Zero'\n",
    "    \n",
    "    elif is_match(wd, ['sette 270wi', 'sette270', 'baratza sette', 'sette']):\n",
    "        return 'Sette 270'\n",
    "    \n",
    "    elif 'vario' in wd.lower():\n",
    "        return 'Baratza Vario'\n",
    "    \n",
    "    elif 'forte' in wd.lower() or 'forté' in wd.lower():\n",
    "        return 'Baratza Forté'\n",
    "    \n",
    "    elif is_match(wd, ['']):\n",
    "        return 'Sette 270'\n",
    "    \n",
    "    elif is_match(wd, ['p100', 'Lagom P100', 'P100 HU']) or \"p100\" in wd.lower():\n",
    "        return 'Lagom P100'\n",
    "    \n",
    "    elif is_match(wd, ['P64', 'Lagom P64', 'lagom']) or \"p64\" in wd.lower():\n",
    "        return 'Lagom P64'\n",
    "    \n",
    "    elif is_match(wd, ['bentwood', 'Bentwood Vertical', 'BW V63', 'BW', 'Bentwod V63', 'Bentwood 63']):\n",
    "        return 'Bentwood 63'\n",
    "    \n",
    "    elif is_match(wd, ['Mahlkönig EK43', 'EK43', 'EK43 with SSP HU', 'ek43s']):\n",
    "        return 'Mahlkonig EK43'\n",
    "    \n",
    "    elif is_match(wd, ['eureka mignon', 'Mignon Specialita', 'specialita', 'mignon', 'Eureka SPECIALITA', 'Eureka Mignon Magnifico']):\n",
    "        return 'Eureka Mignon Specialita'\n",
    "    \n",
    "    elif is_match(wd, ['Atom 75', 'Atom Specialty 75', 'Eureka Atom Specialty 76', 'Eureka Atom 75']):\n",
    "        return 'Eureka Atom Specialty 75'\n",
    "    \n",
    "    elif is_match(wd, ['DF64', 'DF64 SSP multi-purpose', 'DF64 MP']) or \"df64\" in wd.lower():\n",
    "        return 'DF64'\n",
    "    \n",
    "    elif is_match(wd, ['Max']) or \"max\" in wd.lower():\n",
    "        return 'Kafatek Monolith Max'\n",
    "    \n",
    "    elif is_match(wd, ['Monolith Flat', 'Kafatek flat', 'kafatek monolith titan flat', 'mono flat ssw']) \\\n",
    "        or 'monolith' in wd.lower() or 'kafatek' in wd.lower():\n",
    "        return 'Kafatek Monolith Flat'\n",
    "    \n",
    "    elif is_match(wd, ['M47', 'M47 Simplicity', 'Kinu M47 Classic', 'Kinu M47']):\n",
    "        return \"Kinu M47 Simplicity\"\n",
    "    \n",
    "    elif is_match(wd, ['Weber Eg-1', 'EG-1', 'Eg-1 onyx', 'EG1 Core']):\n",
    "        return 'Weber EG-1'\n",
    "    \n",
    "    elif is_match(wd, ['Ultra']):\n",
    "        return 'LeverCraft Ultra'\n",
    "    \n",
    "    elif is_match(wd, ['1Z Pro', 'JX-Pro', '1Zpresso JX-PRO', '1Zpresso JX-Pro']):\n",
    "        return '1Zpresso JX-PRO'\n",
    "    \n",
    "    elif is_match(wd, ['1ZPresso K-Pro', 'K-Pro', '1Zpresso K-PRO']):\n",
    "        return '1ZPresso K-Pro'\n",
    "    \n",
    "    elif is_match(wd, ['ode', 'Ode+SSP']) or 'ode' in wd.lower():\n",
    "        return 'Fellow Ode'\n",
    "    \n",
    "    elif is_match(wd, ['Mahlkonig E65 GBW', 'e65']):\n",
    "        return 'Mahlkonig E65 GBW'\n",
    "    \n",
    "    elif is_match(wd, ['Mazzer Mini', 'mazzer mini e', 'mini']):\n",
    "        return 'Mazzer Mini'\n",
    "    \n",
    "    elif is_match(wd, ['Mazzer Super Jolly', 'mazzer sj']) or 'mazzer super jolly' in wd.lower() or 'mazzer sj' in wd.lower():\n",
    "        return 'Mazzer Super Jolly'\n",
    "    \n",
    "    elif is_match(wd, ['Rocky']):\n",
    "        return 'Rancilio Rocky'\n",
    "    \n",
    "    elif is_match(wd, ['Macap M4', 'Macap M4 stepless']):\n",
    "        return 'Macap M4'\n",
    "    \n",
    "    return wd\n",
    "    \n",
    "grinders = shots_df['grinder_model'].apply(match_grinder)\n",
    "grinders.replace({\"\": None, 'test': None, 'e': None, 'Ni': None}, inplace=True)\n",
    "\n",
    "\n",
    "shots_df['grinder_model'] = grinders\n",
    "grinders.value_counts()[:20]"
   ]
  },
  {
   "cell_type": "code",
   "execution_count": 15,
   "metadata": {},
   "outputs": [
    {
     "data": {
      "text/plain": [
       "55.0    8327\n",
       "75.0    5799\n",
       "65.0    2741\n",
       "37.0    1634\n",
       "45.0    1017\n",
       "30.0     301\n",
       "85.0     270\n",
       "79.0     125\n",
       "88.0      68\n",
       "91.0      50\n",
       "82.0      39\n",
       "90.0      25\n",
       "76.0      18\n",
       "84.0      16\n",
       "93.0      14\n",
       "99.0       2\n",
       "Name: roast_level, dtype: int64"
      ]
     },
     "execution_count": 15,
     "metadata": {},
     "output_type": "execute_result"
    }
   ],
   "source": [
    "def roast_level_to_agtron(s):\n",
    "    \"\"\"\n",
    "    Converts roast level to Agtron scale according to https://www.coffeereview.com/roast-definitions/\n",
    "    \"\"\"\n",
    "    if not isinstance(s, str):\n",
    "        return None\n",
    "    \n",
    "    if is_match(s, ['medium light', 'light Medium', 'medium-light', 'light/medium', 'medium/light', 'light/med', 'med-lig', 'city', '中浅']):\n",
    "        return 65 # 'Medium-Light'\n",
    "    \n",
    "    elif is_match(s, ['medium dark', 'Moderately Dark', 'Dark Medium', '中深']):\n",
    "        return 45 # 'Medium-Dark'\n",
    "    \n",
    "    elif is_match(s, ['dark-high']):\n",
    "        return 30 # \"Very-Dark\"\n",
    "    \n",
    "    elif is_match(s, ['ultra light', 'very light', 'Nordic', 'cinamon', 'cinnamon']):\n",
    "        return 85 # \"Very-Light\"\n",
    "    \n",
    "    elif is_match(s, ['Light', 'Light Roast', 'filter', '浅']) or \"light\" in s.lower():\n",
    "        return 75 # 'Light'\n",
    "    \n",
    "    elif is_match(s, ['dark', 'dark roast', 'espresso']) or \"dark\" in s.lower():\n",
    "        return 37 # 'Dark'\n",
    "    \n",
    "    elif is_match(s, ['medium', 'med', 'medium roast', 'full city', 'fc', '中']) or 'medium' in s.lower():\n",
    "        return 55 # 'Medium'\n",
    "    \n",
    "    elif 'agtron' in s.lower():\n",
    "        return int(re.findall(r\"(\\d*\\.\\d+|\\d+)\", s)[0])\n",
    "    \n",
    "    elif s.lower() in [\"peru\", 'ethiopia', 'indonesia', 'colombia', 'kenya', 'decaf']:\n",
    "        return None\n",
    "    \n",
    "    else:\n",
    "        return None\n",
    "    \n",
    "    return s\n",
    "    \n",
    "    \n",
    "roast_levels = shots_df['roast_level'].apply(roast_level_to_agtron)\n",
    "\n",
    "shots_df['roast_level'] = roast_levels\n",
    "roast_levels.value_counts()"
   ]
  },
  {
   "cell_type": "markdown",
   "metadata": {},
   "source": [
    "# Convert dtypes"
   ]
  },
  {
   "cell_type": "code",
   "execution_count": 16,
   "metadata": {
    "scrolled": true,
    "tags": []
   },
   "outputs": [],
   "source": [
    "shots_df = shots_df.astype({\n",
    "    \"drink_tds\": float,\n",
    "    \"drink_ey\": float,\n",
    "    \"bean_weight\": float,\n",
    "    \"drink_weight\": float,\n",
    "    \"espresso_enjoyment\": float,\n",
    "    'grinder_setting': float,\n",
    "})"
   ]
  },
  {
   "cell_type": "markdown",
   "metadata": {},
   "source": [
    "### Convert ill-formed values to Null values"
   ]
  },
  {
   "cell_type": "code",
   "execution_count": 22,
   "metadata": {},
   "outputs": [
    {
     "name": "stderr",
     "output_type": "stream",
     "text": [
      "/opt/anaconda3/lib/python3.7/site-packages/ipykernel_launcher.py:4: SettingWithCopyWarning: \n",
      "A value is trying to be set on a copy of a slice from a DataFrame\n",
      "\n",
      "See the caveats in the documentation: https://pandas.pydata.org/pandas-docs/stable/user_guide/indexing.html#returning-a-view-versus-a-copy\n",
      "  after removing the cwd from sys.path.\n",
      "/opt/anaconda3/lib/python3.7/site-packages/ipykernel_launcher.py:7: SettingWithCopyWarning: \n",
      "A value is trying to be set on a copy of a slice from a DataFrame\n",
      "\n",
      "See the caveats in the documentation: https://pandas.pydata.org/pandas-docs/stable/user_guide/indexing.html#returning-a-view-versus-a-copy\n",
      "  import sys\n",
      "/opt/anaconda3/lib/python3.7/site-packages/ipykernel_launcher.py:9: SettingWithCopyWarning: \n",
      "A value is trying to be set on a copy of a slice from a DataFrame\n",
      "\n",
      "See the caveats in the documentation: https://pandas.pydata.org/pandas-docs/stable/user_guide/indexing.html#returning-a-view-versus-a-copy\n",
      "  if __name__ == '__main__':\n",
      "/opt/anaconda3/lib/python3.7/site-packages/ipykernel_launcher.py:10: SettingWithCopyWarning: \n",
      "A value is trying to be set on a copy of a slice from a DataFrame\n",
      "\n",
      "See the caveats in the documentation: https://pandas.pydata.org/pandas-docs/stable/user_guide/indexing.html#returning-a-view-versus-a-copy\n",
      "  # Remove the CWD from sys.path while we load stuff.\n"
     ]
    }
   ],
   "source": [
    "shots_df['espresso_enjoyment'].replace({0.0: np.NaN}, inplace=True)\n",
    "\n",
    "shots_df[\"bean_weight\"].replace({0.0: np.NaN}, inplace=True)\n",
    "shots_df[\"bean_weight\"][(shots_df[\"bean_weight\"] < 5.0) | (shots_df[\"bean_weight\"] > 100)] = np.NaN\n",
    "\n",
    "shots_df[\"drink_weight\"].replace({0.0: np.NaN}, inplace=True)\n",
    "shots_df[\"drink_weight\"][(shots_df[\"drink_weight\"] < 5.0) | (shots_df[\"drink_weight\"] > 420)] = np.NaN\n",
    "\n",
    "shots_df[\"drink_tds\"][(shots_df[\"drink_tds\"] <= 0.0) | (shots_df[\"drink_tds\"] > 60)] = np.NaN\n",
    "shots_df[\"drink_ey\"][(shots_df[\"drink_ey\"] <= 0.0) | (shots_df[\"drink_ey\"] > 60)] = np.NaN"
   ]
  },
  {
   "cell_type": "code",
   "execution_count": 23,
   "metadata": {},
   "outputs": [],
   "source": [
    "shots_df.loc[shots_df[\"espresso_enjoyment\"] > 100, \"espresso_enjoyment\"] = np.NaN"
   ]
  },
  {
   "cell_type": "code",
   "execution_count": 24,
   "metadata": {},
   "outputs": [
    {
     "name": "stderr",
     "output_type": "stream",
     "text": [
      "/opt/anaconda3/lib/python3.7/site-packages/ipykernel_launcher.py:1: SettingWithCopyWarning: \n",
      "A value is trying to be set on a copy of a slice from a DataFrame\n",
      "\n",
      "See the caveats in the documentation: https://pandas.pydata.org/pandas-docs/stable/user_guide/indexing.html#returning-a-view-versus-a-copy\n",
      "  \"\"\"Entry point for launching an IPython kernel.\n"
     ]
    }
   ],
   "source": [
    "shots_df[\"roast_date\"][shots_df[\"roast_date\"] > pd.to_datetime(\"today\")] = pd.NaT"
   ]
  },
  {
   "cell_type": "markdown",
   "metadata": {},
   "source": [
    "## Convert time series"
   ]
  },
  {
   "cell_type": "code",
   "execution_count": 41,
   "metadata": {},
   "outputs": [],
   "source": [
    "def fahrenheit_to_celcius(f_degrees):\n",
    "    return (f_degrees - 32) * 5/9\n",
    "\n",
    "shots_ind = shots_df.index[shots_df[\"espresso_temperature_mix\"].apply(np.max) > 120]\n",
    "shots_df.loc[shots_ind, \"espresso_temperature_mix\"] = fahrenheit_to_celcius(shots_df.loc[shots_ind, \"espresso_temperature_mix\"])\n",
    "\n",
    "shots_ind = shots_df.index[shots_df[\"espresso_temperature_goal\"].apply(np.max) > 110]\n",
    "shots_df.loc[shots_ind, \"espresso_temperature_goal\"] = fahrenheit_to_celcius(shots_df.loc[shots_ind, \"espresso_temperature_goal\"])\n",
    "\n",
    "shots_ind = shots_df.index[shots_df[\"espresso_temperature_basket\"].apply(np.max) > 102]\n",
    "shots_df.loc[shots_ind, \"espresso_temperature_basket\"] = fahrenheit_to_celcius(shots_df.loc[shots_ind, \"espresso_temperature_basket\"])"
   ]
  },
  {
   "cell_type": "code",
   "execution_count": 276,
   "metadata": {},
   "outputs": [],
   "source": [
    "def numpy_fill(arr):\n",
    "    '''Solution provided by Divakar.'''\n",
    "    isna = np.isnan(arr)\n",
    "\n",
    "    if not any(isna):\n",
    "        return arr\n",
    "\n",
    "    idx = np.where(~isna, np.arange(isna.shape[0]), 0)\n",
    "    np.maximum.accumulate(idx, axis=0, out=idx)\n",
    "    out = arr[idx]\n",
    "    return out"
   ]
  },
  {
   "cell_type": "code",
   "execution_count": 297,
   "metadata": {},
   "outputs": [],
   "source": [
    "def remove_outliers(weights, max_weight):\n",
    "    if weights is None:\n",
    "        return None\n",
    "    elif all(weights <= 0.7):\n",
    "        return None\n",
    "    if max_weight is None:\n",
    "        max_weight = 150\n",
    "    \n",
    "    weights = np.where(weights < max_weight, weights, np.NaN)\n",
    "    if any(np.isnan(weights)):\n",
    "        weights = numpy_fill(weights)\n",
    "    \n",
    "    weights = np.maximum(weights, 0.0)\n",
    "    return weights\n",
    "\n",
    "shots_df[\"espresso_flow_weight_raw\"] = shots_df[[\"drink_weight\", \"espresso_flow_weight_raw\"]].apply(\n",
    "    lambda x: remove_outliers(x.espresso_flow_weight_raw, x.drink_weight), axis=1)\n",
    "\n",
    "shots_df[\"espresso_flow_weight\"] = shots_df[[\"drink_weight\", \"espresso_flow_weight\"]].apply(\n",
    "    lambda x: remove_outliers(x.espresso_flow_weight, x.drink_weight), axis=1)\n"
   ]
  },
  {
   "cell_type": "markdown",
   "metadata": {},
   "source": [
    "# Saved cleaned file"
   ]
  },
  {
   "cell_type": "code",
   "execution_count": 307,
   "metadata": {},
   "outputs": [
    {
     "data": {
      "text/plain": [
       "{'id': dtype('O'),\n",
       " 'profile_title': dtype('O'),\n",
       " 'user_id': dtype('O'),\n",
       " 'drink_tds': dtype('float64'),\n",
       " 'drink_ey': dtype('float64'),\n",
       " 'espresso_enjoyment': dtype('float64'),\n",
       " 'bean_weight': dtype('float64'),\n",
       " 'drink_weight': dtype('float64'),\n",
       " 'grinder_model': dtype('O'),\n",
       " 'grinder_setting': dtype('float64'),\n",
       " 'bean_brand': dtype('O'),\n",
       " 'bean_type': dtype('O'),\n",
       " 'roast_date': dtype('<M8[ns]'),\n",
       " 'espresso_notes': dtype('O'),\n",
       " 'roast_level': dtype('float64'),\n",
       " 'bean_notes': dtype('O'),\n",
       " 'start_time': dtype('<M8[ns]'),\n",
       " 'image_preview': dtype('O'),\n",
       " 'profile_url': dtype('O'),\n",
       " 'timeframe': dtype('O'),\n",
       " 'espresso_flow': dtype('O'),\n",
       " 'espresso_weight': dtype('O'),\n",
       " 'espresso_pressure': dtype('O'),\n",
       " 'espresso_flow_goal': dtype('O'),\n",
       " 'espresso_resistance': dtype('O'),\n",
       " 'espresso_flow_weight': dtype('O'),\n",
       " 'espresso_state_change': dtype('O'),\n",
       " 'espresso_pressure_goal': dtype('O'),\n",
       " 'espresso_flow_weight_raw': dtype('O'),\n",
       " 'espresso_temperature_mix': dtype('O'),\n",
       " 'espresso_water_dispensed': dtype('O'),\n",
       " 'espresso_temperature_goal': dtype('O'),\n",
       " 'espresso_resistance_weight': dtype('O'),\n",
       " 'espresso_temperature_basket': dtype('O'),\n",
       " 'duration': dtype('float64'),\n",
       " 'user_name': dtype('O'),\n",
       " 'bean_age': dtype('float64')}"
      ]
     },
     "execution_count": 307,
     "metadata": {},
     "output_type": "execute_result"
    }
   ],
   "source": [
    "shots_df.dtypes.to_dict()"
   ]
  },
  {
   "cell_type": "code",
   "execution_count": 308,
   "metadata": {
    "id": "s3c-P9tWlKKH"
   },
   "outputs": [],
   "source": [
    "todate = datetime.date.today().strftime('%Y-%m-%d')\n",
    "shots_df.to_parquet(f\"../data/raw/visualizercoffee_{shots_df.index.size}shots_{todate}_cleaned.parquet\", index=False)"
   ]
  },
  {
   "cell_type": "markdown",
   "metadata": {
    "colab": {
     "base_uri": "https://localhost:8080/",
     "height": 194
    },
    "id": "pCzeR_JtGp_7",
    "outputId": "d4831b80-a857-4c7f-cd2f-a2fdd111fbc7"
   },
   "source": [
    "# Show shot data"
   ]
  },
  {
   "cell_type": "code",
   "execution_count": null,
   "metadata": {
    "id": "IkPcxkjAJD6o"
   },
   "outputs": [],
   "source": []
  }
 ],
 "metadata": {
  "colab": {
   "collapsed_sections": [],
   "name": "Collect VisualizerCoffee Data.ipynb",
   "provenance": []
  },
  "kernelspec": {
   "display_name": "Python 3 (ipykernel)",
   "language": "python",
   "name": "python3"
  },
  "language_info": {
   "codemirror_mode": {
    "name": "ipython",
    "version": 3
   },
   "file_extension": ".py",
   "mimetype": "text/x-python",
   "name": "python",
   "nbconvert_exporter": "python",
   "pygments_lexer": "ipython3",
   "version": "3.7.11"
  }
 },
 "nbformat": 4,
 "nbformat_minor": 4
}
