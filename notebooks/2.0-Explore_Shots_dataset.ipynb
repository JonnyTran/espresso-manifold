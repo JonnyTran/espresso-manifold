{
 "cells": [
  {
   "cell_type": "code",
   "execution_count": 3,
   "id": "69818153-6ea8-414b-95d9-1a2d39f675d1",
   "metadata": {},
   "outputs": [
    {
     "name": "stdout",
     "output_type": "stream",
     "text": [
      "The autoreload extension is already loaded. To reload it, use:\n",
      "  %reload_ext autoreload\n"
     ]
    }
   ],
   "source": [
    "%load_ext autoreload\n",
    "%autoreload 2\n",
    "import io, os, re, logging, sys\n",
    "\n",
    "sys.path.append(\"../\")\n",
    "\n",
    "import requests, tqdm, tarfile, itertools, html, time\n",
    "from dateparser.date import DateDataParser\n",
    "from dateparser import parse\n",
    "\n",
    "import numpy as np\n",
    "import pandas as pd\n",
    "import dask.dataframe as dd\n",
    "\n",
    "import plotly.express as px\n",
    "import plotly.graph_objects as go\n",
    "\n",
    "from statsmodels.nonparametric.smoothers_lowess import lowess\n",
    "\n",
    "from src.visualization.visualize import visualize_shot\n",
    "from src.transformations import *"
   ]
  },
  {
   "cell_type": "markdown",
   "id": "83552bfe-f7d7-4cad-b48a-c3910e3311fe",
   "metadata": {
    "tags": []
   },
   "source": [
    "# Import Dataset"
   ]
  },
  {
   "cell_type": "code",
   "execution_count": 4,
   "id": "5897521e-bd65-440c-9ce7-fa840635a074",
   "metadata": {
    "scrolled": true,
    "tags": []
   },
   "outputs": [
    {
     "data": {
      "text/html": [
       "<div>\n",
       "<style scoped>\n",
       "    .dataframe tbody tr th:only-of-type {\n",
       "        vertical-align: middle;\n",
       "    }\n",
       "\n",
       "    .dataframe tbody tr th {\n",
       "        vertical-align: top;\n",
       "    }\n",
       "\n",
       "    .dataframe thead th {\n",
       "        text-align: right;\n",
       "    }\n",
       "</style>\n",
       "<table border=\"1\" class=\"dataframe\">\n",
       "  <thead>\n",
       "    <tr style=\"text-align: right;\">\n",
       "      <th></th>\n",
       "      <th>id</th>\n",
       "      <th>profile_title</th>\n",
       "      <th>user_id</th>\n",
       "      <th>drink_tds</th>\n",
       "      <th>drink_ey</th>\n",
       "      <th>espresso_enjoyment</th>\n",
       "      <th>bean_weight</th>\n",
       "      <th>drink_weight</th>\n",
       "      <th>grinder_model</th>\n",
       "      <th>grinder_setting</th>\n",
       "      <th>...</th>\n",
       "      <th>espresso_flow_weight_raw</th>\n",
       "      <th>espresso_temperature_mix</th>\n",
       "      <th>espresso_water_dispensed</th>\n",
       "      <th>espresso_temperature_goal</th>\n",
       "      <th>espresso_resistance_weight</th>\n",
       "      <th>espresso_temperature_basket</th>\n",
       "      <th>duration</th>\n",
       "      <th>user_name</th>\n",
       "      <th>bean_age</th>\n",
       "      <th>shot_time</th>\n",
       "    </tr>\n",
       "  </thead>\n",
       "  <tbody>\n",
       "    <tr>\n",
       "      <th>0</th>\n",
       "      <td>14899484-a5f8-4ccc-b372-79700c8150ae</td>\n",
       "      <td>TurboBloom</td>\n",
       "      <td>8d827d10-510f-4475-bd54-63c93b275c16</td>\n",
       "      <td>NaN</td>\n",
       "      <td>NaN</td>\n",
       "      <td>80.0</td>\n",
       "      <td>15.0</td>\n",
       "      <td>35.2</td>\n",
       "      <td>Lagom P64</td>\n",
       "      <td>1.4</td>\n",
       "      <td>...</td>\n",
       "      <td>[0.0, 0.0, 0.0, 0.0, 0.0, 0.0, 0.0, 0.0, 0.0, ...</td>\n",
       "      <td>[86.0, 86.67, 86.31, 82.06, 77.66, 74.73, 73.1...</td>\n",
       "      <td>[0.0, 0.092681884765625, 0.20140380859375, 0.3...</td>\n",
       "      <td>[86.0, 86.0, 86.0, 86.0, 86.0, 86.0, 86.0, 86....</td>\n",
       "      <td>[0.0, 0.0, 0.0, 0.0, 0.0, 0.0, 0.0, 0.0, 0.0, ...</td>\n",
       "      <td>[86.0, 85.12, 85.27, 85.49, 85.38, 85.35, 85.3...</td>\n",
       "      <td>NaN</td>\n",
       "      <td>None</td>\n",
       "      <td>NaN</td>\n",
       "      <td>18.493</td>\n",
       "    </tr>\n",
       "    <tr>\n",
       "      <th>1</th>\n",
       "      <td>76f936ee-5147-40ac-986e-f0f1be5ac97e</td>\n",
       "      <td>Best overall pressure profile</td>\n",
       "      <td>10f1e281-8fd0-4f43-94f6-d416713dabe0</td>\n",
       "      <td>NaN</td>\n",
       "      <td>NaN</td>\n",
       "      <td>NaN</td>\n",
       "      <td>18.0</td>\n",
       "      <td>36.1</td>\n",
       "      <td>Bentwood 63</td>\n",
       "      <td>120.0</td>\n",
       "      <td>...</td>\n",
       "      <td>[0.0, 0.0, 0.0, 0.0, 0.0, 0.0, 0.0, 0.0, 0.0, ...</td>\n",
       "      <td>[88.0, 88.3, 85.79, 85.82, 86.44, 87.32, 88.0,...</td>\n",
       "      <td>[0.0, 0.09389038085937501, 0.18845825195312502...</td>\n",
       "      <td>[88.0, 88.0, 88.0, 88.0, 88.0, 88.0, 88.0, 88....</td>\n",
       "      <td>[0.0, 0.0, 0.0, 0.0, 0.0, 0.0, 0.0, 0.0, 0.0, ...</td>\n",
       "      <td>[88.0, 87.18, 87.39, 87.37, 87.31, 87.23, 87.0...</td>\n",
       "      <td>NaN</td>\n",
       "      <td>None</td>\n",
       "      <td>NaN</td>\n",
       "      <td>29.475</td>\n",
       "    </tr>\n",
       "    <tr>\n",
       "      <th>2</th>\n",
       "      <td>8853ae7c-5bf8-4194-93dd-462de63f1471</td>\n",
       "      <td>Default</td>\n",
       "      <td>30b3dd10-aebb-4f17-ba74-a1efcf2d51ea</td>\n",
       "      <td>NaN</td>\n",
       "      <td>NaN</td>\n",
       "      <td>NaN</td>\n",
       "      <td>NaN</td>\n",
       "      <td>40.3</td>\n",
       "      <td>None</td>\n",
       "      <td>NaN</td>\n",
       "      <td>...</td>\n",
       "      <td>[0.0, 0.0, 0.0, 0.0, 0.0, 0.0, 0.0, 0.0, 0.0, ...</td>\n",
       "      <td>[90.5, 89.87, 87.2, 87.69, 87.95, 87.98, 88.18...</td>\n",
       "      <td>[0.0, 0.10127563476562501, 0.20233764648437502...</td>\n",
       "      <td>[90.5, 90.5, 90.5, 90.5, 90.5, 90.5, 90.5, 90....</td>\n",
       "      <td>[0.0, 0.0, 0.0, 0.0, 0.0, 0.0, 0.0, 0.0, 0.0, ...</td>\n",
       "      <td>[90.5, 87.93, 88.21, 88.23, 88.16, 88.14, 88.1...</td>\n",
       "      <td>NaN</td>\n",
       "      <td>None</td>\n",
       "      <td>NaN</td>\n",
       "      <td>35.054</td>\n",
       "    </tr>\n",
       "    <tr>\n",
       "      <th>3</th>\n",
       "      <td>a4d7a358-fc3f-451c-92f5-756adaa4a7dd</td>\n",
       "      <td>Rao Allongé</td>\n",
       "      <td>c8c4793c-6708-4e81-90e8-6d8a5b30ceee</td>\n",
       "      <td>NaN</td>\n",
       "      <td>NaN</td>\n",
       "      <td>NaN</td>\n",
       "      <td>NaN</td>\n",
       "      <td>124.5</td>\n",
       "      <td>Niche Zero</td>\n",
       "      <td>13.5</td>\n",
       "      <td>...</td>\n",
       "      <td>[0.0, 0.0, 0.0, 0.0, 0.0, 0.0, 0.0, 0.0, 0.0, ...</td>\n",
       "      <td>[92.0, 91.63, 88.9, 87.29, 88.18, 89.33, 90.63...</td>\n",
       "      <td>[0.0, 0.094384765625, 0.19187011718750002, 0.2...</td>\n",
       "      <td>[92.0, 92.0, 92.0, 92.0, 92.0, 92.0, 92.0, 92....</td>\n",
       "      <td>[0.0, 0.0, 0.0, 0.0, 0.0, 0.0, 0.0, 0.0, 0.0, ...</td>\n",
       "      <td>[92.0, 90.0, 90.41, 90.36, 90.35, 90.44, 90.4,...</td>\n",
       "      <td>NaN</td>\n",
       "      <td>None</td>\n",
       "      <td>NaN</td>\n",
       "      <td>40.996</td>\n",
       "    </tr>\n",
       "    <tr>\n",
       "      <th>4</th>\n",
       "      <td>3ebcfff9-fb6f-47f6-a3df-affe01d55150</td>\n",
       "      <td>Londonium</td>\n",
       "      <td>db110ce3-77b7-4c92-9d18-1019c3841cc9</td>\n",
       "      <td>NaN</td>\n",
       "      <td>NaN</td>\n",
       "      <td>NaN</td>\n",
       "      <td>NaN</td>\n",
       "      <td>NaN</td>\n",
       "      <td>None</td>\n",
       "      <td>NaN</td>\n",
       "      <td>...</td>\n",
       "      <td>[0.0, 0.0, 0.0, 0.0, 0.0, 0.0, 0.0, 0.0, 0.0, ...</td>\n",
       "      <td>[89.0, 89.64, 87.11, 87.89, 88.81, 89.41, 89.6...</td>\n",
       "      <td>[0.0, 0.09944458007812501, 0.21490478515625, 0...</td>\n",
       "      <td>[89.0, 89.0, 88.5, 88.5, 88.5, 88.5, 88.5, 88....</td>\n",
       "      <td>[0.0, 0.0, 0.0, 0.0, 0.0, 0.0, 0.0, 0.0, 0.0, ...</td>\n",
       "      <td>[89.0, 87.55, 87.81, 87.75, 87.76, 87.8, 87.74...</td>\n",
       "      <td>NaN</td>\n",
       "      <td>None</td>\n",
       "      <td>NaN</td>\n",
       "      <td>38.787</td>\n",
       "    </tr>\n",
       "  </tbody>\n",
       "</table>\n",
       "<p>5 rows × 38 columns</p>\n",
       "</div>"
      ],
      "text/plain": [
       "                                     id                  profile_title  \\\n",
       "0  14899484-a5f8-4ccc-b372-79700c8150ae                     TurboBloom   \n",
       "1  76f936ee-5147-40ac-986e-f0f1be5ac97e  Best overall pressure profile   \n",
       "2  8853ae7c-5bf8-4194-93dd-462de63f1471                        Default   \n",
       "3  a4d7a358-fc3f-451c-92f5-756adaa4a7dd                    Rao Allongé   \n",
       "4  3ebcfff9-fb6f-47f6-a3df-affe01d55150                      Londonium   \n",
       "\n",
       "                                user_id  drink_tds  drink_ey  \\\n",
       "0  8d827d10-510f-4475-bd54-63c93b275c16        NaN       NaN   \n",
       "1  10f1e281-8fd0-4f43-94f6-d416713dabe0        NaN       NaN   \n",
       "2  30b3dd10-aebb-4f17-ba74-a1efcf2d51ea        NaN       NaN   \n",
       "3  c8c4793c-6708-4e81-90e8-6d8a5b30ceee        NaN       NaN   \n",
       "4  db110ce3-77b7-4c92-9d18-1019c3841cc9        NaN       NaN   \n",
       "\n",
       "   espresso_enjoyment  bean_weight  drink_weight grinder_model  \\\n",
       "0                80.0         15.0          35.2     Lagom P64   \n",
       "1                 NaN         18.0          36.1   Bentwood 63   \n",
       "2                 NaN          NaN          40.3          None   \n",
       "3                 NaN          NaN         124.5    Niche Zero   \n",
       "4                 NaN          NaN           NaN          None   \n",
       "\n",
       "   grinder_setting  ...                           espresso_flow_weight_raw  \\\n",
       "0              1.4  ...  [0.0, 0.0, 0.0, 0.0, 0.0, 0.0, 0.0, 0.0, 0.0, ...   \n",
       "1            120.0  ...  [0.0, 0.0, 0.0, 0.0, 0.0, 0.0, 0.0, 0.0, 0.0, ...   \n",
       "2              NaN  ...  [0.0, 0.0, 0.0, 0.0, 0.0, 0.0, 0.0, 0.0, 0.0, ...   \n",
       "3             13.5  ...  [0.0, 0.0, 0.0, 0.0, 0.0, 0.0, 0.0, 0.0, 0.0, ...   \n",
       "4              NaN  ...  [0.0, 0.0, 0.0, 0.0, 0.0, 0.0, 0.0, 0.0, 0.0, ...   \n",
       "\n",
       "                            espresso_temperature_mix  \\\n",
       "0  [86.0, 86.67, 86.31, 82.06, 77.66, 74.73, 73.1...   \n",
       "1  [88.0, 88.3, 85.79, 85.82, 86.44, 87.32, 88.0,...   \n",
       "2  [90.5, 89.87, 87.2, 87.69, 87.95, 87.98, 88.18...   \n",
       "3  [92.0, 91.63, 88.9, 87.29, 88.18, 89.33, 90.63...   \n",
       "4  [89.0, 89.64, 87.11, 87.89, 88.81, 89.41, 89.6...   \n",
       "\n",
       "                            espresso_water_dispensed  \\\n",
       "0  [0.0, 0.092681884765625, 0.20140380859375, 0.3...   \n",
       "1  [0.0, 0.09389038085937501, 0.18845825195312502...   \n",
       "2  [0.0, 0.10127563476562501, 0.20233764648437502...   \n",
       "3  [0.0, 0.094384765625, 0.19187011718750002, 0.2...   \n",
       "4  [0.0, 0.09944458007812501, 0.21490478515625, 0...   \n",
       "\n",
       "                           espresso_temperature_goal  \\\n",
       "0  [86.0, 86.0, 86.0, 86.0, 86.0, 86.0, 86.0, 86....   \n",
       "1  [88.0, 88.0, 88.0, 88.0, 88.0, 88.0, 88.0, 88....   \n",
       "2  [90.5, 90.5, 90.5, 90.5, 90.5, 90.5, 90.5, 90....   \n",
       "3  [92.0, 92.0, 92.0, 92.0, 92.0, 92.0, 92.0, 92....   \n",
       "4  [89.0, 89.0, 88.5, 88.5, 88.5, 88.5, 88.5, 88....   \n",
       "\n",
       "                          espresso_resistance_weight  \\\n",
       "0  [0.0, 0.0, 0.0, 0.0, 0.0, 0.0, 0.0, 0.0, 0.0, ...   \n",
       "1  [0.0, 0.0, 0.0, 0.0, 0.0, 0.0, 0.0, 0.0, 0.0, ...   \n",
       "2  [0.0, 0.0, 0.0, 0.0, 0.0, 0.0, 0.0, 0.0, 0.0, ...   \n",
       "3  [0.0, 0.0, 0.0, 0.0, 0.0, 0.0, 0.0, 0.0, 0.0, ...   \n",
       "4  [0.0, 0.0, 0.0, 0.0, 0.0, 0.0, 0.0, 0.0, 0.0, ...   \n",
       "\n",
       "                         espresso_temperature_basket duration user_name  \\\n",
       "0  [86.0, 85.12, 85.27, 85.49, 85.38, 85.35, 85.3...      NaN      None   \n",
       "1  [88.0, 87.18, 87.39, 87.37, 87.31, 87.23, 87.0...      NaN      None   \n",
       "2  [90.5, 87.93, 88.21, 88.23, 88.16, 88.14, 88.1...      NaN      None   \n",
       "3  [92.0, 90.0, 90.41, 90.36, 90.35, 90.44, 90.4,...      NaN      None   \n",
       "4  [89.0, 87.55, 87.81, 87.75, 87.76, 87.8, 87.74...      NaN      None   \n",
       "\n",
       "  bean_age shot_time  \n",
       "0      NaN    18.493  \n",
       "1      NaN    29.475  \n",
       "2      NaN    35.054  \n",
       "3      NaN    40.996  \n",
       "4      NaN    38.787  \n",
       "\n",
       "[5 rows x 38 columns]"
      ]
     },
     "execution_count": 4,
     "metadata": {},
     "output_type": "execute_result"
    }
   ],
   "source": [
    "shots_df = pd.read_parquet(\"../data/raw/visualizercoffee_73202shots_2021-12-30_cleaned.parquet\")\n",
    "shots_df.head()"
   ]
  },
  {
   "cell_type": "code",
   "execution_count": 5,
   "id": "cb59e138-0ca8-4eaf-bca4-24156b8dd6c0",
   "metadata": {
    "scrolled": true,
    "tags": []
   },
   "outputs": [
    {
     "data": {
      "text/plain": [
       "id                                     object\n",
       "profile_title                          object\n",
       "user_id                                object\n",
       "drink_tds                             float64\n",
       "drink_ey                              float64\n",
       "espresso_enjoyment                    float64\n",
       "bean_weight                           float64\n",
       "drink_weight                          float64\n",
       "grinder_model                          object\n",
       "grinder_setting                       float64\n",
       "bean_brand                             object\n",
       "bean_type                              object\n",
       "roast_date                     datetime64[ns]\n",
       "espresso_notes                         object\n",
       "roast_level                           float64\n",
       "bean_notes                             object\n",
       "start_time                     datetime64[ns]\n",
       "image_preview                          object\n",
       "profile_url                            object\n",
       "timeframe                              object\n",
       "espresso_flow                          object\n",
       "espresso_weight                        object\n",
       "espresso_pressure                      object\n",
       "espresso_flow_goal                     object\n",
       "espresso_resistance                    object\n",
       "espresso_flow_weight                   object\n",
       "espresso_state_change                  object\n",
       "espresso_pressure_goal                 object\n",
       "espresso_flow_weight_raw               object\n",
       "espresso_temperature_mix               object\n",
       "espresso_water_dispensed               object\n",
       "espresso_temperature_goal              object\n",
       "espresso_resistance_weight             object\n",
       "espresso_temperature_basket            object\n",
       "duration                              float64\n",
       "user_name                              object\n",
       "bean_age                              float64\n",
       "shot_time                             float64\n",
       "dtype: object"
      ]
     },
     "execution_count": 5,
     "metadata": {},
     "output_type": "execute_result"
    }
   ],
   "source": [
    "shots_df.dtypes"
   ]
  },
  {
   "cell_type": "code",
   "execution_count": 6,
   "id": "4e507fb9-34e8-4f62-b4c7-90734a1d71cf",
   "metadata": {},
   "outputs": [
    {
     "data": {
      "text/plain": [
       "Default                          5158\n",
       "Damian's LRv3                    5101\n",
       "Londonium                        3806\n",
       "Damian's LRv2                    3657\n",
       "Gentle and sweet                 3209\n",
       "Blooming Espresso                2706\n",
       "Best overall pressure profile    2207\n",
       "Best practice (medium roast)     2173\n",
       "Adaptive (for medium roasts)     2099\n",
       "Rao Allongé                      1975\n",
       "Cremina lever machine            1741\n",
       "Nu Skool Espresso v3             1251\n",
       "DEK/Blooming Espresso             740\n",
       "Gagné/Adaptive Shot 94C v1.0      706\n",
       "Traditional lever machine         690\n",
       "Best practice (light roast)       646\n",
       "Tea portafilter/black tea         589\n",
       "Hendon Turbo 6b Decline           583\n",
       "Classic Italian espresso          555\n",
       "TurboBloom                        549\n",
       "Name: profile_title, dtype: int64"
      ]
     },
     "execution_count": 6,
     "metadata": {},
     "output_type": "execute_result"
    }
   ],
   "source": [
    "most_popular_profiles = shots_df[\"profile_title\"].value_counts()[:20]\n",
    "most_popular_profiles"
   ]
  },
  {
   "cell_type": "markdown",
   "id": "e3cf5562-7749-48bb-a333-ed361f4b0fb2",
   "metadata": {
    "jp-MarkdownHeadingCollapsed": true,
    "tags": []
   },
   "source": [
    "# Visualize distribution of features"
   ]
  },
  {
   "cell_type": "code",
   "execution_count": null,
   "id": "e687fdd5-f349-4c1c-8db0-b11d845c27e5",
   "metadata": {},
   "outputs": [],
   "source": [
    "pos_ratings = shots_df[\"espresso_enjoyment\"][shots_df[\"espresso_enjoyment\"]!=0]\n",
    "px.histogram(pos_ratings, \n",
    "             title=f\"Distribution of espresso_enjoyment user ratings.\"\n",
    "             f\"<br># of pos ratings = {pos_ratings.shape[0]}, # of 0 or null ratings = {(shots_df['espresso_enjoyment']==0).shape}\").show(renderer=\"png\")"
   ]
  },
  {
   "cell_type": "code",
   "execution_count": null,
   "id": "38b66b6f-dbfb-49ea-980d-e7d1fb48e061",
   "metadata": {},
   "outputs": [],
   "source": [
    "fig = px.histogram(shots_df.groupby(\"user_id\")[\"id\"].count().sort_values(), title=f\"Distribution of number of shots across {shots_df['user_id'].nunique()} user.\")\n",
    "fig.update_layout(xaxis_title=\"# of espressos made per user\", yaxis_title=\"Number of users\").show(renderer=\"png\")"
   ]
  },
  {
   "cell_type": "code",
   "execution_count": null,
   "id": "95ca1155-9df5-48a1-b926-6f1154f1c620",
   "metadata": {},
   "outputs": [],
   "source": [
    "fig = px.strip(shots_df[shots_df[\"espresso_enjoyment\"]!=0].sort_values(\"start_time\"), \n",
    "               x=\"user_id\", y=\"espresso_enjoyment\",\n",
    "               height=500,width=2000,\n",
    "               title=\"Distribution of ratings per user, sorted by `start_time`\")\n",
    "fig.update_xaxes(\n",
    "    visible=False\n",
    ")\n",
    "fig.show(renderer=\"png\")"
   ]
  },
  {
   "cell_type": "code",
   "execution_count": null,
   "id": "b5ab3084-b292-44ea-a9ba-deea88f137b9",
   "metadata": {},
   "outputs": [],
   "source": [
    "df = shots_df[shots_df[\"profile_title\"].isin(most_popular_profiles.index[:14])]\n",
    "df = df[df[\"espresso_enjoyment\"]!=0]\n",
    "fig = px.violin(df, x=\"profile_title\", y=\"espresso_enjoyment\", #facet_col=\"profile_title\",\n",
    "               height=500,width=2000, color=\"profile_title\",\n",
    "               title=\"Distribution of ratings per profile\")\n",
    "fig.show(renderer=\"png\")"
   ]
  },
  {
   "cell_type": "code",
   "execution_count": null,
   "id": "4e49f6fc-4576-4357-89b0-881a887eb975",
   "metadata": {},
   "outputs": [],
   "source": [
    "df = shots_df[shots_df[\"profile_title\"].isin(most_popular_profiles.index[:12])]\n",
    "\n",
    "fig = px.box(df, x=\"shot_time\", y=\"profile_title\", #facet_col=\"profile_title\",\n",
    "               height=500, width=2000, color=\"profile_title\",\n",
    "               title=\"Distribution of shot duration per profile\")\n",
    "fig.show(renderer=\"png\")"
   ]
  },
  {
   "cell_type": "code",
   "execution_count": null,
   "id": "5fe24e88-e030-4a5b-9f49-0f36f40b0b28",
   "metadata": {},
   "outputs": [],
   "source": [
    "px.scatter(shots_df[(shots_df[\"espresso_enjoyment\"]!=0) & shots_df[\"roast_level\"].isin(['Medium', 'Light', 'medium', \n",
    "                                                                                        'light', 'dark', 'Med', 'espresso',\n",
    "                                                                                        'Medium-Light', 'Medium Light'])], \n",
    "           x=\"bean_age\", y=\"espresso_enjoyment\", color=\"roast_level\", width=1500).show(renderer=\"png\")"
   ]
  },
  {
   "cell_type": "markdown",
   "id": "dbf2db79-4fc0-48da-8be4-94203a5bbf57",
   "metadata": {
    "id": "EDwGf8T7h2hZ"
   },
   "source": [
    "# Visualize shot series"
   ]
  },
  {
   "cell_type": "code",
   "execution_count": 8,
   "id": "45f4257c-6346-464c-b113-054430b8bf0c",
   "metadata": {},
   "outputs": [],
   "source": [
    "def timeseries_to_df(values, timeframe):\n",
    "    try:\n",
    "        time_index = pd.TimedeltaIndex(timeframe, unit=\"seconds\", name=\"seconds\")\n",
    "        some_series = values[list(values.keys())[0]]\n",
    "\n",
    "        if some_series.shape[0] < time_index.shape[0]:\n",
    "            # print(\"Clipping timeframe\", some_series.shape, time_index.shape)\n",
    "            time_index = time_index[:some_series.shape[0]]\n",
    "            \n",
    "        elif some_series.shape[0] > time_index.shape[0]:\n",
    "            # print(\"Clipping series\", some_series.shape, time_index.shape)\n",
    "            values = {k: v[:time_index.shape[0]] for k,v in values.items()}\n",
    "\n",
    "        return pd.DataFrame(values, index=time_index)\n",
    "    \n",
    "    except Exception as e:\n",
    "        print(e)\n",
    "        return None"
   ]
  },
  {
   "cell_type": "code",
   "execution_count": null,
   "id": "d6b43b58-719e-4857-9da2-5ea5c0341e84",
   "metadata": {
    "scrolled": true,
    "tags": []
   },
   "outputs": [
    {
     "name": "stdout",
     "output_type": "stream",
     "text": [
      "5101\n"
     ]
    },
    {
     "data": {
      "text/html": [
       "<div>\n",
       "<style scoped>\n",
       "    .dataframe tbody tr th:only-of-type {\n",
       "        vertical-align: middle;\n",
       "    }\n",
       "\n",
       "    .dataframe tbody tr th {\n",
       "        vertical-align: top;\n",
       "    }\n",
       "\n",
       "    .dataframe thead th {\n",
       "        text-align: right;\n",
       "    }\n",
       "</style>\n",
       "<table border=\"1\" class=\"dataframe\">\n",
       "  <thead>\n",
       "    <tr style=\"text-align: right;\">\n",
       "      <th></th>\n",
       "      <th></th>\n",
       "      <th>espresso_flow</th>\n",
       "      <th>espresso_weight</th>\n",
       "      <th>espresso_pressure</th>\n",
       "      <th>espresso_flow_goal</th>\n",
       "      <th>espresso_resistance</th>\n",
       "      <th>espresso_flow_weight</th>\n",
       "      <th>espresso_state_change</th>\n",
       "      <th>espresso_pressure_goal</th>\n",
       "      <th>espresso_flow_weight_raw</th>\n",
       "      <th>espresso_temperature_mix</th>\n",
       "      <th>espresso_water_dispensed</th>\n",
       "      <th>espresso_temperature_goal</th>\n",
       "      <th>espresso_resistance_weight</th>\n",
       "      <th>espresso_temperature_basket</th>\n",
       "    </tr>\n",
       "    <tr>\n",
       "      <th>id</th>\n",
       "      <th>seconds</th>\n",
       "      <th></th>\n",
       "      <th></th>\n",
       "      <th></th>\n",
       "      <th></th>\n",
       "      <th></th>\n",
       "      <th></th>\n",
       "      <th></th>\n",
       "      <th></th>\n",
       "      <th></th>\n",
       "      <th></th>\n",
       "      <th></th>\n",
       "      <th></th>\n",
       "      <th></th>\n",
       "      <th></th>\n",
       "    </tr>\n",
       "  </thead>\n",
       "  <tbody>\n",
       "    <tr>\n",
       "      <th rowspan=\"5\" valign=\"top\">14</th>\n",
       "      <th>0 days 00:00:00</th>\n",
       "      <td>0.00</td>\n",
       "      <td>0.00</td>\n",
       "      <td>0.00</td>\n",
       "      <td>-1.0</td>\n",
       "      <td>0.00</td>\n",
       "      <td>0.00</td>\n",
       "      <td>0.0</td>\n",
       "      <td>-1.0</td>\n",
       "      <td>0.00</td>\n",
       "      <td>90.00</td>\n",
       "      <td>0.000000</td>\n",
       "      <td>90.0</td>\n",
       "      <td>0.0</td>\n",
       "      <td>90.00</td>\n",
       "    </tr>\n",
       "    <tr>\n",
       "      <th>0 days 00:00:00.005000</th>\n",
       "      <td>4.00</td>\n",
       "      <td>0.00</td>\n",
       "      <td>0.17</td>\n",
       "      <td>-1.0</td>\n",
       "      <td>0.01</td>\n",
       "      <td>0.00</td>\n",
       "      <td>10000000.0</td>\n",
       "      <td>2.0</td>\n",
       "      <td>0.00</td>\n",
       "      <td>90.35</td>\n",
       "      <td>0.099878</td>\n",
       "      <td>90.0</td>\n",
       "      <td>0.0</td>\n",
       "      <td>87.01</td>\n",
       "    </tr>\n",
       "    <tr>\n",
       "      <th>0 days 00:00:00.273000</th>\n",
       "      <td>4.72</td>\n",
       "      <td>0.00</td>\n",
       "      <td>0.15</td>\n",
       "      <td>-1.0</td>\n",
       "      <td>0.01</td>\n",
       "      <td>0.00</td>\n",
       "      <td>10000000.0</td>\n",
       "      <td>2.0</td>\n",
       "      <td>0.00</td>\n",
       "      <td>87.80</td>\n",
       "      <td>0.217828</td>\n",
       "      <td>90.0</td>\n",
       "      <td>0.0</td>\n",
       "      <td>87.19</td>\n",
       "    </tr>\n",
       "    <tr>\n",
       "      <th>0 days 00:00:00.503000</th>\n",
       "      <td>5.31</td>\n",
       "      <td>0.00</td>\n",
       "      <td>0.36</td>\n",
       "      <td>-1.0</td>\n",
       "      <td>0.01</td>\n",
       "      <td>0.00</td>\n",
       "      <td>10000000.0</td>\n",
       "      <td>2.0</td>\n",
       "      <td>0.00</td>\n",
       "      <td>89.12</td>\n",
       "      <td>0.350488</td>\n",
       "      <td>90.0</td>\n",
       "      <td>0.0</td>\n",
       "      <td>87.39</td>\n",
       "    </tr>\n",
       "    <tr>\n",
       "      <th>0 days 00:00:00.764000</th>\n",
       "      <td>5.68</td>\n",
       "      <td>0.00</td>\n",
       "      <td>0.62</td>\n",
       "      <td>-1.0</td>\n",
       "      <td>0.02</td>\n",
       "      <td>0.00</td>\n",
       "      <td>10000000.0</td>\n",
       "      <td>2.0</td>\n",
       "      <td>0.00</td>\n",
       "      <td>90.18</td>\n",
       "      <td>0.492499</td>\n",
       "      <td>90.0</td>\n",
       "      <td>0.0</td>\n",
       "      <td>87.72</td>\n",
       "    </tr>\n",
       "    <tr>\n",
       "      <th>...</th>\n",
       "      <th>...</th>\n",
       "      <td>...</td>\n",
       "      <td>...</td>\n",
       "      <td>...</td>\n",
       "      <td>...</td>\n",
       "      <td>...</td>\n",
       "      <td>...</td>\n",
       "      <td>...</td>\n",
       "      <td>...</td>\n",
       "      <td>...</td>\n",
       "      <td>...</td>\n",
       "      <td>...</td>\n",
       "      <td>...</td>\n",
       "      <td>...</td>\n",
       "      <td>...</td>\n",
       "    </tr>\n",
       "    <tr>\n",
       "      <th rowspan=\"5\" valign=\"top\">72613</th>\n",
       "      <th>0 days 00:00:47.789000</th>\n",
       "      <td>3.91</td>\n",
       "      <td>40.42</td>\n",
       "      <td>0.21</td>\n",
       "      <td>4.0</td>\n",
       "      <td>NaN</td>\n",
       "      <td>0.72</td>\n",
       "      <td>NaN</td>\n",
       "      <td>-1.0</td>\n",
       "      <td>0.05</td>\n",
       "      <td>89.75</td>\n",
       "      <td>10.103209</td>\n",
       "      <td>89.0</td>\n",
       "      <td>NaN</td>\n",
       "      <td>89.25</td>\n",
       "    </tr>\n",
       "    <tr>\n",
       "      <th>0 days 00:00:48.104000</th>\n",
       "      <td>3.89</td>\n",
       "      <td>40.62</td>\n",
       "      <td>0.20</td>\n",
       "      <td>4.0</td>\n",
       "      <td>NaN</td>\n",
       "      <td>0.62</td>\n",
       "      <td>NaN</td>\n",
       "      <td>-1.0</td>\n",
       "      <td>0.05</td>\n",
       "      <td>89.72</td>\n",
       "      <td>10.200334</td>\n",
       "      <td>89.0</td>\n",
       "      <td>NaN</td>\n",
       "      <td>89.35</td>\n",
       "    </tr>\n",
       "    <tr>\n",
       "      <th>0 days 00:00:48.284000</th>\n",
       "      <td>3.88</td>\n",
       "      <td>40.74</td>\n",
       "      <td>0.21</td>\n",
       "      <td>4.0</td>\n",
       "      <td>NaN</td>\n",
       "      <td>0.56</td>\n",
       "      <td>NaN</td>\n",
       "      <td>-1.0</td>\n",
       "      <td>0.05</td>\n",
       "      <td>89.49</td>\n",
       "      <td>10.297325</td>\n",
       "      <td>89.0</td>\n",
       "      <td>NaN</td>\n",
       "      <td>89.31</td>\n",
       "    </tr>\n",
       "    <tr>\n",
       "      <th>0 days 00:00:48.554000</th>\n",
       "      <td>3.93</td>\n",
       "      <td>40.84</td>\n",
       "      <td>0.20</td>\n",
       "      <td>4.0</td>\n",
       "      <td>NaN</td>\n",
       "      <td>0.52</td>\n",
       "      <td>NaN</td>\n",
       "      <td>-1.0</td>\n",
       "      <td>0.10</td>\n",
       "      <td>89.69</td>\n",
       "      <td>10.395494</td>\n",
       "      <td>89.0</td>\n",
       "      <td>NaN</td>\n",
       "      <td>89.20</td>\n",
       "    </tr>\n",
       "    <tr>\n",
       "      <th>0 days 00:00:48.869000</th>\n",
       "      <td>3.95</td>\n",
       "      <td>41.02</td>\n",
       "      <td>0.18</td>\n",
       "      <td>4.0</td>\n",
       "      <td>NaN</td>\n",
       "      <td>0.43</td>\n",
       "      <td>NaN</td>\n",
       "      <td>-1.0</td>\n",
       "      <td>0.00</td>\n",
       "      <td>89.49</td>\n",
       "      <td>10.494255</td>\n",
       "      <td>89.0</td>\n",
       "      <td>NaN</td>\n",
       "      <td>89.24</td>\n",
       "    </tr>\n",
       "  </tbody>\n",
       "</table>\n",
       "<p>843117 rows × 14 columns</p>\n",
       "</div>"
      ],
      "text/plain": [
       "                              espresso_flow  espresso_weight  \\\n",
       "id    seconds                                                  \n",
       "14    0 days 00:00:00                  0.00             0.00   \n",
       "      0 days 00:00:00.005000           4.00             0.00   \n",
       "      0 days 00:00:00.273000           4.72             0.00   \n",
       "      0 days 00:00:00.503000           5.31             0.00   \n",
       "      0 days 00:00:00.764000           5.68             0.00   \n",
       "...                                     ...              ...   \n",
       "72613 0 days 00:00:47.789000           3.91            40.42   \n",
       "      0 days 00:00:48.104000           3.89            40.62   \n",
       "      0 days 00:00:48.284000           3.88            40.74   \n",
       "      0 days 00:00:48.554000           3.93            40.84   \n",
       "      0 days 00:00:48.869000           3.95            41.02   \n",
       "\n",
       "                              espresso_pressure  espresso_flow_goal  \\\n",
       "id    seconds                                                         \n",
       "14    0 days 00:00:00                      0.00                -1.0   \n",
       "      0 days 00:00:00.005000               0.17                -1.0   \n",
       "      0 days 00:00:00.273000               0.15                -1.0   \n",
       "      0 days 00:00:00.503000               0.36                -1.0   \n",
       "      0 days 00:00:00.764000               0.62                -1.0   \n",
       "...                                         ...                 ...   \n",
       "72613 0 days 00:00:47.789000               0.21                 4.0   \n",
       "      0 days 00:00:48.104000               0.20                 4.0   \n",
       "      0 days 00:00:48.284000               0.21                 4.0   \n",
       "      0 days 00:00:48.554000               0.20                 4.0   \n",
       "      0 days 00:00:48.869000               0.18                 4.0   \n",
       "\n",
       "                              espresso_resistance  espresso_flow_weight  \\\n",
       "id    seconds                                                             \n",
       "14    0 days 00:00:00                        0.00                  0.00   \n",
       "      0 days 00:00:00.005000                 0.01                  0.00   \n",
       "      0 days 00:00:00.273000                 0.01                  0.00   \n",
       "      0 days 00:00:00.503000                 0.01                  0.00   \n",
       "      0 days 00:00:00.764000                 0.02                  0.00   \n",
       "...                                           ...                   ...   \n",
       "72613 0 days 00:00:47.789000                  NaN                  0.72   \n",
       "      0 days 00:00:48.104000                  NaN                  0.62   \n",
       "      0 days 00:00:48.284000                  NaN                  0.56   \n",
       "      0 days 00:00:48.554000                  NaN                  0.52   \n",
       "      0 days 00:00:48.869000                  NaN                  0.43   \n",
       "\n",
       "                              espresso_state_change  espresso_pressure_goal  \\\n",
       "id    seconds                                                                 \n",
       "14    0 days 00:00:00                           0.0                    -1.0   \n",
       "      0 days 00:00:00.005000             10000000.0                     2.0   \n",
       "      0 days 00:00:00.273000             10000000.0                     2.0   \n",
       "      0 days 00:00:00.503000             10000000.0                     2.0   \n",
       "      0 days 00:00:00.764000             10000000.0                     2.0   \n",
       "...                                             ...                     ...   \n",
       "72613 0 days 00:00:47.789000                    NaN                    -1.0   \n",
       "      0 days 00:00:48.104000                    NaN                    -1.0   \n",
       "      0 days 00:00:48.284000                    NaN                    -1.0   \n",
       "      0 days 00:00:48.554000                    NaN                    -1.0   \n",
       "      0 days 00:00:48.869000                    NaN                    -1.0   \n",
       "\n",
       "                              espresso_flow_weight_raw  \\\n",
       "id    seconds                                            \n",
       "14    0 days 00:00:00                             0.00   \n",
       "      0 days 00:00:00.005000                      0.00   \n",
       "      0 days 00:00:00.273000                      0.00   \n",
       "      0 days 00:00:00.503000                      0.00   \n",
       "      0 days 00:00:00.764000                      0.00   \n",
       "...                                                ...   \n",
       "72613 0 days 00:00:47.789000                      0.05   \n",
       "      0 days 00:00:48.104000                      0.05   \n",
       "      0 days 00:00:48.284000                      0.05   \n",
       "      0 days 00:00:48.554000                      0.10   \n",
       "      0 days 00:00:48.869000                      0.00   \n",
       "\n",
       "                              espresso_temperature_mix  \\\n",
       "id    seconds                                            \n",
       "14    0 days 00:00:00                            90.00   \n",
       "      0 days 00:00:00.005000                     90.35   \n",
       "      0 days 00:00:00.273000                     87.80   \n",
       "      0 days 00:00:00.503000                     89.12   \n",
       "      0 days 00:00:00.764000                     90.18   \n",
       "...                                                ...   \n",
       "72613 0 days 00:00:47.789000                     89.75   \n",
       "      0 days 00:00:48.104000                     89.72   \n",
       "      0 days 00:00:48.284000                     89.49   \n",
       "      0 days 00:00:48.554000                     89.69   \n",
       "      0 days 00:00:48.869000                     89.49   \n",
       "\n",
       "                              espresso_water_dispensed  \\\n",
       "id    seconds                                            \n",
       "14    0 days 00:00:00                         0.000000   \n",
       "      0 days 00:00:00.005000                  0.099878   \n",
       "      0 days 00:00:00.273000                  0.217828   \n",
       "      0 days 00:00:00.503000                  0.350488   \n",
       "      0 days 00:00:00.764000                  0.492499   \n",
       "...                                                ...   \n",
       "72613 0 days 00:00:47.789000                 10.103209   \n",
       "      0 days 00:00:48.104000                 10.200334   \n",
       "      0 days 00:00:48.284000                 10.297325   \n",
       "      0 days 00:00:48.554000                 10.395494   \n",
       "      0 days 00:00:48.869000                 10.494255   \n",
       "\n",
       "                              espresso_temperature_goal  \\\n",
       "id    seconds                                             \n",
       "14    0 days 00:00:00                              90.0   \n",
       "      0 days 00:00:00.005000                       90.0   \n",
       "      0 days 00:00:00.273000                       90.0   \n",
       "      0 days 00:00:00.503000                       90.0   \n",
       "      0 days 00:00:00.764000                       90.0   \n",
       "...                                                 ...   \n",
       "72613 0 days 00:00:47.789000                       89.0   \n",
       "      0 days 00:00:48.104000                       89.0   \n",
       "      0 days 00:00:48.284000                       89.0   \n",
       "      0 days 00:00:48.554000                       89.0   \n",
       "      0 days 00:00:48.869000                       89.0   \n",
       "\n",
       "                              espresso_resistance_weight  \\\n",
       "id    seconds                                              \n",
       "14    0 days 00:00:00                                0.0   \n",
       "      0 days 00:00:00.005000                         0.0   \n",
       "      0 days 00:00:00.273000                         0.0   \n",
       "      0 days 00:00:00.503000                         0.0   \n",
       "      0 days 00:00:00.764000                         0.0   \n",
       "...                                                  ...   \n",
       "72613 0 days 00:00:47.789000                         NaN   \n",
       "      0 days 00:00:48.104000                         NaN   \n",
       "      0 days 00:00:48.284000                         NaN   \n",
       "      0 days 00:00:48.554000                         NaN   \n",
       "      0 days 00:00:48.869000                         NaN   \n",
       "\n",
       "                              espresso_temperature_basket  \n",
       "id    seconds                                              \n",
       "14    0 days 00:00:00                               90.00  \n",
       "      0 days 00:00:00.005000                        87.01  \n",
       "      0 days 00:00:00.273000                        87.19  \n",
       "      0 days 00:00:00.503000                        87.39  \n",
       "      0 days 00:00:00.764000                        87.72  \n",
       "...                                                   ...  \n",
       "72613 0 days 00:00:47.789000                        89.25  \n",
       "      0 days 00:00:48.104000                        89.35  \n",
       "      0 days 00:00:48.284000                        89.31  \n",
       "      0 days 00:00:48.554000                        89.20  \n",
       "      0 days 00:00:48.869000                        89.24  \n",
       "\n",
       "[843117 rows x 14 columns]"
      ]
     },
     "execution_count": 26,
     "metadata": {},
     "output_type": "execute_result"
    }
   ],
   "source": [
    "profile = \"Damian's LRv3\"\n",
    "\n",
    "samples = shots_df.index[shots_df[\"profile_title\"]==profile]\n",
    "print(len(samples))\n",
    "\n",
    "shots_series = to_shot_series(shots_df.loc[samples])\n",
    "shots_series"
   ]
  },
  {
   "cell_type": "code",
   "execution_count": 12,
   "id": "af92a229-81bf-4c33-8d19-ec72d90ddb4d",
   "metadata": {},
   "outputs": [
    {
     "data": {
      "text/html": [
       "<div>\n",
       "<style scoped>\n",
       "    .dataframe tbody tr th:only-of-type {\n",
       "        vertical-align: middle;\n",
       "    }\n",
       "\n",
       "    .dataframe tbody tr th {\n",
       "        vertical-align: top;\n",
       "    }\n",
       "\n",
       "    .dataframe thead th {\n",
       "        text-align: right;\n",
       "    }\n",
       "</style>\n",
       "<table border=\"1\" class=\"dataframe\">\n",
       "  <thead>\n",
       "    <tr style=\"text-align: right;\">\n",
       "      <th></th>\n",
       "      <th></th>\n",
       "      <th>espresso_flow</th>\n",
       "      <th>espresso_weight</th>\n",
       "      <th>espresso_pressure</th>\n",
       "      <th>espresso_flow_goal</th>\n",
       "      <th>espresso_resistance</th>\n",
       "      <th>espresso_flow_weight</th>\n",
       "      <th>espresso_state_change</th>\n",
       "      <th>espresso_pressure_goal</th>\n",
       "      <th>espresso_flow_weight_raw</th>\n",
       "      <th>espresso_temperature_mix</th>\n",
       "      <th>espresso_water_dispensed</th>\n",
       "      <th>espresso_temperature_goal</th>\n",
       "      <th>espresso_resistance_weight</th>\n",
       "      <th>espresso_temperature_basket</th>\n",
       "    </tr>\n",
       "    <tr>\n",
       "      <th>id</th>\n",
       "      <th>seconds</th>\n",
       "      <th></th>\n",
       "      <th></th>\n",
       "      <th></th>\n",
       "      <th></th>\n",
       "      <th></th>\n",
       "      <th></th>\n",
       "      <th></th>\n",
       "      <th></th>\n",
       "      <th></th>\n",
       "      <th></th>\n",
       "      <th></th>\n",
       "      <th></th>\n",
       "      <th></th>\n",
       "      <th></th>\n",
       "    </tr>\n",
       "  </thead>\n",
       "  <tbody>\n",
       "    <tr>\n",
       "      <th rowspan=\"5\" valign=\"top\">14</th>\n",
       "      <th>0 days 00:00:00</th>\n",
       "      <td>2.906667</td>\n",
       "      <td>0.000</td>\n",
       "      <td>0.106667</td>\n",
       "      <td>-1.0</td>\n",
       "      <td>0.006667</td>\n",
       "      <td>0.000</td>\n",
       "      <td>6.666667e+06</td>\n",
       "      <td>1.0</td>\n",
       "      <td>0.000</td>\n",
       "      <td>89.383333</td>\n",
       "      <td>0.105902</td>\n",
       "      <td>90.0</td>\n",
       "      <td>0.0</td>\n",
       "      <td>88.066667</td>\n",
       "    </tr>\n",
       "    <tr>\n",
       "      <th>0 days 00:00:00.500000</th>\n",
       "      <td>5.495000</td>\n",
       "      <td>0.000</td>\n",
       "      <td>0.490000</td>\n",
       "      <td>-1.0</td>\n",
       "      <td>0.015000</td>\n",
       "      <td>0.000</td>\n",
       "      <td>1.000000e+07</td>\n",
       "      <td>2.0</td>\n",
       "      <td>0.000</td>\n",
       "      <td>89.650000</td>\n",
       "      <td>0.421494</td>\n",
       "      <td>90.0</td>\n",
       "      <td>0.0</td>\n",
       "      <td>87.555000</td>\n",
       "    </tr>\n",
       "    <tr>\n",
       "      <th>0 days 00:00:01</th>\n",
       "      <td>6.030000</td>\n",
       "      <td>0.000</td>\n",
       "      <td>0.640000</td>\n",
       "      <td>-1.0</td>\n",
       "      <td>0.020000</td>\n",
       "      <td>0.000</td>\n",
       "      <td>1.000000e+07</td>\n",
       "      <td>2.0</td>\n",
       "      <td>0.000</td>\n",
       "      <td>91.165000</td>\n",
       "      <td>0.717599</td>\n",
       "      <td>90.0</td>\n",
       "      <td>0.0</td>\n",
       "      <td>88.110000</td>\n",
       "    </tr>\n",
       "    <tr>\n",
       "      <th>0 days 00:00:01.500000</th>\n",
       "      <td>6.335000</td>\n",
       "      <td>0.000</td>\n",
       "      <td>0.710000</td>\n",
       "      <td>-1.0</td>\n",
       "      <td>0.020000</td>\n",
       "      <td>0.000</td>\n",
       "      <td>1.000000e+07</td>\n",
       "      <td>2.0</td>\n",
       "      <td>0.000</td>\n",
       "      <td>91.620000</td>\n",
       "      <td>1.030920</td>\n",
       "      <td>90.0</td>\n",
       "      <td>0.0</td>\n",
       "      <td>88.700000</td>\n",
       "    </tr>\n",
       "    <tr>\n",
       "      <th>0 days 00:00:02</th>\n",
       "      <td>6.605000</td>\n",
       "      <td>0.000</td>\n",
       "      <td>0.800000</td>\n",
       "      <td>-1.0</td>\n",
       "      <td>0.020000</td>\n",
       "      <td>0.000</td>\n",
       "      <td>1.000000e+07</td>\n",
       "      <td>2.0</td>\n",
       "      <td>0.000</td>\n",
       "      <td>91.415000</td>\n",
       "      <td>1.357886</td>\n",
       "      <td>90.0</td>\n",
       "      <td>0.0</td>\n",
       "      <td>89.055000</td>\n",
       "    </tr>\n",
       "    <tr>\n",
       "      <th>...</th>\n",
       "      <th>...</th>\n",
       "      <td>...</td>\n",
       "      <td>...</td>\n",
       "      <td>...</td>\n",
       "      <td>...</td>\n",
       "      <td>...</td>\n",
       "      <td>...</td>\n",
       "      <td>...</td>\n",
       "      <td>...</td>\n",
       "      <td>...</td>\n",
       "      <td>...</td>\n",
       "      <td>...</td>\n",
       "      <td>...</td>\n",
       "      <td>...</td>\n",
       "      <td>...</td>\n",
       "    </tr>\n",
       "    <tr>\n",
       "      <th rowspan=\"5\" valign=\"top\">72613</th>\n",
       "      <th>0 days 00:00:46.500000</th>\n",
       "      <td>3.650000</td>\n",
       "      <td>39.450</td>\n",
       "      <td>0.305000</td>\n",
       "      <td>4.0</td>\n",
       "      <td>NaN</td>\n",
       "      <td>1.240</td>\n",
       "      <td>NaN</td>\n",
       "      <td>-1.0</td>\n",
       "      <td>0.500</td>\n",
       "      <td>89.690000</td>\n",
       "      <td>9.674013</td>\n",
       "      <td>89.0</td>\n",
       "      <td>NaN</td>\n",
       "      <td>89.510000</td>\n",
       "    </tr>\n",
       "    <tr>\n",
       "      <th>0 days 00:00:47</th>\n",
       "      <td>3.780000</td>\n",
       "      <td>39.935</td>\n",
       "      <td>0.305000</td>\n",
       "      <td>4.0</td>\n",
       "      <td>NaN</td>\n",
       "      <td>0.970</td>\n",
       "      <td>NaN</td>\n",
       "      <td>-1.0</td>\n",
       "      <td>-0.025</td>\n",
       "      <td>89.650000</td>\n",
       "      <td>9.861723</td>\n",
       "      <td>89.0</td>\n",
       "      <td>NaN</td>\n",
       "      <td>89.375000</td>\n",
       "    </tr>\n",
       "    <tr>\n",
       "      <th>0 days 00:00:47.500000</th>\n",
       "      <td>3.880000</td>\n",
       "      <td>40.350</td>\n",
       "      <td>0.230000</td>\n",
       "      <td>4.0</td>\n",
       "      <td>NaN</td>\n",
       "      <td>0.755</td>\n",
       "      <td>NaN</td>\n",
       "      <td>-1.0</td>\n",
       "      <td>0.025</td>\n",
       "      <td>89.685000</td>\n",
       "      <td>10.054381</td>\n",
       "      <td>89.0</td>\n",
       "      <td>NaN</td>\n",
       "      <td>89.305000</td>\n",
       "    </tr>\n",
       "    <tr>\n",
       "      <th>0 days 00:00:48</th>\n",
       "      <td>3.885000</td>\n",
       "      <td>40.680</td>\n",
       "      <td>0.205000</td>\n",
       "      <td>4.0</td>\n",
       "      <td>NaN</td>\n",
       "      <td>0.590</td>\n",
       "      <td>NaN</td>\n",
       "      <td>-1.0</td>\n",
       "      <td>0.050</td>\n",
       "      <td>89.605000</td>\n",
       "      <td>10.248829</td>\n",
       "      <td>89.0</td>\n",
       "      <td>NaN</td>\n",
       "      <td>89.330000</td>\n",
       "    </tr>\n",
       "    <tr>\n",
       "      <th>0 days 00:00:48.500000</th>\n",
       "      <td>3.940000</td>\n",
       "      <td>40.930</td>\n",
       "      <td>0.190000</td>\n",
       "      <td>4.0</td>\n",
       "      <td>NaN</td>\n",
       "      <td>0.475</td>\n",
       "      <td>NaN</td>\n",
       "      <td>-1.0</td>\n",
       "      <td>0.050</td>\n",
       "      <td>89.590000</td>\n",
       "      <td>10.444874</td>\n",
       "      <td>89.0</td>\n",
       "      <td>NaN</td>\n",
       "      <td>89.220000</td>\n",
       "    </tr>\n",
       "  </tbody>\n",
       "</table>\n",
       "<p>378717 rows × 14 columns</p>\n",
       "</div>"
      ],
      "text/plain": [
       "                              espresso_flow  espresso_weight  \\\n",
       "id    seconds                                                  \n",
       "14    0 days 00:00:00              2.906667            0.000   \n",
       "      0 days 00:00:00.500000       5.495000            0.000   \n",
       "      0 days 00:00:01              6.030000            0.000   \n",
       "      0 days 00:00:01.500000       6.335000            0.000   \n",
       "      0 days 00:00:02              6.605000            0.000   \n",
       "...                                     ...              ...   \n",
       "72613 0 days 00:00:46.500000       3.650000           39.450   \n",
       "      0 days 00:00:47              3.780000           39.935   \n",
       "      0 days 00:00:47.500000       3.880000           40.350   \n",
       "      0 days 00:00:48              3.885000           40.680   \n",
       "      0 days 00:00:48.500000       3.940000           40.930   \n",
       "\n",
       "                              espresso_pressure  espresso_flow_goal  \\\n",
       "id    seconds                                                         \n",
       "14    0 days 00:00:00                  0.106667                -1.0   \n",
       "      0 days 00:00:00.500000           0.490000                -1.0   \n",
       "      0 days 00:00:01                  0.640000                -1.0   \n",
       "      0 days 00:00:01.500000           0.710000                -1.0   \n",
       "      0 days 00:00:02                  0.800000                -1.0   \n",
       "...                                         ...                 ...   \n",
       "72613 0 days 00:00:46.500000           0.305000                 4.0   \n",
       "      0 days 00:00:47                  0.305000                 4.0   \n",
       "      0 days 00:00:47.500000           0.230000                 4.0   \n",
       "      0 days 00:00:48                  0.205000                 4.0   \n",
       "      0 days 00:00:48.500000           0.190000                 4.0   \n",
       "\n",
       "                              espresso_resistance  espresso_flow_weight  \\\n",
       "id    seconds                                                             \n",
       "14    0 days 00:00:00                    0.006667                 0.000   \n",
       "      0 days 00:00:00.500000             0.015000                 0.000   \n",
       "      0 days 00:00:01                    0.020000                 0.000   \n",
       "      0 days 00:00:01.500000             0.020000                 0.000   \n",
       "      0 days 00:00:02                    0.020000                 0.000   \n",
       "...                                           ...                   ...   \n",
       "72613 0 days 00:00:46.500000                  NaN                 1.240   \n",
       "      0 days 00:00:47                         NaN                 0.970   \n",
       "      0 days 00:00:47.500000                  NaN                 0.755   \n",
       "      0 days 00:00:48                         NaN                 0.590   \n",
       "      0 days 00:00:48.500000                  NaN                 0.475   \n",
       "\n",
       "                              espresso_state_change  espresso_pressure_goal  \\\n",
       "id    seconds                                                                 \n",
       "14    0 days 00:00:00                  6.666667e+06                     1.0   \n",
       "      0 days 00:00:00.500000           1.000000e+07                     2.0   \n",
       "      0 days 00:00:01                  1.000000e+07                     2.0   \n",
       "      0 days 00:00:01.500000           1.000000e+07                     2.0   \n",
       "      0 days 00:00:02                  1.000000e+07                     2.0   \n",
       "...                                             ...                     ...   \n",
       "72613 0 days 00:00:46.500000                    NaN                    -1.0   \n",
       "      0 days 00:00:47                           NaN                    -1.0   \n",
       "      0 days 00:00:47.500000                    NaN                    -1.0   \n",
       "      0 days 00:00:48                           NaN                    -1.0   \n",
       "      0 days 00:00:48.500000                    NaN                    -1.0   \n",
       "\n",
       "                              espresso_flow_weight_raw  \\\n",
       "id    seconds                                            \n",
       "14    0 days 00:00:00                            0.000   \n",
       "      0 days 00:00:00.500000                     0.000   \n",
       "      0 days 00:00:01                            0.000   \n",
       "      0 days 00:00:01.500000                     0.000   \n",
       "      0 days 00:00:02                            0.000   \n",
       "...                                                ...   \n",
       "72613 0 days 00:00:46.500000                     0.500   \n",
       "      0 days 00:00:47                           -0.025   \n",
       "      0 days 00:00:47.500000                     0.025   \n",
       "      0 days 00:00:48                            0.050   \n",
       "      0 days 00:00:48.500000                     0.050   \n",
       "\n",
       "                              espresso_temperature_mix  \\\n",
       "id    seconds                                            \n",
       "14    0 days 00:00:00                        89.383333   \n",
       "      0 days 00:00:00.500000                 89.650000   \n",
       "      0 days 00:00:01                        91.165000   \n",
       "      0 days 00:00:01.500000                 91.620000   \n",
       "      0 days 00:00:02                        91.415000   \n",
       "...                                                ...   \n",
       "72613 0 days 00:00:46.500000                 89.690000   \n",
       "      0 days 00:00:47                        89.650000   \n",
       "      0 days 00:00:47.500000                 89.685000   \n",
       "      0 days 00:00:48                        89.605000   \n",
       "      0 days 00:00:48.500000                 89.590000   \n",
       "\n",
       "                              espresso_water_dispensed  \\\n",
       "id    seconds                                            \n",
       "14    0 days 00:00:00                         0.105902   \n",
       "      0 days 00:00:00.500000                  0.421494   \n",
       "      0 days 00:00:01                         0.717599   \n",
       "      0 days 00:00:01.500000                  1.030920   \n",
       "      0 days 00:00:02                         1.357886   \n",
       "...                                                ...   \n",
       "72613 0 days 00:00:46.500000                  9.674013   \n",
       "      0 days 00:00:47                         9.861723   \n",
       "      0 days 00:00:47.500000                 10.054381   \n",
       "      0 days 00:00:48                        10.248829   \n",
       "      0 days 00:00:48.500000                 10.444874   \n",
       "\n",
       "                              espresso_temperature_goal  \\\n",
       "id    seconds                                             \n",
       "14    0 days 00:00:00                              90.0   \n",
       "      0 days 00:00:00.500000                       90.0   \n",
       "      0 days 00:00:01                              90.0   \n",
       "      0 days 00:00:01.500000                       90.0   \n",
       "      0 days 00:00:02                              90.0   \n",
       "...                                                 ...   \n",
       "72613 0 days 00:00:46.500000                       89.0   \n",
       "      0 days 00:00:47                              89.0   \n",
       "      0 days 00:00:47.500000                       89.0   \n",
       "      0 days 00:00:48                              89.0   \n",
       "      0 days 00:00:48.500000                       89.0   \n",
       "\n",
       "                              espresso_resistance_weight  \\\n",
       "id    seconds                                              \n",
       "14    0 days 00:00:00                                0.0   \n",
       "      0 days 00:00:00.500000                         0.0   \n",
       "      0 days 00:00:01                                0.0   \n",
       "      0 days 00:00:01.500000                         0.0   \n",
       "      0 days 00:00:02                                0.0   \n",
       "...                                                  ...   \n",
       "72613 0 days 00:00:46.500000                         NaN   \n",
       "      0 days 00:00:47                                NaN   \n",
       "      0 days 00:00:47.500000                         NaN   \n",
       "      0 days 00:00:48                                NaN   \n",
       "      0 days 00:00:48.500000                         NaN   \n",
       "\n",
       "                              espresso_temperature_basket  \n",
       "id    seconds                                              \n",
       "14    0 days 00:00:00                           88.066667  \n",
       "      0 days 00:00:00.500000                    87.555000  \n",
       "      0 days 00:00:01                           88.110000  \n",
       "      0 days 00:00:01.500000                    88.700000  \n",
       "      0 days 00:00:02                           89.055000  \n",
       "...                                                   ...  \n",
       "72613 0 days 00:00:46.500000                    89.510000  \n",
       "      0 days 00:00:47                           89.375000  \n",
       "      0 days 00:00:47.500000                    89.305000  \n",
       "      0 days 00:00:48                           89.330000  \n",
       "      0 days 00:00:48.500000                    89.220000  \n",
       "\n",
       "[378717 rows x 14 columns]"
      ]
     },
     "execution_count": 12,
     "metadata": {},
     "output_type": "execute_result"
    }
   ],
   "source": [
    "resampled_shots = resample_shot_series(shots_series, freq='500L')\n",
    "resampled_shots"
   ]
  },
  {
   "cell_type": "code",
   "execution_count": 19,
   "id": "2c6b9b68-3b62-45d3-97ab-c4dc5692a88b",
   "metadata": {},
   "outputs": [],
   "source": [
    "shot_id = np.random.choice(shots_series.index.levels[0], size=1)[0]"
   ]
  },
  {
   "cell_type": "code",
   "execution_count": 25,
   "id": "8df17316-2089-467e-b4c6-ec33fab9fcfd",
   "metadata": {},
   "outputs": [
    {
     "data": {
      "application/vnd.plotly.v1+json": {
       "config": {
        "plotlyServerURL": "https://plot.ly"
       },
       "data": [
        {
         "line": {
          "color": "lightblue"
         },
         "mode": "lines",
         "name": "espresso_flow",
         "type": "scatter",
         "x": [
          0,
          0.5,
          1,
          1.5,
          2,
          2.5,
          3,
          3.5,
          4,
          4.5,
          5,
          5.5,
          6,
          6.5,
          7,
          7.5,
          8,
          8.5,
          9,
          9.5,
          10,
          10.5,
          11,
          11.5,
          12,
          12.5,
          13,
          13.5,
          14,
          14.5,
          15,
          15.5,
          16,
          16.5,
          17,
          17.5,
          18,
          18.5,
          19,
          19.5,
          20,
          20.5,
          21,
          21.5,
          22,
          22.5,
          23,
          23.5,
          24,
          24.5,
          25,
          25.5,
          26,
          26.5,
          27,
          27.5,
          28,
          28.5
         ],
         "y": [
          3.16,
          6.57,
          7.859999999999999,
          8.42,
          8.52,
          8.450000000000001,
          8.39,
          8.285,
          8.16,
          8.01,
          7.726666666666667,
          7.1,
          6.045,
          4.573333333333333,
          3.29,
          2.35,
          1.715,
          1.33,
          1.1366666666666667,
          1.005,
          0.8633333333333333,
          0.855,
          0.815,
          0.79,
          0.83,
          0.8333333333333334,
          0.825,
          0.8933333333333334,
          1.7650000000000001,
          2.775,
          3.41,
          3.27,
          2.935,
          2.486666666666667,
          2.1950000000000003,
          2.1366666666666667,
          2.16,
          2.15,
          2.105,
          2.065,
          2.03,
          2.025,
          2.02,
          2.0166666666666666,
          2,
          2.02,
          2.04,
          2.106666666666667,
          2.185,
          2.2300000000000004,
          2.24,
          2.29,
          2.34,
          2.3533333333333335,
          2.35,
          2.393333333333333,
          2.38,
          2.3366666666666664
         ]
        },
        {
         "line": {
          "color": "brown"
         },
         "mode": "lines",
         "name": "espresso_flow_weight",
         "type": "scatter",
         "x": [
          0,
          0.5,
          1,
          1.5,
          2,
          2.5,
          3,
          3.5,
          4,
          4.5,
          5,
          5.5,
          6,
          6.5,
          7,
          7.5,
          8,
          8.5,
          9,
          9.5,
          10,
          10.5,
          11,
          11.5,
          12,
          12.5,
          13,
          13.5,
          14,
          14.5,
          15,
          15.5,
          16,
          16.5,
          17,
          17.5,
          18,
          18.5,
          19,
          19.5,
          20,
          20.5,
          21,
          21.5,
          22,
          22.5,
          23,
          23.5,
          24,
          24.5,
          25,
          25.5,
          26,
          26.5,
          27,
          27.5,
          28,
          28.5
         ],
         "y": [
          0,
          0,
          0,
          0,
          0,
          0,
          0,
          0,
          0,
          0,
          0,
          0,
          0,
          0.14,
          0.855,
          1.5333333333333332,
          1.255,
          1.0750000000000002,
          0.8700000000000001,
          0.855,
          0.6333333333333333,
          0.655,
          0.585,
          0.5766666666666667,
          0.5900000000000001,
          0.64,
          0.585,
          0.6533333333333333,
          0.605,
          0.6699999999999999,
          1.0233333333333334,
          1.385,
          1.79,
          2.1366666666666667,
          2.3449999999999998,
          2.4133333333333336,
          2.505,
          2.6033333333333335,
          2.6,
          2.645,
          2.6799999999999997,
          2.7649999999999997,
          2.76,
          2.7099999999999995,
          2.6550000000000002,
          2.66,
          2.6900000000000004,
          2.7300000000000004,
          2.68,
          2.67,
          2.6833333333333336,
          2.705,
          2.7199999999999998,
          2.7133333333333334,
          2.66,
          2.7133333333333334,
          2.6950000000000003,
          2.6999999999999997
         ]
        },
        {
         "line": {
          "color": "blue",
          "dash": "dash"
         },
         "mode": "lines",
         "name": "espresso_flow_goal",
         "type": "scatter",
         "x": [
          0,
          0.5,
          1,
          1.5,
          2,
          2.5,
          3,
          3.5,
          4,
          4.5,
          5,
          5.5,
          6,
          6.5,
          7,
          7.5,
          8,
          8.5,
          9,
          9.5,
          10,
          10.5,
          11,
          11.5,
          12,
          12.5,
          13,
          13.5,
          14,
          14.5,
          15,
          15.5,
          16,
          16.5,
          17,
          17.5,
          18,
          18.5,
          19,
          19.5,
          20,
          20.5,
          21,
          21.5,
          22,
          22.5,
          23,
          23.5,
          24,
          24.5,
          25,
          25.5,
          26,
          26.5,
          27,
          27.5,
          28,
          28.5
         ],
         "y": [
          null,
          null,
          null,
          null,
          null,
          null,
          null,
          null,
          null,
          null,
          null,
          null,
          null,
          null,
          null,
          null,
          null,
          null,
          null,
          null,
          null,
          null,
          null,
          null,
          null,
          null,
          null,
          null,
          null,
          null,
          null,
          null,
          null,
          null,
          null,
          null,
          null,
          null,
          null,
          null,
          null,
          null,
          null,
          null,
          null,
          null,
          null,
          null,
          null,
          null,
          null,
          null,
          null,
          null,
          null,
          null,
          null,
          null
         ]
        },
        {
         "line": {
          "color": "yellow"
         },
         "mode": "lines",
         "name": "espresso_resistance",
         "type": "scatter",
         "x": [
          0,
          0.5,
          1,
          1.5,
          2,
          2.5,
          3,
          3.5,
          4,
          4.5,
          5,
          5.5,
          6,
          6.5,
          7,
          7.5,
          8,
          8.5,
          9,
          9.5,
          10,
          10.5,
          11,
          11.5,
          12,
          12.5,
          13,
          13.5,
          14,
          14.5,
          15,
          15.5,
          16,
          16.5,
          17,
          17.5,
          18,
          18.5,
          19,
          19.5,
          20,
          20.5,
          21,
          21.5,
          22,
          22.5,
          23,
          23.5,
          24,
          24.5,
          25,
          25.5,
          26,
          26.5,
          27,
          27.5,
          28,
          28.5
         ],
         "y": [
          0.016666666666666666,
          0.015,
          0.02,
          0.02,
          0.02,
          0.02,
          0.02,
          0.02,
          0.03,
          0.035,
          0.04666666666666667,
          0.065,
          0.095,
          0.17333333333333334,
          0.32,
          0.61,
          1.135,
          1.77,
          2.393333333333333,
          3.115,
          4.076666666666667,
          4.125,
          4.495,
          4.83,
          4.355,
          4.34,
          4.43,
          3.9,
          1.215,
          0.6299999999999999,
          0.5433333333333333,
          0.7250000000000001,
          0.9550000000000001,
          1.43,
          1.845,
          1.9333333333333333,
          1.9,
          1.9366666666666665,
          2.02,
          2.105,
          2.14,
          2.14,
          2.145,
          2.1333333333333333,
          2.165,
          2.0966666666666667,
          2.0549999999999997,
          1.8866666666666667,
          1.76,
          1.685,
          1.6633333333333333,
          1.565,
          1.495,
          1.4799999999999998,
          1.4849999999999999,
          1.3966666666666665,
          1.43,
          1.4766666666666666
         ]
        },
        {
         "line": {
          "color": "lightgreen"
         },
         "mode": "lines",
         "name": "espresso_pressure",
         "type": "scatter",
         "x": [
          0,
          0.5,
          1,
          1.5,
          2,
          2.5,
          3,
          3.5,
          4,
          4.5,
          5,
          5.5,
          6,
          6.5,
          7,
          7.5,
          8,
          8.5,
          9,
          9.5,
          10,
          10.5,
          11,
          11.5,
          12,
          12.5,
          13,
          13.5,
          14,
          14.5,
          15,
          15.5,
          16,
          16.5,
          17,
          17.5,
          18,
          18.5,
          19,
          19.5,
          20,
          20.5,
          21,
          21.5,
          22,
          22.5,
          23,
          23.5,
          24,
          24.5,
          25,
          25.5,
          26,
          26.5,
          27,
          27.5,
          28,
          28.5
         ],
         "y": [
          0.37666666666666665,
          0.7,
          1.17,
          1.495,
          1.475,
          1.3966666666666665,
          1.4649999999999999,
          1.62,
          1.8733333333333333,
          2.275,
          2.7466666666666666,
          3.225,
          3.4749999999999996,
          3.5366666666666666,
          3.425,
          3.2933333333333334,
          3.2699999999999996,
          3.0949999999999998,
          3.0666666666666664,
          3.12,
          3.013333333333333,
          3.0149999999999997,
          3.01,
          3.013333333333333,
          3,
          3.01,
          3.0149999999999997,
          3.0233333333333334,
          3.585,
          4.805,
          6.34,
          7.6899999999999995,
          8.175,
          8.743333333333332,
          8.870000000000001,
          8.823333333333332,
          8.84,
          8.936666666666666,
          8.925,
          8.940000000000001,
          8.823333333333332,
          8.775,
          8.76,
          8.67,
          8.655000000000001,
          8.536666666666667,
          8.565,
          8.37,
          8.405000000000001,
          8.39,
          8.36,
          8.24,
          8.16,
          8.183333333333332,
          8.195,
          8.003333333333332,
          8.09,
          8.06
         ]
        },
        {
         "line": {
          "color": "green",
          "dash": "dash"
         },
         "mode": "lines",
         "name": "espresso_pressure_goal",
         "type": "scatter",
         "x": [
          0,
          0.5,
          1,
          1.5,
          2,
          2.5,
          3,
          3.5,
          4,
          4.5,
          5,
          5.5,
          6,
          6.5,
          7,
          7.5,
          8,
          8.5,
          9,
          9.5,
          10,
          10.5,
          11,
          11.5,
          12,
          12.5,
          13,
          13.5,
          14,
          14.5,
          15,
          15.5,
          16,
          16.5,
          17,
          17.5,
          18,
          18.5,
          19,
          19.5,
          20,
          20.5,
          21,
          21.5,
          22,
          22.5,
          23,
          23.5,
          24,
          24.5,
          25,
          25.5,
          26,
          26.5,
          27,
          27.5,
          28,
          28.5
         ],
         "y": [
          1,
          2,
          2,
          2.125,
          2.625,
          2.875,
          3,
          3,
          3,
          3,
          3,
          3,
          3,
          3,
          3,
          3,
          3,
          3,
          3,
          3,
          3,
          3,
          3,
          3,
          3,
          3,
          3,
          4.916666666666667,
          7.65625,
          8.4375,
          8.8125,
          8.96875,
          9,
          9,
          9,
          8.958333333333334,
          8.90625,
          8.854166666666666,
          8.8125,
          8.75,
          8.729166666666666,
          8.6875,
          8.625,
          8.583333333333334,
          8.53125,
          8.479166666666666,
          8.4375,
          8.375,
          8.3125,
          8.28125,
          8.229166666666666,
          8.1875,
          8.125,
          8.083333333333334,
          8.0625,
          8,
          7.9375,
          7.895833333333333
         ]
        }
       ],
       "layout": {
        "autosize": true,
        "hovermode": "x",
        "plot_bgcolor": "darkgray",
        "template": {
         "data": {
          "bar": [
           {
            "error_x": {
             "color": "#2a3f5f"
            },
            "error_y": {
             "color": "#2a3f5f"
            },
            "marker": {
             "line": {
              "color": "#E5ECF6",
              "width": 0.5
             },
             "pattern": {
              "fillmode": "overlay",
              "size": 10,
              "solidity": 0.2
             }
            },
            "type": "bar"
           }
          ],
          "barpolar": [
           {
            "marker": {
             "line": {
              "color": "#E5ECF6",
              "width": 0.5
             },
             "pattern": {
              "fillmode": "overlay",
              "size": 10,
              "solidity": 0.2
             }
            },
            "type": "barpolar"
           }
          ],
          "carpet": [
           {
            "aaxis": {
             "endlinecolor": "#2a3f5f",
             "gridcolor": "white",
             "linecolor": "white",
             "minorgridcolor": "white",
             "startlinecolor": "#2a3f5f"
            },
            "baxis": {
             "endlinecolor": "#2a3f5f",
             "gridcolor": "white",
             "linecolor": "white",
             "minorgridcolor": "white",
             "startlinecolor": "#2a3f5f"
            },
            "type": "carpet"
           }
          ],
          "choropleth": [
           {
            "colorbar": {
             "outlinewidth": 0,
             "ticks": ""
            },
            "type": "choropleth"
           }
          ],
          "contour": [
           {
            "colorbar": {
             "outlinewidth": 0,
             "ticks": ""
            },
            "colorscale": [
             [
              0,
              "#0d0887"
             ],
             [
              0.1111111111111111,
              "#46039f"
             ],
             [
              0.2222222222222222,
              "#7201a8"
             ],
             [
              0.3333333333333333,
              "#9c179e"
             ],
             [
              0.4444444444444444,
              "#bd3786"
             ],
             [
              0.5555555555555556,
              "#d8576b"
             ],
             [
              0.6666666666666666,
              "#ed7953"
             ],
             [
              0.7777777777777778,
              "#fb9f3a"
             ],
             [
              0.8888888888888888,
              "#fdca26"
             ],
             [
              1,
              "#f0f921"
             ]
            ],
            "type": "contour"
           }
          ],
          "contourcarpet": [
           {
            "colorbar": {
             "outlinewidth": 0,
             "ticks": ""
            },
            "type": "contourcarpet"
           }
          ],
          "heatmap": [
           {
            "colorbar": {
             "outlinewidth": 0,
             "ticks": ""
            },
            "colorscale": [
             [
              0,
              "#0d0887"
             ],
             [
              0.1111111111111111,
              "#46039f"
             ],
             [
              0.2222222222222222,
              "#7201a8"
             ],
             [
              0.3333333333333333,
              "#9c179e"
             ],
             [
              0.4444444444444444,
              "#bd3786"
             ],
             [
              0.5555555555555556,
              "#d8576b"
             ],
             [
              0.6666666666666666,
              "#ed7953"
             ],
             [
              0.7777777777777778,
              "#fb9f3a"
             ],
             [
              0.8888888888888888,
              "#fdca26"
             ],
             [
              1,
              "#f0f921"
             ]
            ],
            "type": "heatmap"
           }
          ],
          "heatmapgl": [
           {
            "colorbar": {
             "outlinewidth": 0,
             "ticks": ""
            },
            "colorscale": [
             [
              0,
              "#0d0887"
             ],
             [
              0.1111111111111111,
              "#46039f"
             ],
             [
              0.2222222222222222,
              "#7201a8"
             ],
             [
              0.3333333333333333,
              "#9c179e"
             ],
             [
              0.4444444444444444,
              "#bd3786"
             ],
             [
              0.5555555555555556,
              "#d8576b"
             ],
             [
              0.6666666666666666,
              "#ed7953"
             ],
             [
              0.7777777777777778,
              "#fb9f3a"
             ],
             [
              0.8888888888888888,
              "#fdca26"
             ],
             [
              1,
              "#f0f921"
             ]
            ],
            "type": "heatmapgl"
           }
          ],
          "histogram": [
           {
            "marker": {
             "pattern": {
              "fillmode": "overlay",
              "size": 10,
              "solidity": 0.2
             }
            },
            "type": "histogram"
           }
          ],
          "histogram2d": [
           {
            "colorbar": {
             "outlinewidth": 0,
             "ticks": ""
            },
            "colorscale": [
             [
              0,
              "#0d0887"
             ],
             [
              0.1111111111111111,
              "#46039f"
             ],
             [
              0.2222222222222222,
              "#7201a8"
             ],
             [
              0.3333333333333333,
              "#9c179e"
             ],
             [
              0.4444444444444444,
              "#bd3786"
             ],
             [
              0.5555555555555556,
              "#d8576b"
             ],
             [
              0.6666666666666666,
              "#ed7953"
             ],
             [
              0.7777777777777778,
              "#fb9f3a"
             ],
             [
              0.8888888888888888,
              "#fdca26"
             ],
             [
              1,
              "#f0f921"
             ]
            ],
            "type": "histogram2d"
           }
          ],
          "histogram2dcontour": [
           {
            "colorbar": {
             "outlinewidth": 0,
             "ticks": ""
            },
            "colorscale": [
             [
              0,
              "#0d0887"
             ],
             [
              0.1111111111111111,
              "#46039f"
             ],
             [
              0.2222222222222222,
              "#7201a8"
             ],
             [
              0.3333333333333333,
              "#9c179e"
             ],
             [
              0.4444444444444444,
              "#bd3786"
             ],
             [
              0.5555555555555556,
              "#d8576b"
             ],
             [
              0.6666666666666666,
              "#ed7953"
             ],
             [
              0.7777777777777778,
              "#fb9f3a"
             ],
             [
              0.8888888888888888,
              "#fdca26"
             ],
             [
              1,
              "#f0f921"
             ]
            ],
            "type": "histogram2dcontour"
           }
          ],
          "mesh3d": [
           {
            "colorbar": {
             "outlinewidth": 0,
             "ticks": ""
            },
            "type": "mesh3d"
           }
          ],
          "parcoords": [
           {
            "line": {
             "colorbar": {
              "outlinewidth": 0,
              "ticks": ""
             }
            },
            "type": "parcoords"
           }
          ],
          "pie": [
           {
            "automargin": true,
            "type": "pie"
           }
          ],
          "scatter": [
           {
            "marker": {
             "colorbar": {
              "outlinewidth": 0,
              "ticks": ""
             }
            },
            "type": "scatter"
           }
          ],
          "scatter3d": [
           {
            "line": {
             "colorbar": {
              "outlinewidth": 0,
              "ticks": ""
             }
            },
            "marker": {
             "colorbar": {
              "outlinewidth": 0,
              "ticks": ""
             }
            },
            "type": "scatter3d"
           }
          ],
          "scattercarpet": [
           {
            "marker": {
             "colorbar": {
              "outlinewidth": 0,
              "ticks": ""
             }
            },
            "type": "scattercarpet"
           }
          ],
          "scattergeo": [
           {
            "marker": {
             "colorbar": {
              "outlinewidth": 0,
              "ticks": ""
             }
            },
            "type": "scattergeo"
           }
          ],
          "scattergl": [
           {
            "marker": {
             "colorbar": {
              "outlinewidth": 0,
              "ticks": ""
             }
            },
            "type": "scattergl"
           }
          ],
          "scattermapbox": [
           {
            "marker": {
             "colorbar": {
              "outlinewidth": 0,
              "ticks": ""
             }
            },
            "type": "scattermapbox"
           }
          ],
          "scatterpolar": [
           {
            "marker": {
             "colorbar": {
              "outlinewidth": 0,
              "ticks": ""
             }
            },
            "type": "scatterpolar"
           }
          ],
          "scatterpolargl": [
           {
            "marker": {
             "colorbar": {
              "outlinewidth": 0,
              "ticks": ""
             }
            },
            "type": "scatterpolargl"
           }
          ],
          "scatterternary": [
           {
            "marker": {
             "colorbar": {
              "outlinewidth": 0,
              "ticks": ""
             }
            },
            "type": "scatterternary"
           }
          ],
          "surface": [
           {
            "colorbar": {
             "outlinewidth": 0,
             "ticks": ""
            },
            "colorscale": [
             [
              0,
              "#0d0887"
             ],
             [
              0.1111111111111111,
              "#46039f"
             ],
             [
              0.2222222222222222,
              "#7201a8"
             ],
             [
              0.3333333333333333,
              "#9c179e"
             ],
             [
              0.4444444444444444,
              "#bd3786"
             ],
             [
              0.5555555555555556,
              "#d8576b"
             ],
             [
              0.6666666666666666,
              "#ed7953"
             ],
             [
              0.7777777777777778,
              "#fb9f3a"
             ],
             [
              0.8888888888888888,
              "#fdca26"
             ],
             [
              1,
              "#f0f921"
             ]
            ],
            "type": "surface"
           }
          ],
          "table": [
           {
            "cells": {
             "fill": {
              "color": "#EBF0F8"
             },
             "line": {
              "color": "white"
             }
            },
            "header": {
             "fill": {
              "color": "#C8D4E3"
             },
             "line": {
              "color": "white"
             }
            },
            "type": "table"
           }
          ]
         },
         "layout": {
          "annotationdefaults": {
           "arrowcolor": "#2a3f5f",
           "arrowhead": 0,
           "arrowwidth": 1
          },
          "autotypenumbers": "strict",
          "coloraxis": {
           "colorbar": {
            "outlinewidth": 0,
            "ticks": ""
           }
          },
          "colorscale": {
           "diverging": [
            [
             0,
             "#8e0152"
            ],
            [
             0.1,
             "#c51b7d"
            ],
            [
             0.2,
             "#de77ae"
            ],
            [
             0.3,
             "#f1b6da"
            ],
            [
             0.4,
             "#fde0ef"
            ],
            [
             0.5,
             "#f7f7f7"
            ],
            [
             0.6,
             "#e6f5d0"
            ],
            [
             0.7,
             "#b8e186"
            ],
            [
             0.8,
             "#7fbc41"
            ],
            [
             0.9,
             "#4d9221"
            ],
            [
             1,
             "#276419"
            ]
           ],
           "sequential": [
            [
             0,
             "#0d0887"
            ],
            [
             0.1111111111111111,
             "#46039f"
            ],
            [
             0.2222222222222222,
             "#7201a8"
            ],
            [
             0.3333333333333333,
             "#9c179e"
            ],
            [
             0.4444444444444444,
             "#bd3786"
            ],
            [
             0.5555555555555556,
             "#d8576b"
            ],
            [
             0.6666666666666666,
             "#ed7953"
            ],
            [
             0.7777777777777778,
             "#fb9f3a"
            ],
            [
             0.8888888888888888,
             "#fdca26"
            ],
            [
             1,
             "#f0f921"
            ]
           ],
           "sequentialminus": [
            [
             0,
             "#0d0887"
            ],
            [
             0.1111111111111111,
             "#46039f"
            ],
            [
             0.2222222222222222,
             "#7201a8"
            ],
            [
             0.3333333333333333,
             "#9c179e"
            ],
            [
             0.4444444444444444,
             "#bd3786"
            ],
            [
             0.5555555555555556,
             "#d8576b"
            ],
            [
             0.6666666666666666,
             "#ed7953"
            ],
            [
             0.7777777777777778,
             "#fb9f3a"
            ],
            [
             0.8888888888888888,
             "#fdca26"
            ],
            [
             1,
             "#f0f921"
            ]
           ]
          },
          "colorway": [
           "#636efa",
           "#EF553B",
           "#00cc96",
           "#ab63fa",
           "#FFA15A",
           "#19d3f3",
           "#FF6692",
           "#B6E880",
           "#FF97FF",
           "#FECB52"
          ],
          "font": {
           "color": "#2a3f5f"
          },
          "geo": {
           "bgcolor": "white",
           "lakecolor": "white",
           "landcolor": "#E5ECF6",
           "showlakes": true,
           "showland": true,
           "subunitcolor": "white"
          },
          "hoverlabel": {
           "align": "left"
          },
          "hovermode": "closest",
          "mapbox": {
           "style": "light"
          },
          "paper_bgcolor": "white",
          "plot_bgcolor": "#E5ECF6",
          "polar": {
           "angularaxis": {
            "gridcolor": "white",
            "linecolor": "white",
            "ticks": ""
           },
           "bgcolor": "#E5ECF6",
           "radialaxis": {
            "gridcolor": "white",
            "linecolor": "white",
            "ticks": ""
           }
          },
          "scene": {
           "xaxis": {
            "backgroundcolor": "#E5ECF6",
            "gridcolor": "white",
            "gridwidth": 2,
            "linecolor": "white",
            "showbackground": true,
            "ticks": "",
            "zerolinecolor": "white"
           },
           "yaxis": {
            "backgroundcolor": "#E5ECF6",
            "gridcolor": "white",
            "gridwidth": 2,
            "linecolor": "white",
            "showbackground": true,
            "ticks": "",
            "zerolinecolor": "white"
           },
           "zaxis": {
            "backgroundcolor": "#E5ECF6",
            "gridcolor": "white",
            "gridwidth": 2,
            "linecolor": "white",
            "showbackground": true,
            "ticks": "",
            "zerolinecolor": "white"
           }
          },
          "shapedefaults": {
           "line": {
            "color": "#2a3f5f"
           }
          },
          "ternary": {
           "aaxis": {
            "gridcolor": "white",
            "linecolor": "white",
            "ticks": ""
           },
           "baxis": {
            "gridcolor": "white",
            "linecolor": "white",
            "ticks": ""
           },
           "bgcolor": "#E5ECF6",
           "caxis": {
            "gridcolor": "white",
            "linecolor": "white",
            "ticks": ""
           }
          },
          "title": {
           "x": 0.05
          },
          "xaxis": {
           "automargin": true,
           "gridcolor": "white",
           "linecolor": "white",
           "ticks": "",
           "title": {
            "standoff": 15
           },
           "zerolinecolor": "white",
           "zerolinewidth": 2
          },
          "yaxis": {
           "automargin": true,
           "gridcolor": "white",
           "linecolor": "white",
           "ticks": "",
           "title": {
            "standoff": 15
           },
           "zerolinecolor": "white",
           "zerolinewidth": 2
          }
         }
        },
        "title": {
         "text": "Damian's LRv3"
        },
        "xaxis": {
         "autorange": true,
         "range": [
          0,
          28.5
         ],
         "title": {
          "text": "seconds"
         },
         "type": "linear"
        },
        "yaxis": {
         "range": [
          0,
          10
         ],
         "type": "linear"
        }
       }
      },
      "image/png": "[encoded data removed]",
      "text/html": [
       "<div>                            <div id=\"e9334645-9f36-4c70-8df7-3c0571283a27\" class=\"plotly-graph-div\" style=\"height:525px; width:100%;\"></div>            <script type=\"text/javascript\">                require([\"plotly\"], function(Plotly) {                    window.PLOTLYENV=window.PLOTLYENV || {};                                    if (document.getElementById(\"e9334645-9f36-4c70-8df7-3c0571283a27\")) {                    Plotly.newPlot(                        \"e9334645-9f36-4c70-8df7-3c0571283a27\",                        [{\"line\":{\"color\":\"lightblue\"},\"mode\":\"lines\",\"name\":\"espresso_flow\",\"x\":[0.0,0.5,1.0,1.5,2.0,2.5,3.0,3.5,4.0,4.5,5.0,5.5,6.0,6.5,7.0,7.5,8.0,8.5,9.0,9.5,10.0,10.5,11.0,11.5,12.0,12.5,13.0,13.5,14.0,14.5,15.0,15.5,16.0,16.5,17.0,17.5,18.0,18.5,19.0,19.5,20.0,20.5,21.0,21.5,22.0,22.5,23.0,23.5,24.0,24.5,25.0,25.5,26.0,26.5,27.0,27.5,28.0,28.5],\"y\":[3.16,6.57,7.859999999999999,8.42,8.52,8.450000000000001,8.39,8.285,8.16,8.01,7.726666666666667,7.1,6.045,4.573333333333333,3.29,2.35,1.715,1.33,1.1366666666666667,1.005,0.8633333333333333,0.855,0.815,0.79,0.83,0.8333333333333334,0.825,0.8933333333333334,1.7650000000000001,2.775,3.41,3.27,2.935,2.486666666666667,2.1950000000000003,2.1366666666666667,2.16,2.15,2.105,2.065,2.03,2.025,2.02,2.0166666666666666,2.0,2.02,2.04,2.106666666666667,2.185,2.2300000000000004,2.24,2.29,2.34,2.3533333333333335,2.35,2.393333333333333,2.38,2.3366666666666664],\"type\":\"scatter\"},{\"line\":{\"color\":\"brown\"},\"mode\":\"lines\",\"name\":\"espresso_flow_weight\",\"x\":[0.0,0.5,1.0,1.5,2.0,2.5,3.0,3.5,4.0,4.5,5.0,5.5,6.0,6.5,7.0,7.5,8.0,8.5,9.0,9.5,10.0,10.5,11.0,11.5,12.0,12.5,13.0,13.5,14.0,14.5,15.0,15.5,16.0,16.5,17.0,17.5,18.0,18.5,19.0,19.5,20.0,20.5,21.0,21.5,22.0,22.5,23.0,23.5,24.0,24.5,25.0,25.5,26.0,26.5,27.0,27.5,28.0,28.5],\"y\":[0.0,0.0,0.0,0.0,0.0,0.0,0.0,0.0,0.0,0.0,0.0,0.0,0.0,0.14,0.855,1.5333333333333332,1.255,1.0750000000000002,0.8700000000000001,0.855,0.6333333333333333,0.655,0.585,0.5766666666666667,0.5900000000000001,0.64,0.585,0.6533333333333333,0.605,0.6699999999999999,1.0233333333333334,1.385,1.79,2.1366666666666667,2.3449999999999998,2.4133333333333336,2.505,2.6033333333333335,2.6,2.645,2.6799999999999997,2.7649999999999997,2.76,2.7099999999999995,2.6550000000000002,2.66,2.6900000000000004,2.7300000000000004,2.68,2.67,2.6833333333333336,2.705,2.7199999999999998,2.7133333333333334,2.66,2.7133333333333334,2.6950000000000003,2.6999999999999997],\"type\":\"scatter\"},{\"line\":{\"color\":\"blue\",\"dash\":\"dash\"},\"mode\":\"lines\",\"name\":\"espresso_flow_goal\",\"x\":[0.0,0.5,1.0,1.5,2.0,2.5,3.0,3.5,4.0,4.5,5.0,5.5,6.0,6.5,7.0,7.5,8.0,8.5,9.0,9.5,10.0,10.5,11.0,11.5,12.0,12.5,13.0,13.5,14.0,14.5,15.0,15.5,16.0,16.5,17.0,17.5,18.0,18.5,19.0,19.5,20.0,20.5,21.0,21.5,22.0,22.5,23.0,23.5,24.0,24.5,25.0,25.5,26.0,26.5,27.0,27.5,28.0,28.5],\"y\":[null,null,null,null,null,null,null,null,null,null,null,null,null,null,null,null,null,null,null,null,null,null,null,null,null,null,null,null,null,null,null,null,null,null,null,null,null,null,null,null,null,null,null,null,null,null,null,null,null,null,null,null,null,null,null,null,null,null],\"type\":\"scatter\"},{\"line\":{\"color\":\"yellow\"},\"mode\":\"lines\",\"name\":\"espresso_resistance\",\"x\":[0.0,0.5,1.0,1.5,2.0,2.5,3.0,3.5,4.0,4.5,5.0,5.5,6.0,6.5,7.0,7.5,8.0,8.5,9.0,9.5,10.0,10.5,11.0,11.5,12.0,12.5,13.0,13.5,14.0,14.5,15.0,15.5,16.0,16.5,17.0,17.5,18.0,18.5,19.0,19.5,20.0,20.5,21.0,21.5,22.0,22.5,23.0,23.5,24.0,24.5,25.0,25.5,26.0,26.5,27.0,27.5,28.0,28.5],\"y\":[0.016666666666666666,0.015,0.02,0.02,0.02,0.02,0.02,0.02,0.03,0.035,0.04666666666666667,0.065,0.095,0.17333333333333334,0.32,0.61,1.135,1.77,2.393333333333333,3.115,4.076666666666667,4.125,4.495,4.83,4.355,4.34,4.43,3.9,1.215,0.6299999999999999,0.5433333333333333,0.7250000000000001,0.9550000000000001,1.43,1.845,1.9333333333333333,1.9,1.9366666666666665,2.02,2.105,2.14,2.14,2.145,2.1333333333333333,2.165,2.0966666666666667,2.0549999999999997,1.8866666666666667,1.76,1.685,1.6633333333333333,1.565,1.495,1.4799999999999998,1.4849999999999999,1.3966666666666665,1.43,1.4766666666666666],\"type\":\"scatter\"},{\"line\":{\"color\":\"lightgreen\"},\"mode\":\"lines\",\"name\":\"espresso_pressure\",\"x\":[0.0,0.5,1.0,1.5,2.0,2.5,3.0,3.5,4.0,4.5,5.0,5.5,6.0,6.5,7.0,7.5,8.0,8.5,9.0,9.5,10.0,10.5,11.0,11.5,12.0,12.5,13.0,13.5,14.0,14.5,15.0,15.5,16.0,16.5,17.0,17.5,18.0,18.5,19.0,19.5,20.0,20.5,21.0,21.5,22.0,22.5,23.0,23.5,24.0,24.5,25.0,25.5,26.0,26.5,27.0,27.5,28.0,28.5],\"y\":[0.37666666666666665,0.7,1.17,1.495,1.475,1.3966666666666665,1.4649999999999999,1.62,1.8733333333333333,2.275,2.7466666666666666,3.225,3.4749999999999996,3.5366666666666666,3.425,3.2933333333333334,3.2699999999999996,3.0949999999999998,3.0666666666666664,3.12,3.013333333333333,3.0149999999999997,3.01,3.013333333333333,3.0,3.01,3.0149999999999997,3.0233333333333334,3.585,4.805,6.34,7.6899999999999995,8.175,8.743333333333332,8.870000000000001,8.823333333333332,8.84,8.936666666666666,8.925,8.940000000000001,8.823333333333332,8.775,8.76,8.67,8.655000000000001,8.536666666666667,8.565,8.37,8.405000000000001,8.39,8.36,8.24,8.16,8.183333333333332,8.195,8.003333333333332,8.09,8.06],\"type\":\"scatter\"},{\"line\":{\"color\":\"green\",\"dash\":\"dash\"},\"mode\":\"lines\",\"name\":\"espresso_pressure_goal\",\"x\":[0.0,0.5,1.0,1.5,2.0,2.5,3.0,3.5,4.0,4.5,5.0,5.5,6.0,6.5,7.0,7.5,8.0,8.5,9.0,9.5,10.0,10.5,11.0,11.5,12.0,12.5,13.0,13.5,14.0,14.5,15.0,15.5,16.0,16.5,17.0,17.5,18.0,18.5,19.0,19.5,20.0,20.5,21.0,21.5,22.0,22.5,23.0,23.5,24.0,24.5,25.0,25.5,26.0,26.5,27.0,27.5,28.0,28.5],\"y\":[1.0,2.0,2.0,2.125,2.625,2.875,3.0,3.0,3.0,3.0,3.0,3.0,3.0,3.0,3.0,3.0,3.0,3.0,3.0,3.0,3.0,3.0,3.0,3.0,3.0,3.0,3.0,4.916666666666667,7.65625,8.4375,8.8125,8.96875,9.0,9.0,9.0,8.958333333333334,8.90625,8.854166666666666,8.8125,8.75,8.729166666666666,8.6875,8.625,8.583333333333334,8.53125,8.479166666666666,8.4375,8.375,8.3125,8.28125,8.229166666666666,8.1875,8.125,8.083333333333334,8.0625,8.0,7.9375,7.895833333333333],\"type\":\"scatter\"}],                        {\"template\":{\"data\":{\"bar\":[{\"error_x\":{\"color\":\"#2a3f5f\"},\"error_y\":{\"color\":\"#2a3f5f\"},\"marker\":{\"line\":{\"color\":\"#E5ECF6\",\"width\":0.5},\"pattern\":{\"fillmode\":\"overlay\",\"size\":10,\"solidity\":0.2}},\"type\":\"bar\"}],\"barpolar\":[{\"marker\":{\"line\":{\"color\":\"#E5ECF6\",\"width\":0.5},\"pattern\":{\"fillmode\":\"overlay\",\"size\":10,\"solidity\":0.2}},\"type\":\"barpolar\"}],\"carpet\":[{\"aaxis\":{\"endlinecolor\":\"#2a3f5f\",\"gridcolor\":\"white\",\"linecolor\":\"white\",\"minorgridcolor\":\"white\",\"startlinecolor\":\"#2a3f5f\"},\"baxis\":{\"endlinecolor\":\"#2a3f5f\",\"gridcolor\":\"white\",\"linecolor\":\"white\",\"minorgridcolor\":\"white\",\"startlinecolor\":\"#2a3f5f\"},\"type\":\"carpet\"}],\"choropleth\":[{\"colorbar\":{\"outlinewidth\":0,\"ticks\":\"\"},\"type\":\"choropleth\"}],\"contour\":[{\"colorbar\":{\"outlinewidth\":0,\"ticks\":\"\"},\"colorscale\":[[0.0,\"#0d0887\"],[0.1111111111111111,\"#46039f\"],[0.2222222222222222,\"#7201a8\"],[0.3333333333333333,\"#9c179e\"],[0.4444444444444444,\"#bd3786\"],[0.5555555555555556,\"#d8576b\"],[0.6666666666666666,\"#ed7953\"],[0.7777777777777778,\"#fb9f3a\"],[0.8888888888888888,\"#fdca26\"],[1.0,\"#f0f921\"]],\"type\":\"contour\"}],\"contourcarpet\":[{\"colorbar\":{\"outlinewidth\":0,\"ticks\":\"\"},\"type\":\"contourcarpet\"}],\"heatmap\":[{\"colorbar\":{\"outlinewidth\":0,\"ticks\":\"\"},\"colorscale\":[[0.0,\"#0d0887\"],[0.1111111111111111,\"#46039f\"],[0.2222222222222222,\"#7201a8\"],[0.3333333333333333,\"#9c179e\"],[0.4444444444444444,\"#bd3786\"],[0.5555555555555556,\"#d8576b\"],[0.6666666666666666,\"#ed7953\"],[0.7777777777777778,\"#fb9f3a\"],[0.8888888888888888,\"#fdca26\"],[1.0,\"#f0f921\"]],\"type\":\"heatmap\"}],\"heatmapgl\":[{\"colorbar\":{\"outlinewidth\":0,\"ticks\":\"\"},\"colorscale\":[[0.0,\"#0d0887\"],[0.1111111111111111,\"#46039f\"],[0.2222222222222222,\"#7201a8\"],[0.3333333333333333,\"#9c179e\"],[0.4444444444444444,\"#bd3786\"],[0.5555555555555556,\"#d8576b\"],[0.6666666666666666,\"#ed7953\"],[0.7777777777777778,\"#fb9f3a\"],[0.8888888888888888,\"#fdca26\"],[1.0,\"#f0f921\"]],\"type\":\"heatmapgl\"}],\"histogram\":[{\"marker\":{\"pattern\":{\"fillmode\":\"overlay\",\"size\":10,\"solidity\":0.2}},\"type\":\"histogram\"}],\"histogram2d\":[{\"colorbar\":{\"outlinewidth\":0,\"ticks\":\"\"},\"colorscale\":[[0.0,\"#0d0887\"],[0.1111111111111111,\"#46039f\"],[0.2222222222222222,\"#7201a8\"],[0.3333333333333333,\"#9c179e\"],[0.4444444444444444,\"#bd3786\"],[0.5555555555555556,\"#d8576b\"],[0.6666666666666666,\"#ed7953\"],[0.7777777777777778,\"#fb9f3a\"],[0.8888888888888888,\"#fdca26\"],[1.0,\"#f0f921\"]],\"type\":\"histogram2d\"}],\"histogram2dcontour\":[{\"colorbar\":{\"outlinewidth\":0,\"ticks\":\"\"},\"colorscale\":[[0.0,\"#0d0887\"],[0.1111111111111111,\"#46039f\"],[0.2222222222222222,\"#7201a8\"],[0.3333333333333333,\"#9c179e\"],[0.4444444444444444,\"#bd3786\"],[0.5555555555555556,\"#d8576b\"],[0.6666666666666666,\"#ed7953\"],[0.7777777777777778,\"#fb9f3a\"],[0.8888888888888888,\"#fdca26\"],[1.0,\"#f0f921\"]],\"type\":\"histogram2dcontour\"}],\"mesh3d\":[{\"colorbar\":{\"outlinewidth\":0,\"ticks\":\"\"},\"type\":\"mesh3d\"}],\"parcoords\":[{\"line\":{\"colorbar\":{\"outlinewidth\":0,\"ticks\":\"\"}},\"type\":\"parcoords\"}],\"pie\":[{\"automargin\":true,\"type\":\"pie\"}],\"scatter\":[{\"marker\":{\"colorbar\":{\"outlinewidth\":0,\"ticks\":\"\"}},\"type\":\"scatter\"}],\"scatter3d\":[{\"line\":{\"colorbar\":{\"outlinewidth\":0,\"ticks\":\"\"}},\"marker\":{\"colorbar\":{\"outlinewidth\":0,\"ticks\":\"\"}},\"type\":\"scatter3d\"}],\"scattercarpet\":[{\"marker\":{\"colorbar\":{\"outlinewidth\":0,\"ticks\":\"\"}},\"type\":\"scattercarpet\"}],\"scattergeo\":[{\"marker\":{\"colorbar\":{\"outlinewidth\":0,\"ticks\":\"\"}},\"type\":\"scattergeo\"}],\"scattergl\":[{\"marker\":{\"colorbar\":{\"outlinewidth\":0,\"ticks\":\"\"}},\"type\":\"scattergl\"}],\"scattermapbox\":[{\"marker\":{\"colorbar\":{\"outlinewidth\":0,\"ticks\":\"\"}},\"type\":\"scattermapbox\"}],\"scatterpolar\":[{\"marker\":{\"colorbar\":{\"outlinewidth\":0,\"ticks\":\"\"}},\"type\":\"scatterpolar\"}],\"scatterpolargl\":[{\"marker\":{\"colorbar\":{\"outlinewidth\":0,\"ticks\":\"\"}},\"type\":\"scatterpolargl\"}],\"scatterternary\":[{\"marker\":{\"colorbar\":{\"outlinewidth\":0,\"ticks\":\"\"}},\"type\":\"scatterternary\"}],\"surface\":[{\"colorbar\":{\"outlinewidth\":0,\"ticks\":\"\"},\"colorscale\":[[0.0,\"#0d0887\"],[0.1111111111111111,\"#46039f\"],[0.2222222222222222,\"#7201a8\"],[0.3333333333333333,\"#9c179e\"],[0.4444444444444444,\"#bd3786\"],[0.5555555555555556,\"#d8576b\"],[0.6666666666666666,\"#ed7953\"],[0.7777777777777778,\"#fb9f3a\"],[0.8888888888888888,\"#fdca26\"],[1.0,\"#f0f921\"]],\"type\":\"surface\"}],\"table\":[{\"cells\":{\"fill\":{\"color\":\"#EBF0F8\"},\"line\":{\"color\":\"white\"}},\"header\":{\"fill\":{\"color\":\"#C8D4E3\"},\"line\":{\"color\":\"white\"}},\"type\":\"table\"}]},\"layout\":{\"annotationdefaults\":{\"arrowcolor\":\"#2a3f5f\",\"arrowhead\":0,\"arrowwidth\":1},\"autotypenumbers\":\"strict\",\"coloraxis\":{\"colorbar\":{\"outlinewidth\":0,\"ticks\":\"\"}},\"colorscale\":{\"diverging\":[[0,\"#8e0152\"],[0.1,\"#c51b7d\"],[0.2,\"#de77ae\"],[0.3,\"#f1b6da\"],[0.4,\"#fde0ef\"],[0.5,\"#f7f7f7\"],[0.6,\"#e6f5d0\"],[0.7,\"#b8e186\"],[0.8,\"#7fbc41\"],[0.9,\"#4d9221\"],[1,\"#276419\"]],\"sequential\":[[0.0,\"#0d0887\"],[0.1111111111111111,\"#46039f\"],[0.2222222222222222,\"#7201a8\"],[0.3333333333333333,\"#9c179e\"],[0.4444444444444444,\"#bd3786\"],[0.5555555555555556,\"#d8576b\"],[0.6666666666666666,\"#ed7953\"],[0.7777777777777778,\"#fb9f3a\"],[0.8888888888888888,\"#fdca26\"],[1.0,\"#f0f921\"]],\"sequentialminus\":[[0.0,\"#0d0887\"],[0.1111111111111111,\"#46039f\"],[0.2222222222222222,\"#7201a8\"],[0.3333333333333333,\"#9c179e\"],[0.4444444444444444,\"#bd3786\"],[0.5555555555555556,\"#d8576b\"],[0.6666666666666666,\"#ed7953\"],[0.7777777777777778,\"#fb9f3a\"],[0.8888888888888888,\"#fdca26\"],[1.0,\"#f0f921\"]]},\"colorway\":[\"#636efa\",\"#EF553B\",\"#00cc96\",\"#ab63fa\",\"#FFA15A\",\"#19d3f3\",\"#FF6692\",\"#B6E880\",\"#FF97FF\",\"#FECB52\"],\"font\":{\"color\":\"#2a3f5f\"},\"geo\":{\"bgcolor\":\"white\",\"lakecolor\":\"white\",\"landcolor\":\"#E5ECF6\",\"showlakes\":true,\"showland\":true,\"subunitcolor\":\"white\"},\"hoverlabel\":{\"align\":\"left\"},\"hovermode\":\"closest\",\"mapbox\":{\"style\":\"light\"},\"paper_bgcolor\":\"white\",\"plot_bgcolor\":\"#E5ECF6\",\"polar\":{\"angularaxis\":{\"gridcolor\":\"white\",\"linecolor\":\"white\",\"ticks\":\"\"},\"bgcolor\":\"#E5ECF6\",\"radialaxis\":{\"gridcolor\":\"white\",\"linecolor\":\"white\",\"ticks\":\"\"}},\"scene\":{\"xaxis\":{\"backgroundcolor\":\"#E5ECF6\",\"gridcolor\":\"white\",\"gridwidth\":2,\"linecolor\":\"white\",\"showbackground\":true,\"ticks\":\"\",\"zerolinecolor\":\"white\"},\"yaxis\":{\"backgroundcolor\":\"#E5ECF6\",\"gridcolor\":\"white\",\"gridwidth\":2,\"linecolor\":\"white\",\"showbackground\":true,\"ticks\":\"\",\"zerolinecolor\":\"white\"},\"zaxis\":{\"backgroundcolor\":\"#E5ECF6\",\"gridcolor\":\"white\",\"gridwidth\":2,\"linecolor\":\"white\",\"showbackground\":true,\"ticks\":\"\",\"zerolinecolor\":\"white\"}},\"shapedefaults\":{\"line\":{\"color\":\"#2a3f5f\"}},\"ternary\":{\"aaxis\":{\"gridcolor\":\"white\",\"linecolor\":\"white\",\"ticks\":\"\"},\"baxis\":{\"gridcolor\":\"white\",\"linecolor\":\"white\",\"ticks\":\"\"},\"bgcolor\":\"#E5ECF6\",\"caxis\":{\"gridcolor\":\"white\",\"linecolor\":\"white\",\"ticks\":\"\"}},\"title\":{\"x\":0.05},\"xaxis\":{\"automargin\":true,\"gridcolor\":\"white\",\"linecolor\":\"white\",\"ticks\":\"\",\"title\":{\"standoff\":15},\"zerolinecolor\":\"white\",\"zerolinewidth\":2},\"yaxis\":{\"automargin\":true,\"gridcolor\":\"white\",\"linecolor\":\"white\",\"ticks\":\"\",\"title\":{\"standoff\":15},\"zerolinecolor\":\"white\",\"zerolinewidth\":2}}},\"title\":{\"text\":\"Damian's LRv3\"},\"hovermode\":\"x\",\"plot_bgcolor\":\"darkgray\",\"xaxis\":{\"title\":{\"text\":\"seconds\"}},\"yaxis\":{\"range\":[0,10]}},                        {\"responsive\": true}                    ).then(function(){\n",
       "                            \n",
       "var gd = document.getElementById('e9334645-9f36-4c70-8df7-3c0571283a27');\n",
       "var x = new MutationObserver(function (mutations, observer) {{\n",
       "        var display = window.getComputedStyle(gd).display;\n",
       "        if (!display || display === 'none') {{\n",
       "            console.log([gd, 'removed!']);\n",
       "            Plotly.purge(gd);\n",
       "            observer.disconnect();\n",
       "        }}\n",
       "}});\n",
       "\n",
       "// Listen for the removal of the full notebook cells\n",
       "var notebookContainer = gd.closest('#notebook-container');\n",
       "if (notebookContainer) {{\n",
       "    x.observe(notebookContainer, {childList: true});\n",
       "}}\n",
       "\n",
       "// Listen for the clearing of the current output cell\n",
       "var outputEl = gd.closest('.output');\n",
       "if (outputEl) {{\n",
       "    x.observe(outputEl, {childList: true});\n",
       "}}\n",
       "\n",
       "                        })                };                });            </script>        </div>"
      ]
     },
     "metadata": {},
     "output_type": "display_data"
    }
   ],
   "source": [
    "shot = resampled_shots.loc[shot_id]\n",
    "# shot = shots_series.loc[shot_id]\n",
    "\n",
    "df = shot.copy()\n",
    "df[\"espresso_flow_weight\"] = lowess_smoothing(shot[\"espresso_flow_weight\"], frac=0.05)\n",
    "# df[\"espresso_resistance\"] = df[\"espresso_flow\"] / df[\"espresso_flow_weight\"]\n",
    "\n",
    "visualize_shot(df, time_index=None, \n",
    "               # flow_quantiles=flow_quantiles, weight_quantiles=weight_quantiles, pressure_quantiles=pressure_quantiles,\n",
    "               title=profile,)"
   ]
  },
  {
   "cell_type": "markdown",
   "id": "2c063d85-4dbc-4c3c-b9cd-d7844d63db4e",
   "metadata": {},
   "source": [
    "## Plot all profiles"
   ]
  },
  {
   "cell_type": "code",
   "execution_count": null,
   "id": "d2ac1a1a-77d1-432b-a9c5-872bf9874f64",
   "metadata": {
    "tags": []
   },
   "outputs": [],
   "source": [
    "lower_q = 0.2\n",
    "upper_q = 0.8\n",
    "\n",
    "for profile in most_popular_profiles.index.sort_values():\n",
    "    samples = shots_df.index[shots_df[\"profile_title\"]==profile]\n",
    "    shot_series = shots_df.loc[samples][timeseries_cols].apply(lambda row: timeseries_to_df(row[1:].to_dict(), timeframe=row.timeframe), \n",
    "                                                               axis=1)\n",
    "    shot_series = pd.concat(shot_series.to_dict(), names=[\"id\"])\n",
    "    \n",
    "    groupby = shot_series.reset_index().groupby([pd.Grouper(key='seconds', freq='500L')])\n",
    "    median_agg = groupby[timeseries_cols[1:]].median()\n",
    "\n",
    "    # flow_quantiles = (groupby[\"espresso_flow\"].quantile(lower_q), groupby[\"espresso_flow\"].quantile(upper_q))\n",
    "    # weight_quantiles = (groupby[\"espresso_flow_weight\"].quantile(lower_q), groupby[\"espresso_flow_weight\"].quantile(upper_q))\n",
    "    # pressure_quantiles = (groupby[\"espresso_pressure\"].quantile(lower_q), groupby[\"espresso_pressure\"].quantile(upper_q))\n",
    "    \n",
    "    visualize_shot(median_agg, time_index=None, \n",
    "               # flow_quantiles=flow_quantiles, weight_quantiles=weight_quantiles, pressure_quantiles=pressure_quantiles,\n",
    "               title=profile).show(renderer=\"jupyterlab\", config={})"
   ]
  },
  {
   "cell_type": "code",
   "execution_count": null,
   "id": "fc7994a3-6301-461e-8971-b3b1e2ed92c4",
   "metadata": {},
   "outputs": [],
   "source": []
  }
 ],
 "metadata": {
  "kernelspec": {
   "display_name": "Python 3 (ipykernel)",
   "language": "python",
   "name": "python3"
  },
  "language_info": {
   "codemirror_mode": {
    "name": "ipython",
    "version": 3
   },
   "file_extension": ".py",
   "mimetype": "text/x-python",
   "name": "python",
   "nbconvert_exporter": "python",
   "pygments_lexer": "ipython3",
   "version": "3.7.11"
  }
 },
 "nbformat": 4,
 "nbformat_minor": 5
}
