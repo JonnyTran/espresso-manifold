{
 "cells": [
  {
   "cell_type": "code",
   "execution_count": 1,
   "id": "7213a672-ceb4-4dbe-ab97-eb51a14bc4cf",
   "metadata": {},
   "outputs": [],
   "source": [
    "%load_ext autoreload\n",
    "%autoreload 2\n",
    "import io, os, re, logging, sys\n",
    "\n",
    "sys.path.append(\"../\")\n",
    "\n",
    "import requests, tqdm, tarfile, itertools, html, time\n",
    "from dateparser.date import DateDataParser\n",
    "from dateparser import parse\n",
    "from fuzzywuzzy import process, fuzz\n",
    "\n",
    "import numpy as np\n",
    "import pandas as pd\n",
    "import dask.dataframe as dd\n",
    "\n",
    "import torch\n",
    "import torch.nn.functional as F\n",
    "import pyro\n",
    "import pyro.distributions as dist\n",
    "\n",
    "from sklearn.preprocessing import StandardScaler\n",
    "from sklearn.decomposition import PCA, FactorAnalysis\n",
    "\n",
    "import plotly.express as px\n",
    "import plotly.graph_objects as go\n",
    "\n",
    "from src.visualization.visualize import visualize_shot\n",
    "from src.features.categorical import *\n",
    "from src.transformations import *\n",
    "from src.model.utils import *\n",
    "from src.model.autoencoder import ShotsAutoEncForecast\n",
    "\n",
    "from tsa.dataset import TimeSeriesDataset\n",
    "from tsa.model import AutoEncForecast\n",
    "from tsa.config import config\n",
    "from tsa.train import train\n",
    "from tsa.eval import evaluate \n",
    "\n",
    "import wandb\n",
    "from pytorch_lightning.loggers import WandbLogger\n",
    "from pytorch_lightning import Trainer\n",
    "from pytorch_lightning.callbacks import EarlyStopping\n",
    "from pytorch_lightning import loggers"
   ]
  },
  {
   "cell_type": "markdown",
   "id": "687c21e0-47fe-489b-9695-5bb18d5744b2",
   "metadata": {},
   "source": [
    "# Import Dataset"
   ]
  },
  {
   "cell_type": "code",
   "execution_count": 2,
   "id": "d9ad2bb3-dbfe-4a22-b320-69d7dc26f22c",
   "metadata": {},
   "outputs": [
    {
     "data": {
      "text/plain": [
       "(73202, 37)"
      ]
     },
     "execution_count": 2,
     "metadata": {},
     "output_type": "execute_result"
    }
   ],
   "source": [
    "shots_df = pd.read_parquet(\"../data/raw/visualizercoffee_73202shots_2021-12-30_cleaned.parquet\")\n",
    "shots_df.shape"
   ]
  },
  {
   "cell_type": "markdown",
   "id": "95bec731-752f-4eb5-9dc7-3b8b6d141481",
   "metadata": {
    "jp-MarkdownHeadingCollapsed": true,
    "tags": []
   },
   "source": [
    "## Data transformations"
   ]
  },
  {
   "cell_type": "code",
   "execution_count": 3,
   "id": "c2a6c14d-3af7-43f6-980f-493cc8fb1cd3",
   "metadata": {
    "scrolled": true,
    "tags": []
   },
   "outputs": [
    {
     "data": {
      "text/html": [
       "<div>\n",
       "<style scoped>\n",
       "    .dataframe tbody tr th:only-of-type {\n",
       "        vertical-align: middle;\n",
       "    }\n",
       "\n",
       "    .dataframe tbody tr th {\n",
       "        vertical-align: top;\n",
       "    }\n",
       "\n",
       "    .dataframe thead th {\n",
       "        text-align: right;\n",
       "    }\n",
       "</style>\n",
       "<table border=\"1\" class=\"dataframe\">\n",
       "  <thead>\n",
       "    <tr style=\"text-align: right;\">\n",
       "      <th></th>\n",
       "      <th>id</th>\n",
       "      <th>profile_title</th>\n",
       "      <th>user_id</th>\n",
       "      <th>drink_tds</th>\n",
       "      <th>drink_ey</th>\n",
       "      <th>espresso_enjoyment</th>\n",
       "      <th>bean_weight</th>\n",
       "      <th>drink_weight</th>\n",
       "      <th>grinder_model</th>\n",
       "      <th>grinder_setting</th>\n",
       "      <th>...</th>\n",
       "      <th>espresso_temperature_basket</th>\n",
       "      <th>duration</th>\n",
       "      <th>user_name</th>\n",
       "      <th>bean_age</th>\n",
       "      <th>yield_ratio</th>\n",
       "      <th>max_pressure</th>\n",
       "      <th>max_flow</th>\n",
       "      <th>median_temperature</th>\n",
       "      <th>mean_resistance</th>\n",
       "      <th>roast_agtron</th>\n",
       "    </tr>\n",
       "  </thead>\n",
       "  <tbody>\n",
       "    <tr>\n",
       "      <th>0</th>\n",
       "      <td>14899484-a5f8-4ccc-b372-79700c8150ae</td>\n",
       "      <td>TurboBloom</td>\n",
       "      <td>8d827d10-510f-4475-bd54-63c93b275c16</td>\n",
       "      <td>NaN</td>\n",
       "      <td>NaN</td>\n",
       "      <td>80.0</td>\n",
       "      <td>15.0</td>\n",
       "      <td>35.2</td>\n",
       "      <td>Lagom P64</td>\n",
       "      <td>0.014737</td>\n",
       "      <td>...</td>\n",
       "      <td>[86.0, 85.12, 85.27, 85.49, 85.38, 85.35, 85.3...</td>\n",
       "      <td>18.493</td>\n",
       "      <td>None</td>\n",
       "      <td>NaN</td>\n",
       "      <td>2.346667</td>\n",
       "      <td>5.95</td>\n",
       "      <td>8.27</td>\n",
       "      <td>84.38</td>\n",
       "      <td>0.411447</td>\n",
       "      <td>91.0</td>\n",
       "    </tr>\n",
       "    <tr>\n",
       "      <th>1</th>\n",
       "      <td>76f936ee-5147-40ac-986e-f0f1be5ac97e</td>\n",
       "      <td>Best overall pressure profile</td>\n",
       "      <td>10f1e281-8fd0-4f43-94f6-d416713dabe0</td>\n",
       "      <td>NaN</td>\n",
       "      <td>NaN</td>\n",
       "      <td>NaN</td>\n",
       "      <td>18.0</td>\n",
       "      <td>36.1</td>\n",
       "      <td>Bentwood 63</td>\n",
       "      <td>0.121212</td>\n",
       "      <td>...</td>\n",
       "      <td>[88.0, 87.18, 87.39, 87.37, 87.31, 87.23, 87.0...</td>\n",
       "      <td>29.475</td>\n",
       "      <td>None</td>\n",
       "      <td>NaN</td>\n",
       "      <td>2.005556</td>\n",
       "      <td>8.38</td>\n",
       "      <td>4.11</td>\n",
       "      <td>87.64</td>\n",
       "      <td>1.603333</td>\n",
       "      <td>NaN</td>\n",
       "    </tr>\n",
       "    <tr>\n",
       "      <th>2</th>\n",
       "      <td>8853ae7c-5bf8-4194-93dd-462de63f1471</td>\n",
       "      <td>Default</td>\n",
       "      <td>30b3dd10-aebb-4f17-ba74-a1efcf2d51ea</td>\n",
       "      <td>NaN</td>\n",
       "      <td>NaN</td>\n",
       "      <td>NaN</td>\n",
       "      <td>NaN</td>\n",
       "      <td>40.3</td>\n",
       "      <td>None</td>\n",
       "      <td>NaN</td>\n",
       "      <td>...</td>\n",
       "      <td>[90.5, 87.93, 88.21, 88.23, 88.16, 88.14, 88.1...</td>\n",
       "      <td>35.054</td>\n",
       "      <td>None</td>\n",
       "      <td>NaN</td>\n",
       "      <td>NaN</td>\n",
       "      <td>8.90</td>\n",
       "      <td>4.09</td>\n",
       "      <td>88.69</td>\n",
       "      <td>4.545352</td>\n",
       "      <td>75.0</td>\n",
       "    </tr>\n",
       "    <tr>\n",
       "      <th>3</th>\n",
       "      <td>a4d7a358-fc3f-451c-92f5-756adaa4a7dd</td>\n",
       "      <td>Rao Allongé</td>\n",
       "      <td>c8c4793c-6708-4e81-90e8-6d8a5b30ceee</td>\n",
       "      <td>NaN</td>\n",
       "      <td>NaN</td>\n",
       "      <td>NaN</td>\n",
       "      <td>NaN</td>\n",
       "      <td>124.5</td>\n",
       "      <td>Niche Zero</td>\n",
       "      <td>0.067500</td>\n",
       "      <td>...</td>\n",
       "      <td>[92.0, 90.0, 90.41, 90.36, 90.35, 90.44, 90.4,...</td>\n",
       "      <td>40.996</td>\n",
       "      <td>None</td>\n",
       "      <td>NaN</td>\n",
       "      <td>NaN</td>\n",
       "      <td>8.76</td>\n",
       "      <td>4.84</td>\n",
       "      <td>91.75</td>\n",
       "      <td>0.359096</td>\n",
       "      <td>NaN</td>\n",
       "    </tr>\n",
       "    <tr>\n",
       "      <th>4</th>\n",
       "      <td>3ebcfff9-fb6f-47f6-a3df-affe01d55150</td>\n",
       "      <td>Londonium</td>\n",
       "      <td>db110ce3-77b7-4c92-9d18-1019c3841cc9</td>\n",
       "      <td>NaN</td>\n",
       "      <td>NaN</td>\n",
       "      <td>NaN</td>\n",
       "      <td>NaN</td>\n",
       "      <td>NaN</td>\n",
       "      <td>None</td>\n",
       "      <td>NaN</td>\n",
       "      <td>...</td>\n",
       "      <td>[89.0, 87.55, 87.81, 87.75, 87.76, 87.8, 87.74...</td>\n",
       "      <td>38.787</td>\n",
       "      <td>None</td>\n",
       "      <td>NaN</td>\n",
       "      <td>NaN</td>\n",
       "      <td>9.18</td>\n",
       "      <td>6.75</td>\n",
       "      <td>87.99</td>\n",
       "      <td>17.786497</td>\n",
       "      <td>NaN</td>\n",
       "    </tr>\n",
       "  </tbody>\n",
       "</table>\n",
       "<p>5 rows × 43 columns</p>\n",
       "</div>"
      ],
      "text/plain": [
       "                                     id                  profile_title  \\\n",
       "0  14899484-a5f8-4ccc-b372-79700c8150ae                     TurboBloom   \n",
       "1  76f936ee-5147-40ac-986e-f0f1be5ac97e  Best overall pressure profile   \n",
       "2  8853ae7c-5bf8-4194-93dd-462de63f1471                        Default   \n",
       "3  a4d7a358-fc3f-451c-92f5-756adaa4a7dd                    Rao Allongé   \n",
       "4  3ebcfff9-fb6f-47f6-a3df-affe01d55150                      Londonium   \n",
       "\n",
       "                                user_id  drink_tds  drink_ey  \\\n",
       "0  8d827d10-510f-4475-bd54-63c93b275c16        NaN       NaN   \n",
       "1  10f1e281-8fd0-4f43-94f6-d416713dabe0        NaN       NaN   \n",
       "2  30b3dd10-aebb-4f17-ba74-a1efcf2d51ea        NaN       NaN   \n",
       "3  c8c4793c-6708-4e81-90e8-6d8a5b30ceee        NaN       NaN   \n",
       "4  db110ce3-77b7-4c92-9d18-1019c3841cc9        NaN       NaN   \n",
       "\n",
       "   espresso_enjoyment  bean_weight  drink_weight grinder_model  \\\n",
       "0                80.0         15.0          35.2     Lagom P64   \n",
       "1                 NaN         18.0          36.1   Bentwood 63   \n",
       "2                 NaN          NaN          40.3          None   \n",
       "3                 NaN          NaN         124.5    Niche Zero   \n",
       "4                 NaN          NaN           NaN          None   \n",
       "\n",
       "   grinder_setting  ...                        espresso_temperature_basket  \\\n",
       "0         0.014737  ...  [86.0, 85.12, 85.27, 85.49, 85.38, 85.35, 85.3...   \n",
       "1         0.121212  ...  [88.0, 87.18, 87.39, 87.37, 87.31, 87.23, 87.0...   \n",
       "2              NaN  ...  [90.5, 87.93, 88.21, 88.23, 88.16, 88.14, 88.1...   \n",
       "3         0.067500  ...  [92.0, 90.0, 90.41, 90.36, 90.35, 90.44, 90.4,...   \n",
       "4              NaN  ...  [89.0, 87.55, 87.81, 87.75, 87.76, 87.8, 87.74...   \n",
       "\n",
       "  duration user_name bean_age yield_ratio max_pressure max_flow  \\\n",
       "0   18.493      None      NaN    2.346667         5.95     8.27   \n",
       "1   29.475      None      NaN    2.005556         8.38     4.11   \n",
       "2   35.054      None      NaN         NaN         8.90     4.09   \n",
       "3   40.996      None      NaN         NaN         8.76     4.84   \n",
       "4   38.787      None      NaN         NaN         9.18     6.75   \n",
       "\n",
       "  median_temperature mean_resistance roast_agtron  \n",
       "0              84.38        0.411447         91.0  \n",
       "1              87.64        1.603333          NaN  \n",
       "2              88.69        4.545352         75.0  \n",
       "3              91.75        0.359096          NaN  \n",
       "4              87.99       17.786497          NaN  \n",
       "\n",
       "[5 rows x 43 columns]"
      ]
     },
     "execution_count": 3,
     "metadata": {},
     "output_type": "execute_result"
    }
   ],
   "source": [
    "shots_df[\"yield_ratio\"] = shots_df[\"drink_weight\"] / shots_df[\"bean_weight\"]\n",
    "\n",
    "max_espresso_weight = shots_df[\"espresso_weight\"].apply(lambda x: max(x) if x is not None else None).replace({0: np.NaN})\n",
    "shots_df[\"drink_weight\"].fillna(max_espresso_weight)\n",
    "\n",
    "shots_df[\"max_pressure\"] = shots_df[\"espresso_pressure\"].apply(np.max)\n",
    "shots_df[\"max_flow\"] = shots_df[\"espresso_flow\"].apply(np.max)\n",
    "shots_df[\"median_temperature\"] = shots_df[\"espresso_temperature_basket\"].apply(np.median)\n",
    "shots_df[\"mean_resistance\"] = shots_df[\"espresso_resistance\"].apply(lambda x: np.mean(x) if x is not None else None)\n",
    "\n",
    "shots_df[\"roast_agtron\"] = shots_df[\"roast_level\"]\n",
    "shots_df[\"roast_level\"] = agtron_to_roast_level(shots_df[\"roast_level\"])\n",
    "shots_df[\"grinder_setting\"] = shots_df.groupby('grinder_model')['grinder_setting'].apply(lambda x: (x-min(x))/(max(x)-min(x)))\n",
    "\n",
    "shots_df.head()"
   ]
  },
  {
   "cell_type": "code",
   "execution_count": 8,
   "id": "d93c04fe-784a-4065-b130-e4e5ce9b7367",
   "metadata": {},
   "outputs": [
    {
     "data": {
      "text/plain": [
       "Niche Zero                  11059\n",
       "Sette 270                    2389\n",
       "Mahlkonig EK43               1930\n",
       "Lagom P100                   1863\n",
       "Bentwood 63                  1852\n",
       "Lagom P64                    1709\n",
       "Kafatek Monolith Flat        1534\n",
       "Kafatek Monolith Max         1371\n",
       "DF64                          850\n",
       "Eureka Mignon Specialita      604\n",
       "Weber EG-1                    432\n",
       "Titus M3                      394\n",
       "Baratza Forté                 392\n",
       "Kinu M47 Simplicity           386\n",
       "LeverCraft Ultra              306\n",
       "Mazzer Mini                   252\n",
       "Baratza Vario                 239\n",
       "1Zpresso JX-PRO               208\n",
       "Eureka Atom Specialty 75      196\n",
       "Macap M4                      191\n",
       "Name: grinder_model, dtype: int64"
      ]
     },
     "execution_count": 8,
     "metadata": {},
     "output_type": "execute_result"
    }
   ],
   "source": [
    "shots_df[\"grinder_model\"].value_counts().head(20)"
   ]
  },
  {
   "cell_type": "markdown",
   "id": "e5eba20d-66df-4d99-98a8-825425eb1623",
   "metadata": {
    "jp-MarkdownHeadingCollapsed": true,
    "tags": []
   },
   "source": [
    "## Grindsize vs shot time"
   ]
  },
  {
   "cell_type": "code",
   "execution_count": 4,
   "id": "2148e67e-c139-4e5c-a34d-745aa699daf3",
   "metadata": {},
   "outputs": [
    {
     "data": {
      "text/plain": [
       "grinder_model   grinder_setting\n",
       "Niche Zero      0.060000           812\n",
       "                0.065000           806\n",
       "                0.070000           785\n",
       "                0.085000           689\n",
       "                0.075000           678\n",
       "                0.055000           604\n",
       "                0.050000           520\n",
       "                0.080000           508\n",
       "                0.090000           405\n",
       "Baratza Forté   0.000000           385\n",
       "Niche Zero      0.095000           319\n",
       "Bentwood 63     0.136364           315\n",
       "Niche Zero      0.040000           297\n",
       "                0.045000           286\n",
       "Lagom P64       0.093684           257\n",
       "Niche Zero      0.062500           245\n",
       "                0.035000           237\n",
       "                0.067500           216\n",
       "                0.077500           208\n",
       "Mahlkonig EK43  0.153333           207\n",
       "Name: grinder_setting, dtype: int64"
      ]
     },
     "execution_count": 4,
     "metadata": {},
     "output_type": "execute_result"
    }
   ],
   "source": [
    "# Most popular grinder settings\n",
    "shots_df.groupby([\"grinder_model\"])[\"grinder_setting\"].value_counts().sort_values(ascending=False)[:20]"
   ]
  },
  {
   "cell_type": "markdown",
   "id": "ec397b75-81e5-453d-a5f7-be9a767d0823",
   "metadata": {},
   "source": [
    "### Since shot time is dependent on the profile, we look at Grindsize vs shot time for the top 5 profiles independently"
   ]
  },
  {
   "cell_type": "code",
   "execution_count": 7,
   "id": "3a3621f0-7eb6-4821-ad4d-2accbf1b65d5",
   "metadata": {},
   "outputs": [
    {
     "data": {
      "text/plain": [
       "Default                          5158\n",
       "Damian's LRv3                    5101\n",
       "Londonium                        3806\n",
       "Damian's LRv2                    3657\n",
       "Gentle and sweet                 3209\n",
       "Blooming Espresso                2706\n",
       "Best overall pressure profile    2207\n",
       "Best practice (medium roast)     2173\n",
       "Adaptive (for medium roasts)     2099\n",
       "Rao Allongé                      1975\n",
       "Cremina lever machine            1741\n",
       "Nu Skool Espresso v3             1251\n",
       "DEK/Blooming Espresso             740\n",
       "Gagné/Adaptive Shot 94C v1.0      706\n",
       "Traditional lever machine         690\n",
       "Best practice (light roast)       646\n",
       "Tea portafilter/black tea         589\n",
       "Hendon Turbo 6b Decline           583\n",
       "Classic Italian espresso          555\n",
       "TurboBloom                        549\n",
       "Name: profile_title, dtype: int64"
      ]
     },
     "execution_count": 7,
     "metadata": {},
     "output_type": "execute_result"
    }
   ],
   "source": [
    "most_popular_profiles = shots_df[\"profile_title\"].value_counts()\n",
    "most_popular_profiles.head(20)"
   ]
  },
  {
   "cell_type": "code",
   "execution_count": null,
   "id": "baee72a5-923d-44d1-b773-fc119303b550",
   "metadata": {},
   "outputs": [],
   "source": [
    "niche_shots = shots_df[shots_df[\"grinder_model\"] == \"Niche Zero\"]\n",
    "\n",
    "df = niche_shots[niche_shots[\"profile_title\"].isin(most_popular_profiles.index[:5]) \\\n",
    "                 & niche_shots[\"roast_level\"].notnull() \\\n",
    "                 # & niche_shots[\"yield_ratio\"].notnull()\n",
    "                ]\n",
    "\n",
    "fig = px.scatter(df, \n",
    "                 x='grinder_setting', y='shot_time', \n",
    "                 facet_col='profile_title',\n",
    "                 # facet_row='roast_level',\n",
    "                 color=\"yield_ratio\", \n",
    "                 # range_color=(0, 50),\n",
    "                 trendline=\"ols\",\n",
    "                 title='Niche Zero: larger grind setting leads to shorter shot time',\n",
    "                 height=500, width=1200,\n",
    "                 )\n",
    "\n",
    "fig\n",
    "# .show(renderer=\"png\")"
   ]
  },
  {
   "cell_type": "markdown",
   "id": "7a46ba4a-71af-4b5e-a522-65aadab5043f",
   "metadata": {
    "jp-MarkdownHeadingCollapsed": true,
    "tags": []
   },
   "source": [
    "# PCA of features"
   ]
  },
  {
   "cell_type": "code",
   "execution_count": 9,
   "id": "0b955fa3-f722-4803-b221-0a5be5a51903",
   "metadata": {},
   "outputs": [
    {
     "data": {
      "text/plain": [
       "Index(['drink_tds', 'drink_ey', 'espresso_enjoyment', 'bean_weight',\n",
       "       'drink_weight', 'grinder_setting', 'duration', 'bean_age',\n",
       "       'yield_ratio', 'max_pressure', 'max_flow', 'median_temperature',\n",
       "       'mean_resistance', 'roast_agtron'],\n",
       "      dtype='object')"
      ]
     },
     "execution_count": 9,
     "metadata": {},
     "output_type": "execute_result"
    }
   ],
   "source": [
    "num_cols = shots_df.select_dtypes('number').columns\n",
    "num_cols"
   ]
  },
  {
   "cell_type": "code",
   "execution_count": 10,
   "id": "1d3ba45f-26bc-41eb-af76-458343ab5280",
   "metadata": {},
   "outputs": [
    {
     "name": "stderr",
     "output_type": "stream",
     "text": [
      "/opt/anaconda3/lib/python3.7/site-packages/ipykernel_launcher.py:1: SettingWithCopyWarning: \n",
      "A value is trying to be set on a copy of a slice from a DataFrame\n",
      "\n",
      "See the caveats in the documentation: https://pandas.pydata.org/pandas-docs/stable/user_guide/indexing.html#returning-a-view-versus-a-copy\n",
      "  \"\"\"Entry point for launching an IPython kernel.\n"
     ]
    },
    {
     "data": {
      "text/plain": [
       "max_flow                 14.930000\n",
       "median_temperature      110.000000\n",
       "mean_resistance       79147.457577\n",
       "dtype: float64"
      ]
     },
     "execution_count": 10,
     "metadata": {},
     "output_type": "execute_result"
    }
   ],
   "source": [
    "shots_df['mean_resistance'][shots_df['mean_resistance'] > 80000] = np.NaN\n",
    "shots_df[['max_flow', 'median_temperature','mean_resistance']].max(axis=0)"
   ]
  },
  {
   "cell_type": "code",
   "execution_count": 11,
   "id": "81fafa35-f533-49b2-aba2-301a5759866a",
   "metadata": {},
   "outputs": [
    {
     "name": "stdout",
     "output_type": "stream",
     "text": [
      "(7271, 10)\n"
     ]
    },
    {
     "data": {
      "text/plain": [
       "bean_age              60474\n",
       "bean_weight           32634\n",
       "drink_weight          10203\n",
       "duration                  0\n",
       "grinder_setting       45970\n",
       "max_flow                  0\n",
       "max_pressure              0\n",
       "mean_resistance       16207\n",
       "median_temperature        0\n",
       "yield_ratio           36032\n",
       "dtype: int64"
      ]
     },
     "execution_count": 11,
     "metadata": {},
     "output_type": "execute_result"
    }
   ],
   "source": [
    "X = shots_df.filter(num_cols.difference(['drink_tds', 'drink_ey', 'espresso_enjoyment', 'roast_agtron']), axis=1)\n",
    "\n",
    "scaler = StandardScaler(with_mean=True, with_std=True)\n",
    "X_scale = pd.DataFrame(scaler.fit_transform(X), \n",
    "                       index=X.index, columns=X.columns)\n",
    "\n",
    "X_scale = X_scale.dropna(axis=0)\n",
    "print(X_scale.shape)\n",
    "X.isnull().sum()"
   ]
  },
  {
   "cell_type": "code",
   "execution_count": 12,
   "id": "2421b4ef-96cc-4d1c-b3e0-1f35bc4818a8",
   "metadata": {},
   "outputs": [
    {
     "data": {
      "text/html": [
       "<div>\n",
       "<style scoped>\n",
       "    .dataframe tbody tr th:only-of-type {\n",
       "        vertical-align: middle;\n",
       "    }\n",
       "\n",
       "    .dataframe tbody tr th {\n",
       "        vertical-align: top;\n",
       "    }\n",
       "\n",
       "    .dataframe thead th {\n",
       "        text-align: right;\n",
       "    }\n",
       "</style>\n",
       "<table border=\"1\" class=\"dataframe\">\n",
       "  <thead>\n",
       "    <tr style=\"text-align: right;\">\n",
       "      <th></th>\n",
       "      <th>bean_age</th>\n",
       "      <th>bean_weight</th>\n",
       "      <th>drink_weight</th>\n",
       "      <th>duration</th>\n",
       "      <th>grinder_setting</th>\n",
       "      <th>max_flow</th>\n",
       "      <th>max_pressure</th>\n",
       "      <th>mean_resistance</th>\n",
       "      <th>median_temperature</th>\n",
       "      <th>yield_ratio</th>\n",
       "    </tr>\n",
       "  </thead>\n",
       "  <tbody>\n",
       "    <tr>\n",
       "      <th>5</th>\n",
       "      <td>0.492323</td>\n",
       "      <td>0.159861</td>\n",
       "      <td>-0.107113</td>\n",
       "      <td>-0.707964</td>\n",
       "      <td>0.004954</td>\n",
       "      <td>0.563125</td>\n",
       "      <td>-0.910497</td>\n",
       "      <td>-0.091809</td>\n",
       "      <td>0.490382</td>\n",
       "      <td>-0.176163</td>\n",
       "    </tr>\n",
       "    <tr>\n",
       "      <th>16</th>\n",
       "      <td>-0.609085</td>\n",
       "      <td>0.159861</td>\n",
       "      <td>0.015271</td>\n",
       "      <td>-0.626582</td>\n",
       "      <td>0.085658</td>\n",
       "      <td>-0.314441</td>\n",
       "      <td>-0.873249</td>\n",
       "      <td>-0.091821</td>\n",
       "      <td>0.044209</td>\n",
       "      <td>-0.073898</td>\n",
       "    </tr>\n",
       "    <tr>\n",
       "      <th>19</th>\n",
       "      <td>0.991038</td>\n",
       "      <td>0.159861</td>\n",
       "      <td>-0.434928</td>\n",
       "      <td>-0.887172</td>\n",
       "      <td>-0.452885</td>\n",
       "      <td>1.009983</td>\n",
       "      <td>0.016036</td>\n",
       "      <td>-0.091868</td>\n",
       "      <td>-0.420414</td>\n",
       "      <td>-0.450087</td>\n",
       "    </tr>\n",
       "    <tr>\n",
       "      <th>47</th>\n",
       "      <td>-0.737543</td>\n",
       "      <td>0.159861</td>\n",
       "      <td>0.019642</td>\n",
       "      <td>-0.354775</td>\n",
       "      <td>5.250708</td>\n",
       "      <td>-1.315834</td>\n",
       "      <td>2.097243</td>\n",
       "      <td>-0.091667</td>\n",
       "      <td>0.305874</td>\n",
       "      <td>-0.070246</td>\n",
       "    </tr>\n",
       "    <tr>\n",
       "      <th>63</th>\n",
       "      <td>-0.189860</td>\n",
       "      <td>0.159861</td>\n",
       "      <td>-0.399961</td>\n",
       "      <td>-0.051123</td>\n",
       "      <td>0.126010</td>\n",
       "      <td>1.602205</td>\n",
       "      <td>0.588717</td>\n",
       "      <td>-0.089985</td>\n",
       "      <td>-0.029594</td>\n",
       "      <td>-0.420869</td>\n",
       "    </tr>\n",
       "    <tr>\n",
       "      <th>...</th>\n",
       "      <td>...</td>\n",
       "      <td>...</td>\n",
       "      <td>...</td>\n",
       "      <td>...</td>\n",
       "      <td>...</td>\n",
       "      <td>...</td>\n",
       "      <td>...</td>\n",
       "      <td>...</td>\n",
       "      <td>...</td>\n",
       "      <td>...</td>\n",
       "    </tr>\n",
       "    <tr>\n",
       "      <th>70340</th>\n",
       "      <td>-0.608536</td>\n",
       "      <td>-0.262938</td>\n",
       "      <td>-0.373736</td>\n",
       "      <td>0.017593</td>\n",
       "      <td>-0.116101</td>\n",
       "      <td>0.509286</td>\n",
       "      <td>-0.742883</td>\n",
       "      <td>-0.062729</td>\n",
       "      <td>0.463544</td>\n",
       "      <td>-0.323115</td>\n",
       "    </tr>\n",
       "    <tr>\n",
       "      <th>70345</th>\n",
       "      <td>-0.712467</td>\n",
       "      <td>0.159861</td>\n",
       "      <td>-0.338769</td>\n",
       "      <td>-0.139782</td>\n",
       "      <td>0.509354</td>\n",
       "      <td>0.676185</td>\n",
       "      <td>0.169682</td>\n",
       "      <td>-0.073054</td>\n",
       "      <td>0.362624</td>\n",
       "      <td>-0.369736</td>\n",
       "    </tr>\n",
       "    <tr>\n",
       "      <th>70384</th>\n",
       "      <td>-0.724066</td>\n",
       "      <td>0.159861</td>\n",
       "      <td>-0.330027</td>\n",
       "      <td>-0.175044</td>\n",
       "      <td>0.509354</td>\n",
       "      <td>0.966912</td>\n",
       "      <td>0.090531</td>\n",
       "      <td>-0.090436</td>\n",
       "      <td>0.234960</td>\n",
       "      <td>-0.362431</td>\n",
       "    </tr>\n",
       "    <tr>\n",
       "      <th>70387</th>\n",
       "      <td>-0.624533</td>\n",
       "      <td>-0.262938</td>\n",
       "      <td>-0.347511</td>\n",
       "      <td>-1.167503</td>\n",
       "      <td>-0.116101</td>\n",
       "      <td>0.520054</td>\n",
       "      <td>-0.519398</td>\n",
       "      <td>0.388758</td>\n",
       "      <td>0.988552</td>\n",
       "      <td>-0.299912</td>\n",
       "    </tr>\n",
       "    <tr>\n",
       "      <th>70395</th>\n",
       "      <td>-0.626040</td>\n",
       "      <td>-0.262938</td>\n",
       "      <td>-0.347511</td>\n",
       "      <td>0.118918</td>\n",
       "      <td>-0.116101</td>\n",
       "      <td>0.514670</td>\n",
       "      <td>-0.775474</td>\n",
       "      <td>-0.059152</td>\n",
       "      <td>0.847655</td>\n",
       "      <td>-0.299912</td>\n",
       "    </tr>\n",
       "  </tbody>\n",
       "</table>\n",
       "<p>7271 rows × 10 columns</p>\n",
       "</div>"
      ],
      "text/plain": [
       "       bean_age  bean_weight  drink_weight  duration  grinder_setting  \\\n",
       "5      0.492323     0.159861     -0.107113 -0.707964         0.004954   \n",
       "16    -0.609085     0.159861      0.015271 -0.626582         0.085658   \n",
       "19     0.991038     0.159861     -0.434928 -0.887172        -0.452885   \n",
       "47    -0.737543     0.159861      0.019642 -0.354775         5.250708   \n",
       "63    -0.189860     0.159861     -0.399961 -0.051123         0.126010   \n",
       "...         ...          ...           ...       ...              ...   \n",
       "70340 -0.608536    -0.262938     -0.373736  0.017593        -0.116101   \n",
       "70345 -0.712467     0.159861     -0.338769 -0.139782         0.509354   \n",
       "70384 -0.724066     0.159861     -0.330027 -0.175044         0.509354   \n",
       "70387 -0.624533    -0.262938     -0.347511 -1.167503        -0.116101   \n",
       "70395 -0.626040    -0.262938     -0.347511  0.118918        -0.116101   \n",
       "\n",
       "       max_flow  max_pressure  mean_resistance  median_temperature  \\\n",
       "5      0.563125     -0.910497        -0.091809            0.490382   \n",
       "16    -0.314441     -0.873249        -0.091821            0.044209   \n",
       "19     1.009983      0.016036        -0.091868           -0.420414   \n",
       "47    -1.315834      2.097243        -0.091667            0.305874   \n",
       "63     1.602205      0.588717        -0.089985           -0.029594   \n",
       "...         ...           ...              ...                 ...   \n",
       "70340  0.509286     -0.742883        -0.062729            0.463544   \n",
       "70345  0.676185      0.169682        -0.073054            0.362624   \n",
       "70384  0.966912      0.090531        -0.090436            0.234960   \n",
       "70387  0.520054     -0.519398         0.388758            0.988552   \n",
       "70395  0.514670     -0.775474        -0.059152            0.847655   \n",
       "\n",
       "       yield_ratio  \n",
       "5        -0.176163  \n",
       "16       -0.073898  \n",
       "19       -0.450087  \n",
       "47       -0.070246  \n",
       "63       -0.420869  \n",
       "...            ...  \n",
       "70340    -0.323115  \n",
       "70345    -0.369736  \n",
       "70384    -0.362431  \n",
       "70387    -0.299912  \n",
       "70395    -0.299912  \n",
       "\n",
       "[7271 rows x 10 columns]"
      ]
     },
     "execution_count": 12,
     "metadata": {},
     "output_type": "execute_result"
    }
   ],
   "source": [
    "X_scale"
   ]
  },
  {
   "cell_type": "code",
   "execution_count": 13,
   "id": "dbef32b8-c718-4ab5-a22e-09255659c5ab",
   "metadata": {},
   "outputs": [],
   "source": [
    "# df = X.corr()\n",
    "# df.style.background_gradient(\"viridis\", axis=None)"
   ]
  },
  {
   "cell_type": "code",
   "execution_count": 14,
   "id": "516bf39f-c8eb-49f8-9bd1-1d353f05ac83",
   "metadata": {},
   "outputs": [],
   "source": [
    "pca = PCA(n_components=8)\n",
    "# fa = FactorAnalysis(n_components=8)\n",
    "X_pca = pd.DataFrame(pca.fit_transform(X_scale), index=X_scale.index)\n",
    "\n",
    "# px.line(np.cumsum(pca.explained_variance_ratio_))"
   ]
  },
  {
   "cell_type": "code",
   "execution_count": null,
   "id": "b3273eb8-2fd3-4ffa-bcf5-98480e7d0c3b",
   "metadata": {},
   "outputs": [],
   "source": [
    "fig = px.scatter_matrix(X_pca, \n",
    "                        dimensions=range(2),\n",
    "                        # color=shots_df.loc[X_pca.index, \"profile_title\"].str.slice(0, 25),\n",
    "                        color=shots_df.loc[X_pca.index, \"roast_agtron\"],\n",
    "                       )\n",
    "\n",
    "fig.update_traces(diagonal_visible=False)\n",
    "fig.update_layout(height=1200, width=1200)\n",
    "fig.show(renderer=\"png\")"
   ]
  },
  {
   "cell_type": "markdown",
   "id": "95d5567e-2b24-4247-9892-dac65d049389",
   "metadata": {},
   "source": [
    "# Autoencoder for time series"
   ]
  },
  {
   "cell_type": "code",
   "execution_count": 3,
   "id": "0e532f2a-4c8a-45e0-8459-67941020149d",
   "metadata": {},
   "outputs": [],
   "source": [
    "target_cols = ['espresso_flow', 'espresso_weight', 'espresso_pressure',\n",
    "                # 'espresso_resistance', \n",
    "               'espresso_flow_weight',\n",
    "                'espresso_temperature_basket'\n",
    "               ]"
   ]
  },
  {
   "cell_type": "code",
   "execution_count": 4,
   "id": "15f8c029-e7c5-4baf-974a-bb0b399020df",
   "metadata": {
    "scrolled": true,
    "tags": []
   },
   "outputs": [
    {
     "data": {
      "text/plain": [
       "{'device': device(type='cuda'),\n",
       " 'categorical_cols': ['Time'],\n",
       " 'label_col': ['espresso_flow',\n",
       "  'espresso_weight',\n",
       "  'espresso_pressure',\n",
       "  'espresso_flow_weight',\n",
       "  'espresso_temperature_basket'],\n",
       " 'index_col': 'Date',\n",
       " 'output_size': 5,\n",
       " 'num_epochs': 100,\n",
       " 'batch_size': 16,\n",
       " 'lr': 1e-05,\n",
       " 'reg1': True,\n",
       " 'reg2': False,\n",
       " 'reg_factor1': 0.0001,\n",
       " 'reg_factor2': 0.0001,\n",
       " 'seq_len': 10,\n",
       " 'prediction_window': 1,\n",
       " 'hidden_size_encoder': 128,\n",
       " 'hidden_size_decoder': 128,\n",
       " 'input_att': True,\n",
       " 'temporal_att': True,\n",
       " 'denoising': False,\n",
       " 'directions': 1,\n",
       " 'max_grad_norm': 0.1,\n",
       " 'gradient_accumulation_steps': 1,\n",
       " 'logging_steps': 100,\n",
       " 'lrs_step_size': 5000,\n",
       " 'output_dir': 'output',\n",
       " 'save_steps': 5000,\n",
       " 'eval_during_training': True}"
      ]
     },
     "execution_count": 4,
     "metadata": {},
     "output_type": "execute_result"
    }
   ],
   "source": [
    "config[\"output_size\"] = len(target_cols)\n",
    "config[\"label_col\"] = target_cols\n",
    "config"
   ]
  },
  {
   "cell_type": "markdown",
   "id": "ee8fa880-a78c-4599-8ac8-2a7606343964",
   "metadata": {
    "tags": []
   },
   "source": [
    "## Build dataset"
   ]
  },
  {
   "cell_type": "code",
   "execution_count": 6,
   "id": "51b64356-8263-4bf0-b078-2751d6f8415e",
   "metadata": {},
   "outputs": [
    {
     "data": {
      "text/plain": [
       "(56217, 37)"
      ]
     },
     "execution_count": 6,
     "metadata": {},
     "output_type": "execute_result"
    }
   ],
   "source": [
    "shots_training = shots_df[~shots_df[TIMESERIES_COLS].apply(lambda x: x.apply(lambda y: np.isnan(y).any() if y is not None else True)).any(axis=1)]\n",
    "shots_training.shape"
   ]
  },
  {
   "cell_type": "markdown",
   "id": "fc07481a-14ff-41df-b587-f4ff30b4ae49",
   "metadata": {
    "tags": []
   },
   "source": [
    "##  Test dataset"
   ]
  },
  {
   "cell_type": "code",
   "execution_count": 6,
   "id": "e66a8a13-a23c-4b23-9acd-f1bf11fef68b",
   "metadata": {},
   "outputs": [
    {
     "data": {
      "text/plain": [
       "(7819, 14)"
      ]
     },
     "execution_count": 6,
     "metadata": {},
     "output_type": "execute_result"
    }
   ],
   "source": [
    "shots_series = extract_shot_series(shots_training.sample(100))\n",
    "shots_series = resample_shot_series(shots_series)\n",
    "shots_series.replace({np.inf: None}, inplace=True)\n",
    "shots_series.shape"
   ]
  },
  {
   "cell_type": "code",
   "execution_count": 7,
   "id": "4a011a0a-0420-49e6-a859-4faac1e97012",
   "metadata": {},
   "outputs": [
    {
     "data": {
      "text/plain": [
       "espresso_flow                    0\n",
       "espresso_weight                  0\n",
       "espresso_pressure                0\n",
       "espresso_flow_goal               0\n",
       "espresso_resistance            647\n",
       "espresso_flow_weight             0\n",
       "espresso_state_change            0\n",
       "espresso_pressure_goal           0\n",
       "espresso_flow_weight_raw         0\n",
       "espresso_temperature_mix         0\n",
       "espresso_water_dispensed         0\n",
       "espresso_temperature_goal        0\n",
       "espresso_resistance_weight       0\n",
       "espresso_temperature_basket      0\n",
       "dtype: int64"
      ]
     },
     "execution_count": 7,
     "metadata": {},
     "output_type": "execute_result"
    }
   ],
   "source": [
    "shots_series.isna().sum()"
   ]
  },
  {
   "cell_type": "code",
   "execution_count": 11,
   "id": "c641fe17-0ba3-434d-b7d9-e22b8f2541a7",
   "metadata": {},
   "outputs": [],
   "source": [
    "ts = TimeSeriesDataset(\n",
    "    data=shots_series.drop([\"espresso_resistance\"], axis=1),\n",
    "    categorical_cols=[],\n",
    "    # categorical_cols=['grinder_model', 'roast_level'],\n",
    "    # target_col=[\"espresso_enjoyment\"],\n",
    "    target_col=target_cols,\n",
    "    seq_length=config[\"seq_len\"],\n",
    "    prediction_window=config[\"prediction_window\"],\n",
    ")"
   ]
  },
  {
   "cell_type": "code",
   "execution_count": 12,
   "id": "59712165-fdc6-4191-b082-52567d60e770",
   "metadata": {},
   "outputs": [
    {
     "data": {
      "text/plain": [
       "8"
      ]
     },
     "execution_count": 12,
     "metadata": {},
     "output_type": "execute_result"
    }
   ],
   "source": [
    "train_iter, test_iter, nb_features = ts.get_loaders(batch_size=config[\"batch_size\"])\n",
    "temp_iter = iter(train_iter)\n",
    "\n",
    "nb_features"
   ]
  },
  {
   "cell_type": "code",
   "execution_count": 13,
   "id": "84066b18-ea87-4f84-a6bf-48191fbf7468",
   "metadata": {},
   "outputs": [
    {
     "data": {
      "text/plain": [
       "{'X': [32, 64, 8], 'y': [32, 64, 5], 'z': [32, 5]}"
      ]
     },
     "execution_count": 13,
     "metadata": {},
     "output_type": "execute_result"
    }
   ],
   "source": [
    "X, y_hist, target = next(temp_iter)\n",
    "tensor_sizes({\"X\": X, \"y\": y_hist, \"z\": target})"
   ]
  },
  {
   "cell_type": "markdown",
   "id": "6aa2cd84-4ca1-48fb-aff4-ed917ae3a4dc",
   "metadata": {},
   "source": [
    "## Build Model"
   ]
  },
  {
   "cell_type": "code",
   "execution_count": 1,
   "id": "53f7a05c-c820-4e8b-8aa0-6635f6e05fcd",
   "metadata": {
    "scrolled": true,
    "tags": []
   },
   "outputs": [
    {
     "ename": "NameError",
     "evalue": "name 'config' is not defined",
     "output_type": "error",
     "traceback": [
      "\u001b[0;31m---------------------------------------------------------------------------\u001b[0m",
      "\u001b[0;31mNameError\u001b[0m                                 Traceback (most recent call last)",
      "\u001b[0;32m/tmp/ipykernel_10932/1964268624.py\u001b[0m in \u001b[0;36m<module>\u001b[0;34m\u001b[0m\n\u001b[0;32m----> 1\u001b[0;31m \u001b[0mconfig\u001b[0m\u001b[0;34m[\u001b[0m\u001b[0;34m'batch_size'\u001b[0m\u001b[0;34m]\u001b[0m \u001b[0;34m=\u001b[0m \u001b[0;36m2\u001b[0m\u001b[0;34m**\u001b[0m\u001b[0;36m9\u001b[0m\u001b[0;34m\u001b[0m\u001b[0;34m\u001b[0m\u001b[0m\n\u001b[0m\u001b[1;32m      2\u001b[0m \u001b[0mconfig\u001b[0m\u001b[0;34m[\u001b[0m\u001b[0;34m\"seq_len\"\u001b[0m\u001b[0;34m]\u001b[0m \u001b[0;34m=\u001b[0m \u001b[0;36m64\u001b[0m\u001b[0;34m\u001b[0m\u001b[0;34m\u001b[0m\u001b[0m\n\u001b[1;32m      3\u001b[0m \u001b[0mconfig\u001b[0m\u001b[0;34m[\u001b[0m\u001b[0;34m'weight_decay'\u001b[0m\u001b[0;34m]\u001b[0m \u001b[0;34m=\u001b[0m \u001b[0;36m1e-3\u001b[0m\u001b[0;34m\u001b[0m\u001b[0;34m\u001b[0m\u001b[0m\n\u001b[1;32m      4\u001b[0m \u001b[0;34m\u001b[0m\u001b[0m\n\u001b[1;32m      5\u001b[0m \u001b[0mmodel\u001b[0m \u001b[0;34m=\u001b[0m \u001b[0mShotsAutoEncForecast\u001b[0m\u001b[0;34m(\u001b[0m\u001b[0mshots_training\u001b[0m\u001b[0;34m.\u001b[0m\u001b[0msample\u001b[0m\u001b[0;34m(\u001b[0m\u001b[0;36m10000\u001b[0m\u001b[0;34m)\u001b[0m\u001b[0;34m,\u001b[0m \u001b[0mconfig\u001b[0m\u001b[0;34m)\u001b[0m\u001b[0;34m\u001b[0m\u001b[0;34m\u001b[0m\u001b[0m\n",
      "\u001b[0;31mNameError\u001b[0m: name 'config' is not defined"
     ]
    }
   ],
   "source": [
    "config['batch_size'] = 2**9\n",
    "config[\"seq_len\"] = 64\n",
    "config['weight_decay'] = 1e-3\n",
    "\n",
    "model = ShotsAutoEncForecast(shots_training.sample(10000), config)\n",
    "model.hparams"
   ]
  },
  {
   "cell_type": "markdown",
   "id": "c26c254f-8808-4dac-8649-69761c3ca992",
   "metadata": {},
   "source": [
    "## Training"
   ]
  },
  {
   "cell_type": "code",
   "execution_count": 8,
   "id": "c83b8762-5500-4039-80d1-21ca20370597",
   "metadata": {},
   "outputs": [
    {
     "name": "stderr",
     "output_type": "stream",
     "text": [
      "Failed to detect the name of this notebook, you can set it manually with the WANDB_NOTEBOOK_NAME environment variable to enable code saving.\n",
      "\u001b[34m\u001b[1mwandb\u001b[0m: Currently logged in as: \u001b[33manony-mouse-76758\u001b[0m (use `wandb login --relogin` to force relogin)\n",
      "2022-01-02 16:37:53.694173: W tensorflow/stream_executor/platform/default/dso_loader.cc:59] Could not load dynamic library 'libcudart.so.10.1'; dlerror: libcudart.so.10.1: cannot open shared object file: No such file or directory; LD_LIBRARY_PATH: /usr/local/cuda/lib64\n",
      "2022-01-02 16:37:53.694195: I tensorflow/stream_executor/cuda/cudart_stub.cc:29] Ignore above cudart dlerror if you do not have a GPU set up on your machine.\n"
     ]
    },
    {
     "data": {
      "text/html": [
       "\n",
       "                Tracking run with wandb version 0.12.2<br/>\n",
       "                Syncing run <strong style=\"color:#cdcd00\">ShotsAutoEncForecast</strong> to <a href=\"https://wandb.ai\" target=\"_blank\">Weights & Biases</a> <a href=\"https://docs.wandb.com/integrations/jupyter.html\" target=\"_blank\">(Documentation)</a>.<br/>\n",
       "                Project page: <a href=\"https://wandb.ai/anony-mouse-76758/espresso-manifold?apiKey=66698fb01ce9316334a912ac9ba336eae1d8f773\" target=\"_blank\">https://wandb.ai/anony-mouse-76758/espresso-manifold?apiKey=66698fb01ce9316334a912ac9ba336eae1d8f773</a><br/>\n",
       "                Run page: <a href=\"https://wandb.ai/anony-mouse-76758/espresso-manifold/runs/glseavcy?apiKey=66698fb01ce9316334a912ac9ba336eae1d8f773\" target=\"_blank\">https://wandb.ai/anony-mouse-76758/espresso-manifold/runs/glseavcy?apiKey=66698fb01ce9316334a912ac9ba336eae1d8f773</a><br/>\n",
       "                Run data is saved locally in <code>/home/jonny_admin/PycharmProjects/espresso-manifold/notebooks/wandb/run-20220102_163747-glseavcy</code><br/><br/>\n",
       "            "
      ],
      "text/plain": [
       "<IPython.core.display.HTML object>"
      ]
     },
     "metadata": {},
     "output_type": "display_data"
    },
    {
     "name": "stderr",
     "output_type": "stream",
     "text": [
      "Using 16bit native Automatic Mixed Precision (AMP)\n",
      "GPU available: True, used: True\n",
      "TPU available: False, using: 0 TPU cores\n",
      "IPU available: False, using: 0 IPUs\n"
     ]
    }
   ],
   "source": [
    "max_epochs = 1000\n",
    "\n",
    "wandb_logger = WandbLogger(name='ShotsAutoEncForecast', \n",
    "                           tags=['Visualizer.Coffee'],\n",
    "                           project=\"espresso-manifold\",\n",
    "                           anonymous=\"allow\")\n",
    "wandb_logger.log_hyperparams(config)\n",
    "\n",
    "trainer = Trainer(\n",
    "    gpus=1,\n",
    "    auto_lr_find=False,\n",
    "    max_epochs=max_epochs, \n",
    "    callbacks=[EarlyStopping(monitor='val_loss', patience=5)],\n",
    "    logger=wandb_logger,\n",
    "    weights_summary='top',\n",
    "    precision=16\n",
    ")"
   ]
  },
  {
   "cell_type": "code",
   "execution_count": 10,
   "id": "b345d4d3-2994-4110-a33f-d706aef301c1",
   "metadata": {
    "scrolled": true,
    "tags": []
   },
   "outputs": [
    {
     "name": "stderr",
     "output_type": "stream",
     "text": [
      "LOCAL_RANK: 0 - CUDA_VISIBLE_DEVICES: [0]\n",
      "\n",
      "  | Name      | Type        | Params\n",
      "------------------------------------------\n",
      "0 | encoder   | AttnEncoder | 71.5 K\n",
      "1 | decoder   | AttnDecoder | 120 K \n",
      "2 | criterion | MSELoss     | 0     \n",
      "------------------------------------------\n",
      "191 K     Trainable params\n",
      "0         Non-trainable params\n",
      "191 K     Total params\n",
      "0.384     Total estimated model params size (MB)\n"
     ]
    },
    {
     "name": "stdout",
     "output_type": "stream",
     "text": [
      "Epoch 0: 100%|████| 6002/6002 [3:27:05<00:00,  2.07s/it, loss=0.974, v_num=avcy]\n",
      "Epoch 0:  12%|▉       | 713/6002 [02:08<15:49,  5.57it/s, loss=1.18, v_num=avcy]"
     ]
    },
    {
     "name": "stderr",
     "output_type": "stream",
     "text": [
      "/opt/anaconda3/lib/python3.7/site-packages/pytorch_lightning/trainer/trainer.py:686: UserWarning: Detected KeyboardInterrupt, attempting graceful shutdown...\n",
      "  rank_zero_warn(\"Detected KeyboardInterrupt, attempting graceful shutdown...\")\n",
      "Process wandb_internal:\n",
      "Traceback (most recent call last):\n",
      "  File \"/opt/anaconda3/lib/python3.7/multiprocessing/process.py\", line 297, in _bootstrap\n",
      "    self.run()\n",
      "  File \"/opt/anaconda3/lib/python3.7/multiprocessing/process.py\", line 99, in run\n",
      "    self._target(*self._args, **self._kwargs)\n",
      "  File \"/opt/anaconda3/lib/python3.7/site-packages/wandb/sdk/internal/internal.py\", line 152, in wandb_internal\n",
      "    thread.join()\n",
      "  File \"/opt/anaconda3/lib/python3.7/threading.py\", line 1044, in join\n",
      "    self._wait_for_tstate_lock()\n",
      "  File \"/opt/anaconda3/lib/python3.7/threading.py\", line 1060, in _wait_for_tstate_lock\n",
      "    elif lock.acquire(block, timeout):\n",
      "KeyboardInterrupt\n",
      "Traceback (most recent call last):\n",
      "  File \"<string>\", line 1, in <module>\n",
      "  File \"/opt/anaconda3/lib/python3.7/multiprocessing/spawn.py\", line 105, in spawn_main\n",
      "    exitcode = _main(fd)\n",
      "  File \"/opt/anaconda3/lib/python3.7/multiprocessing/spawn.py\", line 118, in _main\n",
      "    return self._bootstrap()\n",
      "  File \"/opt/anaconda3/lib/python3.7/multiprocessing/process.py\", line 315, in _bootstrap\n",
      "    threading._shutdown()\n",
      "  File \"/opt/anaconda3/lib/python3.7/threading.py\", line 1307, in _shutdown\n",
      "    lock.acquire()\n",
      "KeyboardInterrupt\n",
      "Exception in thread Thread-11:\n",
      "Traceback (most recent call last):\n",
      "  File \"/opt/anaconda3/lib/python3.7/threading.py\", line 926, in _bootstrap_inner\n",
      "    self.run()\n",
      "  File \"/opt/anaconda3/lib/python3.7/threading.py\", line 870, in run\n",
      "    self._target(*self._args, **self._kwargs)\n",
      "  File \"/opt/anaconda3/lib/python3.7/site-packages/wandb/sdk/wandb_run.py\", line 185, in check_network_status\n",
      "    status_response = self._interface.communicate_network_status()\n",
      "  File \"/opt/anaconda3/lib/python3.7/site-packages/wandb/sdk/interface/interface.py\", line 749, in communicate_network_status\n",
      "    resp = self._communicate(req, timeout=timeout, local=True)\n",
      "  File \"/opt/anaconda3/lib/python3.7/site-packages/wandb/sdk/interface/interface.py\", line 539, in _communicate\n",
      "    return self._communicate_async(rec, local=local).get(timeout=timeout)\n",
      "  File \"/opt/anaconda3/lib/python3.7/site-packages/wandb/sdk/interface/interface.py\", line 544, in _communicate_async\n",
      "    raise Exception(\"The wandb backend process has shutdown\")\n",
      "Exception: The wandb backend process has shutdown\n",
      "\n"
     ]
    }
   ],
   "source": [
    "trainer.fit(model)"
   ]
  },
  {
   "cell_type": "markdown",
   "id": "cdfbcfa4-5028-4e82-a522-9405ceb6f82a",
   "metadata": {},
   "source": [
    "## Evaluate"
   ]
  },
  {
   "cell_type": "code",
   "execution_count": null,
   "id": "ee81cbb2-1e17-4278-a223-753259504d9c",
   "metadata": {},
   "outputs": [
    {
     "name": "stdout",
     "output_type": "stream",
     "text": [
      "Epoch 0: 100%|██████| 6002/6002 [15:09<00:00,  6.60it/s, loss=0.974, v_num=avcy]"
     ]
    }
   ],
   "source": [
    "trainer.test(model)"
   ]
  },
  {
   "cell_type": "code",
   "execution_count": null,
   "id": "9467f40c-1c5d-4a81-8b9a-ef33a9529c31",
   "metadata": {},
   "outputs": [],
   "source": []
  }
 ],
 "metadata": {
  "kernelspec": {
   "display_name": "Python 3 (ipykernel)",
   "language": "python",
   "name": "python3"
  },
  "language_info": {
   "codemirror_mode": {
    "name": "ipython",
    "version": 3
   },
   "file_extension": ".py",
   "mimetype": "text/x-python",
   "name": "python",
   "nbconvert_exporter": "python",
   "pygments_lexer": "ipython3",
   "version": "3.7.11"
  }
 },
 "nbformat": 4,
 "nbformat_minor": 5
}
