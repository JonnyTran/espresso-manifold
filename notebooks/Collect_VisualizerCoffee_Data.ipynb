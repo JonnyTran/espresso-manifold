{
 "cells": [
  {
   "cell_type": "code",
   "execution_count": null,
   "metadata": {
    "colab": {
     "base_uri": "https://localhost:8080/"
    },
    "id": "XdgTqnctlEI7",
    "outputId": "cc1761fb-4739-45cb-f076-2d74a13a6039"
   },
   "outputs": [],
   "source": [
    "import io, os, re, logging\n",
    "import requests, tqdm, tarfile, itertools, html, time\n",
    "import numpy as np\n",
    "import pandas as pd\n",
    "import dask.dataframe as dd\n",
    "\n",
    "import plotly.express as px\n",
    "from dateparser import parse\n",
    "\n",
    "pd.set_option('display.max_rows', 20)"
   ]
  },
  {
   "cell_type": "markdown",
   "metadata": {
    "id": "Obi4UvzXmoi4"
   },
   "source": [
    "# Load all public shot IDs by iterating through pages from database"
   ]
  },
  {
   "cell_type": "code",
   "execution_count": 33,
   "metadata": {
    "id": "jGbDNSpUlNYW"
   },
   "outputs": [],
   "source": [
    "# n_pages = 7321\n",
    "\n",
    "# def get_page_json(page_num):\n",
    "#     response = requests.get(f'https://visualizer.coffee/api/shots?page={page_num}',)\n",
    "#     obj = response.json()\n",
    "#     return obj[\"data\"]\n",
    "\n",
    "# for page_num in tqdm.tqdm(range(1, n_pages+1)):\n",
    "#     data = get_page_json(page_num)\n",
    "#     data_pages.extend(data)\n",
    "\n",
    "# pages_df = pd.DataFrame.from_dict(data_pages).drop_duplicates()\n",
    "\n",
    "# Multi-worker \n",
    "# npartitions = 24\n",
    "# pages = pd.Series(range(1589, n_pages+1))\n",
    "\n",
    "# rest_df = dd.from_pandas(pages, npartitions=npartitions).apply(lambda pages: get_page_json(page), meta=list).compute()\n",
    "\n",
    "# pages_df.to_csv(\"./gdrive/MyDrive/Software_Projects/VisualizerCoffee/visualizercoffee_shot_ids.csv\", index=False)"
   ]
  },
  {
   "cell_type": "code",
   "execution_count": 8,
   "metadata": {
    "colab": {
     "base_uri": "https://localhost:8080/",
     "height": 445
    },
    "id": "PghXkC-Gs1jC",
    "outputId": "8da94a75-10d4-4299-8331-2424fbd00095"
   },
   "outputs": [
    {
     "data": {
      "text/html": [
       "<div>\n",
       "<style scoped>\n",
       "    .dataframe tbody tr th:only-of-type {\n",
       "        vertical-align: middle;\n",
       "    }\n",
       "\n",
       "    .dataframe tbody tr th {\n",
       "        vertical-align: top;\n",
       "    }\n",
       "\n",
       "    .dataframe thead th {\n",
       "        text-align: right;\n",
       "    }\n",
       "</style>\n",
       "<table border=\"1\" class=\"dataframe\">\n",
       "  <thead>\n",
       "    <tr style=\"text-align: right;\">\n",
       "      <th></th>\n",
       "      <th>clock</th>\n",
       "      <th>id</th>\n",
       "    </tr>\n",
       "  </thead>\n",
       "  <tbody>\n",
       "    <tr>\n",
       "      <th>0</th>\n",
       "      <td>1636526780</td>\n",
       "      <td>14899484-a5f8-4ccc-b372-79700c8150ae</td>\n",
       "    </tr>\n",
       "    <tr>\n",
       "      <th>1</th>\n",
       "      <td>1636526752</td>\n",
       "      <td>76f936ee-5147-40ac-986e-f0f1be5ac97e</td>\n",
       "    </tr>\n",
       "    <tr>\n",
       "      <th>2</th>\n",
       "      <td>1636526738</td>\n",
       "      <td>8853ae7c-5bf8-4194-93dd-462de63f1471</td>\n",
       "    </tr>\n",
       "    <tr>\n",
       "      <th>3</th>\n",
       "      <td>1636526681</td>\n",
       "      <td>a4d7a358-fc3f-451c-92f5-756adaa4a7dd</td>\n",
       "    </tr>\n",
       "    <tr>\n",
       "      <th>4</th>\n",
       "      <td>1636526665</td>\n",
       "      <td>3ebcfff9-fb6f-47f6-a3df-affe01d55150</td>\n",
       "    </tr>\n",
       "    <tr>\n",
       "      <th>...</th>\n",
       "      <td>...</td>\n",
       "      <td>...</td>\n",
       "    </tr>\n",
       "    <tr>\n",
       "      <th>72888</th>\n",
       "      <td>1593858840</td>\n",
       "      <td>7ecca37f-2dae-429e-9947-b3ee08793b78</td>\n",
       "    </tr>\n",
       "    <tr>\n",
       "      <th>72889</th>\n",
       "      <td>1593855731</td>\n",
       "      <td>7bf138f6-8fb9-41c9-a513-74874115684f</td>\n",
       "    </tr>\n",
       "    <tr>\n",
       "      <th>72890</th>\n",
       "      <td>1593752661</td>\n",
       "      <td>b857b000-2326-4a90-83cc-f128253959df</td>\n",
       "    </tr>\n",
       "    <tr>\n",
       "      <th>72891</th>\n",
       "      <td>1593689393</td>\n",
       "      <td>f5dd375e-95e0-473a-90f0-2dca37fe0d29</td>\n",
       "    </tr>\n",
       "    <tr>\n",
       "      <th>72892</th>\n",
       "      <td>1593674687</td>\n",
       "      <td>e7244f86-a5bc-4f05-bb87-03ffa6fab3d9</td>\n",
       "    </tr>\n",
       "  </tbody>\n",
       "</table>\n",
       "<p>72893 rows × 2 columns</p>\n",
       "</div>"
      ],
      "text/plain": [
       "            clock                                    id\n",
       "0      1636526780  14899484-a5f8-4ccc-b372-79700c8150ae\n",
       "1      1636526752  76f936ee-5147-40ac-986e-f0f1be5ac97e\n",
       "2      1636526738  8853ae7c-5bf8-4194-93dd-462de63f1471\n",
       "3      1636526681  a4d7a358-fc3f-451c-92f5-756adaa4a7dd\n",
       "4      1636526665  3ebcfff9-fb6f-47f6-a3df-affe01d55150\n",
       "...           ...                                   ...\n",
       "72888  1593858840  7ecca37f-2dae-429e-9947-b3ee08793b78\n",
       "72889  1593855731  7bf138f6-8fb9-41c9-a513-74874115684f\n",
       "72890  1593752661  b857b000-2326-4a90-83cc-f128253959df\n",
       "72891  1593689393  f5dd375e-95e0-473a-90f0-2dca37fe0d29\n",
       "72892  1593674687  e7244f86-a5bc-4f05-bb87-03ffa6fab3d9\n",
       "\n",
       "[72893 rows x 2 columns]"
      ]
     },
     "execution_count": 8,
     "metadata": {},
     "output_type": "execute_result"
    }
   ],
   "source": [
    "# Load list of shots\n",
    "public_shots_file = \"./visualizercoffee_shot_ids.csv\"\n",
    "pages_df = pd.read_csv(public_shots_file)\n",
    "\n",
    "pages_df"
   ]
  },
  {
   "cell_type": "code",
   "execution_count": 19,
   "metadata": {
    "id": "Xs3Xyvr0oywP"
   },
   "outputs": [],
   "source": [
    "def get_shot_json(shot_id):\n",
    "    response = requests.get(f'https://visualizer.coffee/api/shots/{shot_id}/download',)\n",
    "    obj = response.json()\n",
    "    return obj"
   ]
  },
  {
   "cell_type": "code",
   "execution_count": 20,
   "metadata": {
    "id": "QGLIYzg7lQN0"
   },
   "outputs": [],
   "source": [
    "def json_to_series(data):\n",
    "    if \"error\" in data: return False\n",
    "    \n",
    "    shot_df = pd.DataFrame({k:v for k,v in data.items() if k not in [\"data\", \"timeframe\"]}, \n",
    "                           index=pd.Index([data[\"id\"]], name=\"id\"))\n",
    "    \n",
    "    shot_df = pd.DataFrame.from_dict({k:v for k,v in data.items() if k not in [\"data\", \"timeframe\"]}, orient=\"index\")[0]\n",
    "\n",
    "    timeframe = pd.Index(data[\"timeframe\"]+[data[\"timeframe\"][-1]], name=\"timeframe\").astype(float)\n",
    "    shot_df[\"timeframe\"] = timeframe.tolist()\n",
    "\n",
    "    series_df = pd.DataFrame(data[\"data\"]).astype(float)\n",
    "    \n",
    "    for key, values in series_df.to_dict(orient='list').items():\n",
    "        shot_df[key] = np.array(values)\n",
    "\n",
    "    return shot_df"
   ]
  },
  {
   "cell_type": "code",
   "execution_count": 21,
   "metadata": {
    "colab": {
     "base_uri": "https://localhost:8080/"
    },
    "id": "tdINW_a4mz7s",
    "outputId": "a2b26afe-a018-4281-b6ba-5cb2047fc483"
   },
   "outputs": [
    {
     "name": "stderr",
     "output_type": "stream",
     "text": [
      "100%|██████████████████████████████████| 72893/72893 [11:51:41<00:00,  1.71it/s]\n"
     ]
    }
   ],
   "source": [
    "# shot_series = []\n",
    "\n",
    "# for shot_id in tqdm.tqdm(pages_df[\"id\"]):\n",
    "#     data = get_shot_json(shot_id)\n",
    "    \n",
    "#     try:\n",
    "#         shot_json = json_to_series(data)\n",
    "#         if not isinstance(shot_json, pd.Series): \n",
    "#             continue\n",
    "#         shot_series.append(shot_json)\n",
    "        \n",
    "#     except:\n",
    "#         logging.info(f\"error for shot {shot_id}\")\n",
    "\n",
    "        \n",
    "# shots_df = pd.concat(shot_series, axis=1).T\n",
    "# shots_df.to_parquet(\"./visualizercoffee_shot_series.parquet\", index=False)"
   ]
  },
  {
   "cell_type": "markdown",
   "metadata": {},
   "source": [
    "# Import raw downloaded data"
   ]
  },
  {
   "cell_type": "code",
   "execution_count": 2,
   "metadata": {},
   "outputs": [],
   "source": [
    "shots_df = pd.read_parquet(\"../data/raw/visualizercoffee_shot_series.parquet\",)"
   ]
  },
  {
   "cell_type": "code",
   "execution_count": 3,
   "metadata": {},
   "outputs": [
    {
     "data": {
      "text/html": [
       "<div>\n",
       "<style scoped>\n",
       "    .dataframe tbody tr th:only-of-type {\n",
       "        vertical-align: middle;\n",
       "    }\n",
       "\n",
       "    .dataframe tbody tr th {\n",
       "        vertical-align: top;\n",
       "    }\n",
       "\n",
       "    .dataframe thead th {\n",
       "        text-align: right;\n",
       "    }\n",
       "</style>\n",
       "<table border=\"1\" class=\"dataframe\">\n",
       "  <thead>\n",
       "    <tr style=\"text-align: right;\">\n",
       "      <th></th>\n",
       "      <th>id</th>\n",
       "      <th>profile_title</th>\n",
       "      <th>user_id</th>\n",
       "      <th>drink_tds</th>\n",
       "      <th>drink_ey</th>\n",
       "      <th>espresso_enjoyment</th>\n",
       "      <th>bean_weight</th>\n",
       "      <th>drink_weight</th>\n",
       "      <th>grinder_model</th>\n",
       "      <th>grinder_setting</th>\n",
       "      <th>...</th>\n",
       "      <th>espresso_resistance</th>\n",
       "      <th>espresso_flow_weight</th>\n",
       "      <th>espresso_state_change</th>\n",
       "      <th>espresso_pressure_goal</th>\n",
       "      <th>espresso_flow_weight_raw</th>\n",
       "      <th>espresso_temperature_mix</th>\n",
       "      <th>espresso_water_dispensed</th>\n",
       "      <th>espresso_temperature_goal</th>\n",
       "      <th>espresso_resistance_weight</th>\n",
       "      <th>espresso_temperature_basket</th>\n",
       "    </tr>\n",
       "  </thead>\n",
       "  <tbody>\n",
       "    <tr>\n",
       "      <th>0</th>\n",
       "      <td>14899484-a5f8-4ccc-b372-79700c8150ae</td>\n",
       "      <td>TurboBloom</td>\n",
       "      <td>8d827d10-510f-4475-bd54-63c93b275c16</td>\n",
       "      <td>0</td>\n",
       "      <td>0</td>\n",
       "      <td>80.0</td>\n",
       "      <td>15.0</td>\n",
       "      <td>35.2</td>\n",
       "      <td>P64 MP</td>\n",
       "      <td>1.4</td>\n",
       "      <td>...</td>\n",
       "      <td>[0.0, 0.01, 0.01, 0.01, 0.0, 0.0, 0.01, 0.01, ...</td>\n",
       "      <td>[0.0, 0.0, 0.0, 0.0, 0.0, 0.0, 0.0, 0.0, 0.0, ...</td>\n",
       "      <td>[0.0, 10000000.0, 10000000.0, 10000000.0, 1000...</td>\n",
       "      <td>[-1.0, -1.0, -1.0, -1.0, -1.0, -1.0, -1.0, -1....</td>\n",
       "      <td>[0.0, 0.0, 0.0, 0.0, 0.0, 0.0, 0.0, 0.0, 0.0, ...</td>\n",
       "      <td>[86.0, 86.67, 86.31, 82.06, 77.66, 74.73, 73.1...</td>\n",
       "      <td>[0.0, 0.092681884765625, 0.20140380859375, 0.3...</td>\n",
       "      <td>[86.0, 86.0, 86.0, 86.0, 86.0, 86.0, 86.0, 86....</td>\n",
       "      <td>[0.0, 0.0, 0.0, 0.0, 0.0, 0.0, 0.0, 0.0, 0.0, ...</td>\n",
       "      <td>[86.0, 85.12, 85.27, 85.49, 85.38, 85.35, 85.3...</td>\n",
       "    </tr>\n",
       "    <tr>\n",
       "      <th>1</th>\n",
       "      <td>76f936ee-5147-40ac-986e-f0f1be5ac97e</td>\n",
       "      <td>Best overall pressure profile</td>\n",
       "      <td>10f1e281-8fd0-4f43-94f6-d416713dabe0</td>\n",
       "      <td>0</td>\n",
       "      <td>0</td>\n",
       "      <td>0.0</td>\n",
       "      <td>18.0</td>\n",
       "      <td>36.1</td>\n",
       "      <td>bentwood</td>\n",
       "      <td>120</td>\n",
       "      <td>...</td>\n",
       "      <td>[0.0, 0.04, 0.03, 0.03, 0.02, 0.02, 0.02, 0.03...</td>\n",
       "      <td>[0.0, 0.0, 0.0, 0.0, 0.0, 0.0, 0.0, 0.0, 0.0, ...</td>\n",
       "      <td>[0.0, 10000000.0, 10000000.0, 10000000.0, 1000...</td>\n",
       "      <td>[-1.0, -1.0, -1.0, -1.0, -1.0, -1.0, -1.0, -1....</td>\n",
       "      <td>[0.0, 0.0, 0.0, 0.0, 0.0, 0.0, 0.0, 0.0, 0.0, ...</td>\n",
       "      <td>[88.0, 88.3, 85.79, 85.82, 86.44, 87.32, 88.0,...</td>\n",
       "      <td>[0.0, 0.09389038085937501, 0.18845825195312502...</td>\n",
       "      <td>[88.0, 88.0, 88.0, 88.0, 88.0, 88.0, 88.0, 88....</td>\n",
       "      <td>[0.0, 0.0, 0.0, 0.0, 0.0, 0.0, 0.0, 0.0, 0.0, ...</td>\n",
       "      <td>[88.0, 87.18, 87.39, 87.37, 87.31, 87.23, 87.0...</td>\n",
       "    </tr>\n",
       "    <tr>\n",
       "      <th>2</th>\n",
       "      <td>8853ae7c-5bf8-4194-93dd-462de63f1471</td>\n",
       "      <td>Default</td>\n",
       "      <td>30b3dd10-aebb-4f17-ba74-a1efcf2d51ea</td>\n",
       "      <td>0</td>\n",
       "      <td>0</td>\n",
       "      <td>0.0</td>\n",
       "      <td>None</td>\n",
       "      <td>40.3</td>\n",
       "      <td>None</td>\n",
       "      <td>None</td>\n",
       "      <td>...</td>\n",
       "      <td>[0.0, 0.02, 0.02, 0.02, 0.02, 0.02, 0.02, 0.02...</td>\n",
       "      <td>[0.0, 0.0, 0.0, 0.0, 0.0, 0.0, 0.0, 0.0, 0.0, ...</td>\n",
       "      <td>[0.0, 10000000.0, 10000000.0, 10000000.0, 1000...</td>\n",
       "      <td>[-1.0, -1.0, -1.0, -1.0, -1.0, -1.0, -1.0, -1....</td>\n",
       "      <td>[0.0, 0.0, 0.0, 0.0, 0.0, 0.0, 0.0, 0.0, 0.0, ...</td>\n",
       "      <td>[90.5, 89.87, 87.2, 87.69, 87.95, 87.98, 88.18...</td>\n",
       "      <td>[0.0, 0.10127563476562501, 0.20233764648437502...</td>\n",
       "      <td>[90.5, 90.5, 90.5, 90.5, 90.5, 90.5, 90.5, 90....</td>\n",
       "      <td>[0.0, 0.0, 0.0, 0.0, 0.0, 0.0, 0.0, 0.0, 0.0, ...</td>\n",
       "      <td>[90.5, 87.93, 88.21, 88.23, 88.16, 88.14, 88.1...</td>\n",
       "    </tr>\n",
       "    <tr>\n",
       "      <th>3</th>\n",
       "      <td>a4d7a358-fc3f-451c-92f5-756adaa4a7dd</td>\n",
       "      <td>Rao Allongé</td>\n",
       "      <td>c8c4793c-6708-4e81-90e8-6d8a5b30ceee</td>\n",
       "      <td>0</td>\n",
       "      <td>0</td>\n",
       "      <td>0.0</td>\n",
       "      <td>None</td>\n",
       "      <td>124.5</td>\n",
       "      <td>Niche Zero</td>\n",
       "      <td>13.5</td>\n",
       "      <td>...</td>\n",
       "      <td>[0.0, 0.01, 0.01, 0.01, 0.02, 0.02, 0.02, 0.02...</td>\n",
       "      <td>[0.0, 0.0, 0.0, 0.0, 0.0, 0.0, 0.0, 0.0, 0.0, ...</td>\n",
       "      <td>[0.0, 10000000.0, 10000000.0, 10000000.0, 1000...</td>\n",
       "      <td>[-1.0, -1.0, -1.0, -1.0, -1.0, -1.0, -1.0, -1....</td>\n",
       "      <td>[0.0, 0.0, 0.0, 0.0, 0.0, 0.0, 0.0, 0.0, 0.0, ...</td>\n",
       "      <td>[92.0, 91.63, 88.9, 87.29, 88.18, 89.33, 90.63...</td>\n",
       "      <td>[0.0, 0.094384765625, 0.19187011718750002, 0.2...</td>\n",
       "      <td>[92.0, 92.0, 92.0, 92.0, 92.0, 92.0, 92.0, 92....</td>\n",
       "      <td>[0.0, 0.0, 0.0, 0.0, 0.0, 0.0, 0.0, 0.0, 0.0, ...</td>\n",
       "      <td>[92.0, 90.0, 90.41, 90.36, 90.35, 90.44, 90.4,...</td>\n",
       "    </tr>\n",
       "    <tr>\n",
       "      <th>4</th>\n",
       "      <td>3ebcfff9-fb6f-47f6-a3df-affe01d55150</td>\n",
       "      <td>Londonium</td>\n",
       "      <td>db110ce3-77b7-4c92-9d18-1019c3841cc9</td>\n",
       "      <td>0</td>\n",
       "      <td>0</td>\n",
       "      <td>0.0</td>\n",
       "      <td>None</td>\n",
       "      <td>0.0</td>\n",
       "      <td>None</td>\n",
       "      <td>None</td>\n",
       "      <td>...</td>\n",
       "      <td>[0.0, 0.08, 0.07, 0.06, 0.06, 0.05, 0.04, 0.04...</td>\n",
       "      <td>[0.0, 0.0, 0.0, 0.0, 0.0, 0.0, 0.0, 0.0, 0.0, ...</td>\n",
       "      <td>[0.0, 10000000.0, -10000000.0, -10000000.0, -1...</td>\n",
       "      <td>[-1.0, 2.0, 2.0, 2.375, 2.625, 2.75, 2.8125, 2...</td>\n",
       "      <td>[0.0, 0.0, 0.0, 0.0, 0.0, 0.0, 0.0, 0.0, 0.0, ...</td>\n",
       "      <td>[89.0, 89.64, 87.11, 87.89, 88.81, 89.41, 89.6...</td>\n",
       "      <td>[0.0, 0.09944458007812501, 0.21490478515625, 0...</td>\n",
       "      <td>[89.0, 89.0, 88.5, 88.5, 88.5, 88.5, 88.5, 88....</td>\n",
       "      <td>[0.0, 0.0, 0.0, 0.0, 0.0, 0.0, 0.0, 0.0, 0.0, ...</td>\n",
       "      <td>[89.0, 87.55, 87.81, 87.75, 87.76, 87.8, 87.74...</td>\n",
       "    </tr>\n",
       "  </tbody>\n",
       "</table>\n",
       "<p>5 rows × 34 columns</p>\n",
       "</div>"
      ],
      "text/plain": [
       "                                     id                  profile_title  \\\n",
       "0  14899484-a5f8-4ccc-b372-79700c8150ae                     TurboBloom   \n",
       "1  76f936ee-5147-40ac-986e-f0f1be5ac97e  Best overall pressure profile   \n",
       "2  8853ae7c-5bf8-4194-93dd-462de63f1471                        Default   \n",
       "3  a4d7a358-fc3f-451c-92f5-756adaa4a7dd                    Rao Allongé   \n",
       "4  3ebcfff9-fb6f-47f6-a3df-affe01d55150                      Londonium   \n",
       "\n",
       "                                user_id drink_tds drink_ey  \\\n",
       "0  8d827d10-510f-4475-bd54-63c93b275c16         0        0   \n",
       "1  10f1e281-8fd0-4f43-94f6-d416713dabe0         0        0   \n",
       "2  30b3dd10-aebb-4f17-ba74-a1efcf2d51ea         0        0   \n",
       "3  c8c4793c-6708-4e81-90e8-6d8a5b30ceee         0        0   \n",
       "4  db110ce3-77b7-4c92-9d18-1019c3841cc9         0        0   \n",
       "\n",
       "   espresso_enjoyment bean_weight drink_weight grinder_model grinder_setting  \\\n",
       "0                80.0        15.0         35.2        P64 MP             1.4   \n",
       "1                 0.0        18.0         36.1      bentwood             120   \n",
       "2                 0.0        None         40.3          None            None   \n",
       "3                 0.0        None        124.5    Niche Zero            13.5   \n",
       "4                 0.0        None          0.0          None            None   \n",
       "\n",
       "   ...                                espresso_resistance  \\\n",
       "0  ...  [0.0, 0.01, 0.01, 0.01, 0.0, 0.0, 0.01, 0.01, ...   \n",
       "1  ...  [0.0, 0.04, 0.03, 0.03, 0.02, 0.02, 0.02, 0.03...   \n",
       "2  ...  [0.0, 0.02, 0.02, 0.02, 0.02, 0.02, 0.02, 0.02...   \n",
       "3  ...  [0.0, 0.01, 0.01, 0.01, 0.02, 0.02, 0.02, 0.02...   \n",
       "4  ...  [0.0, 0.08, 0.07, 0.06, 0.06, 0.05, 0.04, 0.04...   \n",
       "\n",
       "                                espresso_flow_weight  \\\n",
       "0  [0.0, 0.0, 0.0, 0.0, 0.0, 0.0, 0.0, 0.0, 0.0, ...   \n",
       "1  [0.0, 0.0, 0.0, 0.0, 0.0, 0.0, 0.0, 0.0, 0.0, ...   \n",
       "2  [0.0, 0.0, 0.0, 0.0, 0.0, 0.0, 0.0, 0.0, 0.0, ...   \n",
       "3  [0.0, 0.0, 0.0, 0.0, 0.0, 0.0, 0.0, 0.0, 0.0, ...   \n",
       "4  [0.0, 0.0, 0.0, 0.0, 0.0, 0.0, 0.0, 0.0, 0.0, ...   \n",
       "\n",
       "                               espresso_state_change  \\\n",
       "0  [0.0, 10000000.0, 10000000.0, 10000000.0, 1000...   \n",
       "1  [0.0, 10000000.0, 10000000.0, 10000000.0, 1000...   \n",
       "2  [0.0, 10000000.0, 10000000.0, 10000000.0, 1000...   \n",
       "3  [0.0, 10000000.0, 10000000.0, 10000000.0, 1000...   \n",
       "4  [0.0, 10000000.0, -10000000.0, -10000000.0, -1...   \n",
       "\n",
       "                              espresso_pressure_goal  \\\n",
       "0  [-1.0, -1.0, -1.0, -1.0, -1.0, -1.0, -1.0, -1....   \n",
       "1  [-1.0, -1.0, -1.0, -1.0, -1.0, -1.0, -1.0, -1....   \n",
       "2  [-1.0, -1.0, -1.0, -1.0, -1.0, -1.0, -1.0, -1....   \n",
       "3  [-1.0, -1.0, -1.0, -1.0, -1.0, -1.0, -1.0, -1....   \n",
       "4  [-1.0, 2.0, 2.0, 2.375, 2.625, 2.75, 2.8125, 2...   \n",
       "\n",
       "                            espresso_flow_weight_raw  \\\n",
       "0  [0.0, 0.0, 0.0, 0.0, 0.0, 0.0, 0.0, 0.0, 0.0, ...   \n",
       "1  [0.0, 0.0, 0.0, 0.0, 0.0, 0.0, 0.0, 0.0, 0.0, ...   \n",
       "2  [0.0, 0.0, 0.0, 0.0, 0.0, 0.0, 0.0, 0.0, 0.0, ...   \n",
       "3  [0.0, 0.0, 0.0, 0.0, 0.0, 0.0, 0.0, 0.0, 0.0, ...   \n",
       "4  [0.0, 0.0, 0.0, 0.0, 0.0, 0.0, 0.0, 0.0, 0.0, ...   \n",
       "\n",
       "                            espresso_temperature_mix  \\\n",
       "0  [86.0, 86.67, 86.31, 82.06, 77.66, 74.73, 73.1...   \n",
       "1  [88.0, 88.3, 85.79, 85.82, 86.44, 87.32, 88.0,...   \n",
       "2  [90.5, 89.87, 87.2, 87.69, 87.95, 87.98, 88.18...   \n",
       "3  [92.0, 91.63, 88.9, 87.29, 88.18, 89.33, 90.63...   \n",
       "4  [89.0, 89.64, 87.11, 87.89, 88.81, 89.41, 89.6...   \n",
       "\n",
       "                            espresso_water_dispensed  \\\n",
       "0  [0.0, 0.092681884765625, 0.20140380859375, 0.3...   \n",
       "1  [0.0, 0.09389038085937501, 0.18845825195312502...   \n",
       "2  [0.0, 0.10127563476562501, 0.20233764648437502...   \n",
       "3  [0.0, 0.094384765625, 0.19187011718750002, 0.2...   \n",
       "4  [0.0, 0.09944458007812501, 0.21490478515625, 0...   \n",
       "\n",
       "                           espresso_temperature_goal  \\\n",
       "0  [86.0, 86.0, 86.0, 86.0, 86.0, 86.0, 86.0, 86....   \n",
       "1  [88.0, 88.0, 88.0, 88.0, 88.0, 88.0, 88.0, 88....   \n",
       "2  [90.5, 90.5, 90.5, 90.5, 90.5, 90.5, 90.5, 90....   \n",
       "3  [92.0, 92.0, 92.0, 92.0, 92.0, 92.0, 92.0, 92....   \n",
       "4  [89.0, 89.0, 88.5, 88.5, 88.5, 88.5, 88.5, 88....   \n",
       "\n",
       "                          espresso_resistance_weight  \\\n",
       "0  [0.0, 0.0, 0.0, 0.0, 0.0, 0.0, 0.0, 0.0, 0.0, ...   \n",
       "1  [0.0, 0.0, 0.0, 0.0, 0.0, 0.0, 0.0, 0.0, 0.0, ...   \n",
       "2  [0.0, 0.0, 0.0, 0.0, 0.0, 0.0, 0.0, 0.0, 0.0, ...   \n",
       "3  [0.0, 0.0, 0.0, 0.0, 0.0, 0.0, 0.0, 0.0, 0.0, ...   \n",
       "4  [0.0, 0.0, 0.0, 0.0, 0.0, 0.0, 0.0, 0.0, 0.0, ...   \n",
       "\n",
       "                         espresso_temperature_basket  \n",
       "0  [86.0, 85.12, 85.27, 85.49, 85.38, 85.35, 85.3...  \n",
       "1  [88.0, 87.18, 87.39, 87.37, 87.31, 87.23, 87.0...  \n",
       "2  [90.5, 87.93, 88.21, 88.23, 88.16, 88.14, 88.1...  \n",
       "3  [92.0, 90.0, 90.41, 90.36, 90.35, 90.44, 90.4,...  \n",
       "4  [89.0, 87.55, 87.81, 87.75, 87.76, 87.8, 87.74...  \n",
       "\n",
       "[5 rows x 34 columns]"
      ]
     },
     "execution_count": 3,
     "metadata": {},
     "output_type": "execute_result"
    }
   ],
   "source": [
    "shots_df.head()"
   ]
  },
  {
   "cell_type": "markdown",
   "metadata": {},
   "source": [
    "# Clean data"
   ]
  },
  {
   "cell_type": "markdown",
   "metadata": {},
   "source": [
    "## Datetime"
   ]
  },
  {
   "cell_type": "code",
   "execution_count": 4,
   "metadata": {},
   "outputs": [],
   "source": [
    "shots_df[\"start_time\"] = pd.DatetimeIndex(shots_df[\"start_time\"])\n",
    "shots_df[\"start_time\"] = shots_df[\"start_time\"].dt.tz_localize(None)"
   ]
  },
  {
   "cell_type": "code",
   "execution_count": 5,
   "metadata": {},
   "outputs": [
    {
     "name": "stderr",
     "output_type": "stream",
     "text": [
      "/opt/anaconda3/lib/python3.7/site-packages/dateparser/date_parser.py:35: PytzUsageWarning: The localize method is no longer necessary, as this time zone supports the fold attribute (PEP 495). For more details on migrating to a PEP 495-compliant implementation, see https://pytz-deprecation-shim.readthedocs.io/en/latest/migration.html\n",
      "  date_obj = stz.localize(date_obj)\n",
      "/opt/anaconda3/lib/python3.7/site-packages/dateparser/utils/__init__.py:130: PytzUsageWarning: The localize method is no longer necessary, as this time zone supports the fold attribute (PEP 495). For more details on migrating to a PEP 495-compliant implementation, see https://pytz-deprecation-shim.readthedocs.io/en/latest/migration.html\n",
      "  date_obj = tz.localize(date_obj)\n"
     ]
    }
   ],
   "source": [
    "def parse_date(x):\n",
    "    if not isinstance(x, str) or len(x) < 4:\n",
    "        return None        \n",
    "    try: \n",
    "        dt = parse(x)\n",
    "        timestamp = pd.Timestamp(dt)\n",
    "    except:\n",
    "        return None\n",
    "    \n",
    "    return timestamp\n",
    "shots_df[\"roast_date\"] = shots_df[\"roast_date\"].apply(parse_date)"
   ]
  },
  {
   "cell_type": "code",
   "execution_count": 6,
   "metadata": {},
   "outputs": [
    {
     "name": "stderr",
     "output_type": "stream",
     "text": [
      "/opt/anaconda3/lib/python3.7/site-packages/ipykernel_launcher.py:4: SettingWithCopyWarning: \n",
      "A value is trying to be set on a copy of a slice from a DataFrame\n",
      "\n",
      "See the caveats in the documentation: https://pandas.pydata.org/pandas-docs/stable/user_guide/indexing.html#returning-a-view-versus-a-copy\n",
      "  after removing the cwd from sys.path.\n",
      "/opt/anaconda3/lib/python3.7/site-packages/ipykernel_launcher.py:7: SettingWithCopyWarning: \n",
      "A value is trying to be set on a copy of a slice from a DataFrame\n",
      "\n",
      "See the caveats in the documentation: https://pandas.pydata.org/pandas-docs/stable/user_guide/indexing.html#returning-a-view-versus-a-copy\n",
      "  import sys\n",
      "/opt/anaconda3/lib/python3.7/site-packages/ipykernel_launcher.py:11: SettingWithCopyWarning: \n",
      "A value is trying to be set on a copy of a slice from a DataFrame.\n",
      "Try using .loc[row_indexer,col_indexer] = value instead\n",
      "\n",
      "See the caveats in the documentation: https://pandas.pydata.org/pandas-docs/stable/user_guide/indexing.html#returning-a-view-versus-a-copy\n",
      "  # This is added back by InteractiveShellApp.init_path()\n"
     ]
    }
   ],
   "source": [
    "shots_df[\"bean_age\"] = shots_df[\"start_time\"] - shots_df[\"roast_date\"]\n",
    "\n",
    "idx_A = shots_df[\"bean_age\"] < pd.Timedelta(10, unit=\"minutes\")\n",
    "shots_df[\"bean_age\"][idx_A] = None\n",
    "\n",
    "idx_B = shots_df[\"bean_age\"] > pd.Timedelta(200, unit=\"days\")\n",
    "shots_df[\"bean_age\"][idx_B] = None\n",
    "\n",
    "shots_df[\"bean_age\"] = shots_df[\"bean_age\"] / pd.to_timedelta(1, unit='D')\n",
    "\n",
    "shots_df.loc[idx_A | idx_B][\"roast_date\"] = None"
   ]
  },
  {
   "cell_type": "markdown",
   "metadata": {},
   "source": [
    "\n",
    "### Timeframe series data"
   ]
  },
  {
   "cell_type": "code",
   "execution_count": 37,
   "metadata": {},
   "outputs": [],
   "source": [
    "# Only needed when timeframe not aligned\n",
    "\n",
    "def shift_timeframe_step(time_index, values, id=None):\n",
    "    time_index = np.roll(time_index, shift=-1)\n",
    "    time_index[-1] = time_index[-2]\n",
    "    \n",
    "    if len(time_index) - len(values) == 1:\n",
    "        time_index = time_index[:-1]\n",
    "        \n",
    "    if len(time_index) != len(values):\n",
    "        time_index = time_index[:len(values)]\n",
    "    \n",
    "    return time_index\n",
    "\n",
    "shots_df[\"timeframe\"] = shots_df[[\"timeframe\", \"espresso_flow\", \"id\"]].apply(\n",
    "    lambda x: shift_timeframe_step(x.timeframe, x.espresso_flow, x.id), axis=1)"
   ]
  },
  {
   "cell_type": "code",
   "execution_count": 38,
   "metadata": {},
   "outputs": [],
   "source": [
    "shots_df[\"shot_time\"] = shots_df[\"timeframe\"].apply(max)"
   ]
  },
  {
   "cell_type": "markdown",
   "metadata": {},
   "source": [
    "## Numericals"
   ]
  },
  {
   "cell_type": "code",
   "execution_count": 39,
   "metadata": {
    "scrolled": true,
    "tags": []
   },
   "outputs": [
    {
     "name": "stderr",
     "output_type": "stream",
     "text": [
      "/opt/anaconda3/lib/python3.7/site-packages/ipykernel_launcher.py:1: FutureWarning: The default value of regex will change from True to False in a future version.\n",
      "  \"\"\"Entry point for launching an IPython kernel.\n",
      "/opt/anaconda3/lib/python3.7/site-packages/ipykernel_launcher.py:2: FutureWarning: The default value of regex will change from True to False in a future version.\n",
      "  \n"
     ]
    }
   ],
   "source": [
    "shots_df[\"drink_tds\"] = shots_df[\"drink_tds\"].str.replace(r\"[^0-9.]+\", '').replace({\"\": None})\n",
    "shots_df[\"drink_ey\"] = shots_df[\"drink_ey\"].str.replace(\",\", \".\").str.replace(r\"[^0-9.]+\", '').replace({\"\": None, \"20210113174207\": None})"
   ]
  },
  {
   "cell_type": "code",
   "execution_count": 40,
   "metadata": {},
   "outputs": [],
   "source": [
    "shots_df[\"bean_weight\"] = shots_df[\"bean_weight\"].str.replace(\",\", \".\").str.extract(r\"(\\d*\\.\\d+|\\d+)\")[0]\n",
    "shots_df[\"drink_weight\"] = shots_df[\"drink_weight\"].str.replace(\",\", \".\").str.extract(r\"(\\d*\\.\\d+|\\d+)\")[0]"
   ]
  },
  {
   "cell_type": "code",
   "execution_count": 41,
   "metadata": {},
   "outputs": [],
   "source": [
    "shots_df.loc[shots_df[\"espresso_enjoyment\"] > 100, \"espresso_enjoyment\"] = None"
   ]
  },
  {
   "cell_type": "markdown",
   "metadata": {},
   "source": [
    "## Caterogrical fields"
   ]
  },
  {
   "cell_type": "code",
   "execution_count": 42,
   "metadata": {
    "scrolled": true,
    "tags": []
   },
   "outputs": [],
   "source": [
    "shots_df[\"profile_title\"] = shots_df[\"profile_title\"].replace({\"\": None})"
   ]
  },
  {
   "cell_type": "code",
   "execution_count": 43,
   "metadata": {
    "scrolled": true,
    "tags": []
   },
   "outputs": [],
   "source": [
    "shots_df = shots_df.astype({\n",
    "    \"drink_tds\": float,\n",
    "    \"drink_ey\": float,\n",
    "    \"bean_weight\": float,\n",
    "    \"drink_weight\": float,\n",
    "    \"espresso_enjoyment\": float,\n",
    "})"
   ]
  },
  {
   "cell_type": "code",
   "execution_count": 44,
   "metadata": {},
   "outputs": [
    {
     "data": {
      "text/plain": [
       "{'id': dtype('O'),\n",
       " 'profile_title': dtype('O'),\n",
       " 'user_id': dtype('O'),\n",
       " 'drink_tds': dtype('float64'),\n",
       " 'drink_ey': dtype('float64'),\n",
       " 'espresso_enjoyment': dtype('float64'),\n",
       " 'bean_weight': dtype('float64'),\n",
       " 'drink_weight': dtype('float64'),\n",
       " 'grinder_model': dtype('O'),\n",
       " 'grinder_setting': dtype('O'),\n",
       " 'bean_brand': dtype('O'),\n",
       " 'bean_type': dtype('O'),\n",
       " 'roast_date': dtype('<M8[ns]'),\n",
       " 'espresso_notes': dtype('O'),\n",
       " 'roast_level': dtype('O'),\n",
       " 'bean_notes': dtype('O'),\n",
       " 'start_time': dtype('<M8[ns]'),\n",
       " 'image_preview': dtype('O'),\n",
       " 'profile_url': dtype('O'),\n",
       " 'timeframe': dtype('O'),\n",
       " 'espresso_flow': dtype('O'),\n",
       " 'espresso_weight': dtype('O'),\n",
       " 'espresso_pressure': dtype('O'),\n",
       " 'espresso_flow_goal': dtype('O'),\n",
       " 'espresso_resistance': dtype('O'),\n",
       " 'espresso_flow_weight': dtype('O'),\n",
       " 'espresso_state_change': dtype('O'),\n",
       " 'espresso_pressure_goal': dtype('O'),\n",
       " 'espresso_flow_weight_raw': dtype('O'),\n",
       " 'espresso_temperature_mix': dtype('O'),\n",
       " 'espresso_water_dispensed': dtype('O'),\n",
       " 'espresso_temperature_goal': dtype('O'),\n",
       " 'espresso_resistance_weight': dtype('O'),\n",
       " 'espresso_temperature_basket': dtype('O'),\n",
       " 'bean_age': dtype('float64'),\n",
       " 'shot_time': dtype('float64')}"
      ]
     },
     "execution_count": 44,
     "metadata": {},
     "output_type": "execute_result"
    }
   ],
   "source": [
    "shots_df.dtypes.to_dict()"
   ]
  },
  {
   "cell_type": "markdown",
   "metadata": {},
   "source": [
    "# Saved cleaned file"
   ]
  },
  {
   "cell_type": "code",
   "execution_count": 45,
   "metadata": {
    "id": "s3c-P9tWlKKH"
   },
   "outputs": [],
   "source": [
    "shots_df.to_parquet(\"../data/raw/visualizercoffee_72877shots_2021-11-11_cleaned.parquet\", index=False)"
   ]
  },
  {
   "cell_type": "markdown",
   "metadata": {
    "colab": {
     "base_uri": "https://localhost:8080/",
     "height": 194
    },
    "id": "pCzeR_JtGp_7",
    "outputId": "d4831b80-a857-4c7f-cd2f-a2fdd111fbc7"
   },
   "source": [
    "# Show shot data"
   ]
  },
  {
   "cell_type": "code",
   "execution_count": 43,
   "metadata": {
    "colab": {
     "base_uri": "https://localhost:8080/"
    },
    "id": "okxdoBH2G6Fg",
    "outputId": "7f5b756d-8c44-480d-cc0b-1cf8aafc216e"
   },
   "outputs": [
    {
     "data": {
      "text/plain": [
       "array(['https://visualizer-coffee.s3.eu-central-1.amazonaws.com/screenshots/14899484-a5f8-4ccc-b372-79700c8150ae.png'],\n",
       "      dtype=object)"
      ]
     },
     "execution_count": 43,
     "metadata": {},
     "output_type": "execute_result"
    }
   ],
   "source": [
    "shot_df[\"image_preview\"].values"
   ]
  },
  {
   "cell_type": "code",
   "execution_count": null,
   "metadata": {
    "id": "IkPcxkjAJD6o"
   },
   "outputs": [],
   "source": []
  }
 ],
 "metadata": {
  "colab": {
   "collapsed_sections": [],
   "name": "Collect VisualizerCoffee Data.ipynb",
   "provenance": []
  },
  "kernelspec": {
   "display_name": "Python 3 (ipykernel)",
   "language": "python",
   "name": "python3"
  },
  "language_info": {
   "codemirror_mode": {
    "name": "ipython",
    "version": 3
   },
   "file_extension": ".py",
   "mimetype": "text/x-python",
   "name": "python",
   "nbconvert_exporter": "python",
   "pygments_lexer": "ipython3",
   "version": "3.7.11"
  }
 },
 "nbformat": 4,
 "nbformat_minor": 4
}
