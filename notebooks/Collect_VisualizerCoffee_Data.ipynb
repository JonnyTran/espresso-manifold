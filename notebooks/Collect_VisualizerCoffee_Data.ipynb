{
 "cells": [
  {
   "cell_type": "code",
   "execution_count": 2,
   "metadata": {
    "colab": {
     "base_uri": "https://localhost:8080/"
    },
    "id": "XdgTqnctlEI7",
    "outputId": "cc1761fb-4739-45cb-f076-2d74a13a6039"
   },
   "outputs": [],
   "source": [
    "import io, os, re, logging\n",
    "import requests, tqdm, tarfile, itertools, html, time\n",
    "import numpy as np\n",
    "import pandas as pd\n",
    "import dask.dataframe as dd\n",
    "\n",
    "import plotly.express as px\n",
    "from dateparser import parse\n",
    "\n",
    "pd.set_option('display.max_rows', 20)"
   ]
  },
  {
   "cell_type": "markdown",
   "metadata": {
    "id": "Obi4UvzXmoi4"
   },
   "source": [
    "# Load all public shot IDs by iterating through pages from database"
   ]
  },
  {
   "cell_type": "code",
   "execution_count": 4,
   "metadata": {
    "colab": {
     "base_uri": "https://localhost:8080/",
     "height": 445
    },
    "id": "PghXkC-Gs1jC",
    "outputId": "8da94a75-10d4-4299-8331-2424fbd00095",
    "scrolled": true,
    "tags": []
   },
   "outputs": [
    {
     "data": {
      "text/html": [
       "<div>\n",
       "<style scoped>\n",
       "    .dataframe tbody tr th:only-of-type {\n",
       "        vertical-align: middle;\n",
       "    }\n",
       "\n",
       "    .dataframe tbody tr th {\n",
       "        vertical-align: top;\n",
       "    }\n",
       "\n",
       "    .dataframe thead th {\n",
       "        text-align: right;\n",
       "    }\n",
       "</style>\n",
       "<table border=\"1\" class=\"dataframe\">\n",
       "  <thead>\n",
       "    <tr style=\"text-align: right;\">\n",
       "      <th></th>\n",
       "      <th>clock</th>\n",
       "      <th>id</th>\n",
       "    </tr>\n",
       "  </thead>\n",
       "  <tbody>\n",
       "    <tr>\n",
       "      <th>0</th>\n",
       "      <td>1636526780</td>\n",
       "      <td>14899484-a5f8-4ccc-b372-79700c8150ae</td>\n",
       "    </tr>\n",
       "    <tr>\n",
       "      <th>1</th>\n",
       "      <td>1636526752</td>\n",
       "      <td>76f936ee-5147-40ac-986e-f0f1be5ac97e</td>\n",
       "    </tr>\n",
       "    <tr>\n",
       "      <th>2</th>\n",
       "      <td>1636526738</td>\n",
       "      <td>8853ae7c-5bf8-4194-93dd-462de63f1471</td>\n",
       "    </tr>\n",
       "    <tr>\n",
       "      <th>3</th>\n",
       "      <td>1636526681</td>\n",
       "      <td>a4d7a358-fc3f-451c-92f5-756adaa4a7dd</td>\n",
       "    </tr>\n",
       "    <tr>\n",
       "      <th>4</th>\n",
       "      <td>1636526665</td>\n",
       "      <td>3ebcfff9-fb6f-47f6-a3df-affe01d55150</td>\n",
       "    </tr>\n",
       "    <tr>\n",
       "      <th>...</th>\n",
       "      <td>...</td>\n",
       "      <td>...</td>\n",
       "    </tr>\n",
       "    <tr>\n",
       "      <th>73213</th>\n",
       "      <td>1274388447</td>\n",
       "      <td>a68afc41-645d-46c6-bfce-3dc9bf95ed0b</td>\n",
       "    </tr>\n",
       "    <tr>\n",
       "      <th>73214</th>\n",
       "      <td>1274388290</td>\n",
       "      <td>a37b6160-3e6a-4860-97cc-6b75a035c0da</td>\n",
       "    </tr>\n",
       "    <tr>\n",
       "      <th>73215</th>\n",
       "      <td>1274387176</td>\n",
       "      <td>3849dd2f-1678-488b-8f76-b166f53fe7ed</td>\n",
       "    </tr>\n",
       "    <tr>\n",
       "      <th>73216</th>\n",
       "      <td>1274386903</td>\n",
       "      <td>5a5d218e-7d84-4a8c-9621-f3067b0b8fb5</td>\n",
       "    </tr>\n",
       "    <tr>\n",
       "      <th>73217</th>\n",
       "      <td>1274386491</td>\n",
       "      <td>7e567cc5-3f50-4a74-aa05-abbf8cfed55c</td>\n",
       "    </tr>\n",
       "  </tbody>\n",
       "</table>\n",
       "<p>73218 rows × 2 columns</p>\n",
       "</div>"
      ],
      "text/plain": [
       "            clock                                    id\n",
       "0      1636526780  14899484-a5f8-4ccc-b372-79700c8150ae\n",
       "1      1636526752  76f936ee-5147-40ac-986e-f0f1be5ac97e\n",
       "2      1636526738  8853ae7c-5bf8-4194-93dd-462de63f1471\n",
       "3      1636526681  a4d7a358-fc3f-451c-92f5-756adaa4a7dd\n",
       "4      1636526665  3ebcfff9-fb6f-47f6-a3df-affe01d55150\n",
       "...           ...                                   ...\n",
       "73213  1274388447  a68afc41-645d-46c6-bfce-3dc9bf95ed0b\n",
       "73214  1274388290  a37b6160-3e6a-4860-97cc-6b75a035c0da\n",
       "73215  1274387176  3849dd2f-1678-488b-8f76-b166f53fe7ed\n",
       "73216  1274386903  5a5d218e-7d84-4a8c-9621-f3067b0b8fb5\n",
       "73217  1274386491  7e567cc5-3f50-4a74-aa05-abbf8cfed55c\n",
       "\n",
       "[73218 rows x 2 columns]"
      ]
     },
     "execution_count": 4,
     "metadata": {},
     "output_type": "execute_result"
    }
   ],
   "source": [
    "# Load list of shots\n",
    "pages_df = pd.read_csv(\"../data/raw/visualizercoffee_shot_ids_2021-12-18.csv\")\n",
    "\n",
    "pages_df"
   ]
  },
  {
   "cell_type": "code",
   "execution_count": 5,
   "metadata": {
    "id": "jGbDNSpUlNYW"
   },
   "outputs": [],
   "source": [
    "# n_pages = 7321\n",
    "data_pages = []\n",
    "\n",
    "def get_page_json(page_num):\n",
    "    response = requests.get(f'https://visualizer.coffee/api/shots?page={page_num}',)\n",
    "    obj = response.json()\n",
    "    return obj[\"data\"]\n",
    "\n",
    "for page_num in tqdm.tqdm(range(7321, 8631+1)):\n",
    "    data = get_page_json(page_num)\n",
    "    data_pages.extend(data)\n",
    "\n",
    "new_pages_df = pd.DataFrame.from_dict(data_pages).drop_duplicates()\n",
    "\n",
    "# Multi-worker \n",
    "# npartitions = 24\n",
    "# pages = pd.Series(range(1589, n_pages+1))\n",
    "\n",
    "# rest_df = dd.from_pandas(pages, npartitions=npartitions).apply(lambda pages: get_page_json(page), meta=list).compute()\n",
    "pages_df = pd.concat([pages_df, new_pages_df], axis=0).drop_duplicates()\n",
    "pages_df.to_csv(\"../data/raw/visualizercoffee_shot_ids_2021-12-18.csv\", index=False)"
   ]
  },
  {
   "cell_type": "code",
   "execution_count": 7,
   "metadata": {
    "id": "Xs3Xyvr0oywP"
   },
   "outputs": [],
   "source": [
    "def get_shot_json(shot_id):\n",
    "    response = requests.get(f'https://visualizer.coffee/api/shots/{shot_id}/download',)\n",
    "    obj = response.json()\n",
    "    return obj"
   ]
  },
  {
   "cell_type": "code",
   "execution_count": 8,
   "metadata": {
    "id": "QGLIYzg7lQN0"
   },
   "outputs": [],
   "source": [
    "def json_to_series(data):\n",
    "    if \"error\" in data: return False\n",
    "    \n",
    "    shot_df = pd.DataFrame({k:v for k,v in data.items() if k not in [\"data\", \"timeframe\"]}, \n",
    "                           index=pd.Index([data[\"id\"]], name=\"id\"))\n",
    "    \n",
    "    shot_df = pd.DataFrame.from_dict({k:v for k,v in data.items() if k not in [\"data\", \"timeframe\"]}, orient=\"index\")[0]\n",
    "\n",
    "    timeframe = pd.Index(data[\"timeframe\"]+[data[\"timeframe\"][-1]], name=\"timeframe\").astype(float)\n",
    "    shot_df[\"timeframe\"] = timeframe.tolist()\n",
    "\n",
    "    series_df = pd.DataFrame(data[\"data\"]).astype(float)\n",
    "    \n",
    "    for key, values in series_df.to_dict(orient='list').items():\n",
    "        shot_df[key] = np.array(values)\n",
    "\n",
    "    return shot_df"
   ]
  },
  {
   "cell_type": "code",
   "execution_count": 12,
   "metadata": {
    "colab": {
     "base_uri": "https://localhost:8080/"
    },
    "id": "tdINW_a4mz7s",
    "outputId": "a2b26afe-a018-4281-b6ba-5cb2047fc483"
   },
   "outputs": [
    {
     "name": "stderr",
     "output_type": "stream",
     "text": [
      "100%|███████████████████████████████████| 13109/13109 [2:03:02<00:00,  1.78it/s]\n"
     ]
    }
   ],
   "source": [
    "shot_series = []\n",
    "\n",
    "for shot_id in tqdm.tqdm(new_pages_df[\"id\"]):\n",
    "    data = get_shot_json(shot_id)\n",
    "    \n",
    "    try:\n",
    "        shot_json = json_to_series(data)\n",
    "        if not isinstance(shot_json, pd.Series): \n",
    "            continue\n",
    "        shot_series.append(shot_json)\n",
    "        \n",
    "    except:\n",
    "        logging.info(f\"error for shot {shot_id}\")\n",
    "\n",
    "        \n",
    "new_shots_df = pd.concat(shot_series, axis=1).T"
   ]
  },
  {
   "cell_type": "code",
   "execution_count": 22,
   "metadata": {},
   "outputs": [
    {
     "data": {
      "text/html": [
       "<div>\n",
       "<style scoped>\n",
       "    .dataframe tbody tr th:only-of-type {\n",
       "        vertical-align: middle;\n",
       "    }\n",
       "\n",
       "    .dataframe tbody tr th {\n",
       "        vertical-align: top;\n",
       "    }\n",
       "\n",
       "    .dataframe thead th {\n",
       "        text-align: right;\n",
       "    }\n",
       "</style>\n",
       "<table border=\"1\" class=\"dataframe\">\n",
       "  <thead>\n",
       "    <tr style=\"text-align: right;\">\n",
       "      <th></th>\n",
       "      <th>clock</th>\n",
       "      <th>id</th>\n",
       "    </tr>\n",
       "  </thead>\n",
       "  <tbody>\n",
       "    <tr>\n",
       "      <th>0</th>\n",
       "      <td>1618494554</td>\n",
       "      <td>65851316-b83e-4676-a072-c34b6b572a0b</td>\n",
       "    </tr>\n",
       "    <tr>\n",
       "      <th>1</th>\n",
       "      <td>1618494483</td>\n",
       "      <td>2c2bad25-d6f6-4058-a571-1c5ae925ebe9</td>\n",
       "    </tr>\n",
       "    <tr>\n",
       "      <th>2</th>\n",
       "      <td>1618494266</td>\n",
       "      <td>16d5f8e1-a087-45b8-a623-bdec4445e9a8</td>\n",
       "    </tr>\n",
       "    <tr>\n",
       "      <th>3</th>\n",
       "      <td>1618493724</td>\n",
       "      <td>3ddb33ba-1754-4bd2-b1b6-e1969d5ac240</td>\n",
       "    </tr>\n",
       "    <tr>\n",
       "      <th>4</th>\n",
       "      <td>1618493724</td>\n",
       "      <td>fe266d43-86f4-4e0e-8cda-243ef98eb395</td>\n",
       "    </tr>\n",
       "    <tr>\n",
       "      <th>...</th>\n",
       "      <td>...</td>\n",
       "      <td>...</td>\n",
       "    </tr>\n",
       "    <tr>\n",
       "      <th>13105</th>\n",
       "      <td>1274388447</td>\n",
       "      <td>a68afc41-645d-46c6-bfce-3dc9bf95ed0b</td>\n",
       "    </tr>\n",
       "    <tr>\n",
       "      <th>13106</th>\n",
       "      <td>1274388290</td>\n",
       "      <td>a37b6160-3e6a-4860-97cc-6b75a035c0da</td>\n",
       "    </tr>\n",
       "    <tr>\n",
       "      <th>13107</th>\n",
       "      <td>1274387176</td>\n",
       "      <td>3849dd2f-1678-488b-8f76-b166f53fe7ed</td>\n",
       "    </tr>\n",
       "    <tr>\n",
       "      <th>13108</th>\n",
       "      <td>1274386903</td>\n",
       "      <td>5a5d218e-7d84-4a8c-9621-f3067b0b8fb5</td>\n",
       "    </tr>\n",
       "    <tr>\n",
       "      <th>13109</th>\n",
       "      <td>1274386491</td>\n",
       "      <td>7e567cc5-3f50-4a74-aa05-abbf8cfed55c</td>\n",
       "    </tr>\n",
       "  </tbody>\n",
       "</table>\n",
       "<p>13109 rows × 2 columns</p>\n",
       "</div>"
      ],
      "text/plain": [
       "            clock                                    id\n",
       "0      1618494554  65851316-b83e-4676-a072-c34b6b572a0b\n",
       "1      1618494483  2c2bad25-d6f6-4058-a571-1c5ae925ebe9\n",
       "2      1618494266  16d5f8e1-a087-45b8-a623-bdec4445e9a8\n",
       "3      1618493724  3ddb33ba-1754-4bd2-b1b6-e1969d5ac240\n",
       "4      1618493724  fe266d43-86f4-4e0e-8cda-243ef98eb395\n",
       "...           ...                                   ...\n",
       "13105  1274388447  a68afc41-645d-46c6-bfce-3dc9bf95ed0b\n",
       "13106  1274388290  a37b6160-3e6a-4860-97cc-6b75a035c0da\n",
       "13107  1274387176  3849dd2f-1678-488b-8f76-b166f53fe7ed\n",
       "13108  1274386903  5a5d218e-7d84-4a8c-9621-f3067b0b8fb5\n",
       "13109  1274386491  7e567cc5-3f50-4a74-aa05-abbf8cfed55c\n",
       "\n",
       "[13109 rows x 2 columns]"
      ]
     },
     "execution_count": 22,
     "metadata": {},
     "output_type": "execute_result"
    }
   ],
   "source": [
    "new_pages_df[\"id\"]"
   ]
  },
  {
   "cell_type": "code",
   "execution_count": 21,
   "metadata": {},
   "outputs": [
    {
     "data": {
      "text/plain": [
       "((73202, 36), 73202)"
      ]
     },
     "execution_count": 21,
     "metadata": {},
     "output_type": "execute_result"
    }
   ],
   "source": [
    "combined_shots_df = pd.concat([shots_df, new_shots_df], axis=0).drop_duplicates(subset=[\"id\"])\n",
    "\n",
    "combined_shots_df.shape, combined_shots_df[\"id\"].nunique()"
   ]
  },
  {
   "cell_type": "code",
   "execution_count": 19,
   "metadata": {},
   "outputs": [
    {
     "data": {
      "text/plain": [
       "72877"
      ]
     },
     "execution_count": 19,
     "metadata": {},
     "output_type": "execute_result"
    }
   ],
   "source": [
    "shots_df = pd.read_parquet(\"../data/raw/visualizercoffee_shot_series.parquet\",)\n",
    "shots_df.to_parquet(\"../data/raw/visualizercoffee_shot_series_2021-12-18.parquet\", index=False)\n",
    "shots_df.shape"
   ]
  },
  {
   "cell_type": "markdown",
   "metadata": {},
   "source": [
    "# Import raw downloaded data"
   ]
  },
  {
   "cell_type": "code",
   "execution_count": 18,
   "metadata": {},
   "outputs": [
    {
     "data": {
      "text/plain": [
       "(72877, 34)"
      ]
     },
     "execution_count": 18,
     "metadata": {},
     "output_type": "execute_result"
    }
   ],
   "source": [
    "shots_df = pd.read_parquet(\"../data/raw/visualizercoffee_shot_series.parquet\",)\n",
    "shots_df.shape"
   ]
  },
  {
   "cell_type": "code",
   "execution_count": 35,
   "metadata": {},
   "outputs": [
    {
     "data": {
      "text/plain": [
       "(73202, 36)"
      ]
     },
     "execution_count": 35,
     "metadata": {},
     "output_type": "execute_result"
    }
   ],
   "source": [
    "shots_df = combined_shots_df\n",
    "shots_df.shape"
   ]
  },
  {
   "cell_type": "markdown",
   "metadata": {},
   "source": [
    "# Clean data"
   ]
  },
  {
   "cell_type": "markdown",
   "metadata": {},
   "source": [
    "## Datetime"
   ]
  },
  {
   "cell_type": "code",
   "execution_count": 36,
   "metadata": {},
   "outputs": [],
   "source": [
    "shots_df[\"start_time\"] = pd.DatetimeIndex(shots_df[\"start_time\"])\n",
    "shots_df[\"start_time\"] = shots_df[\"start_time\"].dt.tz_localize(None)"
   ]
  },
  {
   "cell_type": "code",
   "execution_count": 37,
   "metadata": {},
   "outputs": [
    {
     "name": "stderr",
     "output_type": "stream",
     "text": [
      "/opt/anaconda3/lib/python3.7/site-packages/dateparser/date_parser.py:35: PytzUsageWarning: The localize method is no longer necessary, as this time zone supports the fold attribute (PEP 495). For more details on migrating to a PEP 495-compliant implementation, see https://pytz-deprecation-shim.readthedocs.io/en/latest/migration.html\n",
      "  date_obj = stz.localize(date_obj)\n",
      "/opt/anaconda3/lib/python3.7/site-packages/dateparser/utils/__init__.py:130: PytzUsageWarning: The localize method is no longer necessary, as this time zone supports the fold attribute (PEP 495). For more details on migrating to a PEP 495-compliant implementation, see https://pytz-deprecation-shim.readthedocs.io/en/latest/migration.html\n",
      "  date_obj = tz.localize(date_obj)\n"
     ]
    }
   ],
   "source": [
    "def parse_date(x):\n",
    "    if not isinstance(x, str) or len(x) < 4:\n",
    "        return None        \n",
    "    try: \n",
    "        dt = parse(x)\n",
    "        timestamp = pd.Timestamp(dt)\n",
    "    except:\n",
    "        return None\n",
    "    \n",
    "    return timestamp\n",
    "shots_df[\"roast_date\"] = shots_df[\"roast_date\"].apply(parse_date)"
   ]
  },
  {
   "cell_type": "code",
   "execution_count": 38,
   "metadata": {},
   "outputs": [
    {
     "name": "stderr",
     "output_type": "stream",
     "text": [
      "/opt/anaconda3/lib/python3.7/site-packages/ipykernel_launcher.py:4: SettingWithCopyWarning: \n",
      "A value is trying to be set on a copy of a slice from a DataFrame\n",
      "\n",
      "See the caveats in the documentation: https://pandas.pydata.org/pandas-docs/stable/user_guide/indexing.html#returning-a-view-versus-a-copy\n",
      "  after removing the cwd from sys.path.\n",
      "/opt/anaconda3/lib/python3.7/site-packages/ipykernel_launcher.py:7: SettingWithCopyWarning: \n",
      "A value is trying to be set on a copy of a slice from a DataFrame\n",
      "\n",
      "See the caveats in the documentation: https://pandas.pydata.org/pandas-docs/stable/user_guide/indexing.html#returning-a-view-versus-a-copy\n",
      "  import sys\n",
      "/opt/anaconda3/lib/python3.7/site-packages/ipykernel_launcher.py:11: SettingWithCopyWarning: \n",
      "A value is trying to be set on a copy of a slice from a DataFrame.\n",
      "Try using .loc[row_indexer,col_indexer] = value instead\n",
      "\n",
      "See the caveats in the documentation: https://pandas.pydata.org/pandas-docs/stable/user_guide/indexing.html#returning-a-view-versus-a-copy\n",
      "  # This is added back by InteractiveShellApp.init_path()\n"
     ]
    }
   ],
   "source": [
    "shots_df[\"bean_age\"] = shots_df[\"start_time\"] - shots_df[\"roast_date\"]\n",
    "\n",
    "idx_A = shots_df[\"bean_age\"] < pd.Timedelta(10, unit=\"minutes\")\n",
    "shots_df[\"bean_age\"][idx_A] = None\n",
    "\n",
    "idx_B = shots_df[\"bean_age\"] > pd.Timedelta(200, unit=\"days\")\n",
    "shots_df[\"bean_age\"][idx_B] = None\n",
    "\n",
    "shots_df[\"bean_age\"] = shots_df[\"bean_age\"] / pd.to_timedelta(1, unit='D')\n",
    "\n",
    "shots_df.loc[idx_A | idx_B][\"roast_date\"] = None"
   ]
  },
  {
   "cell_type": "markdown",
   "metadata": {},
   "source": [
    "\n",
    "### Timeframe series data"
   ]
  },
  {
   "cell_type": "code",
   "execution_count": 39,
   "metadata": {},
   "outputs": [],
   "source": [
    "# Only needed when timeframe not aligned\n",
    "\n",
    "def shift_timeframe_step(time_index, values, id=None):\n",
    "    time_index = np.roll(time_index, shift=-1)\n",
    "    time_index[-1] = time_index[-2]\n",
    "    \n",
    "    if len(time_index) - len(values) == 1:\n",
    "        time_index = time_index[:-1]\n",
    "        \n",
    "    if len(time_index) != len(values):\n",
    "        time_index = time_index[:len(values)]\n",
    "    \n",
    "    return time_index\n",
    "\n",
    "shots_df[\"timeframe\"] = shots_df[[\"timeframe\", \"espresso_flow\", \"id\"]].apply(\n",
    "    lambda x: shift_timeframe_step(x.timeframe, x.espresso_flow, x.id), axis=1)"
   ]
  },
  {
   "cell_type": "code",
   "execution_count": 41,
   "metadata": {},
   "outputs": [],
   "source": [
    "shots_df[\"shot_time\"] = shots_df[\"timeframe\"].apply(max)"
   ]
  },
  {
   "cell_type": "markdown",
   "metadata": {},
   "source": [
    "## Numericals"
   ]
  },
  {
   "cell_type": "code",
   "execution_count": 42,
   "metadata": {
    "scrolled": true,
    "tags": []
   },
   "outputs": [
    {
     "name": "stderr",
     "output_type": "stream",
     "text": [
      "/opt/anaconda3/lib/python3.7/site-packages/ipykernel_launcher.py:1: FutureWarning: The default value of regex will change from True to False in a future version.\n",
      "  \"\"\"Entry point for launching an IPython kernel.\n",
      "/opt/anaconda3/lib/python3.7/site-packages/ipykernel_launcher.py:2: FutureWarning: The default value of regex will change from True to False in a future version.\n",
      "  \n"
     ]
    }
   ],
   "source": [
    "shots_df[\"drink_tds\"] = shots_df[\"drink_tds\"].str.replace(r\"[^0-9.]+\", '').replace({\"\": None})\n",
    "shots_df[\"drink_ey\"] = shots_df[\"drink_ey\"].str.replace(\",\", \".\").str.replace(r\"[^0-9.]+\", '').replace({\"\": None, \"20210113174207\": None})"
   ]
  },
  {
   "cell_type": "code",
   "execution_count": 40,
   "metadata": {},
   "outputs": [],
   "source": [
    "shots_df[\"bean_weight\"] = shots_df[\"bean_weight\"].str.replace(\",\", \".\").str.extract(r\"(\\d*\\.\\d+|\\d+)\")[0]\n",
    "shots_df[\"drink_weight\"] = shots_df[\"drink_weight\"].str.replace(\",\", \".\").str.extract(r\"(\\d*\\.\\d+|\\d+)\")[0]"
   ]
  },
  {
   "cell_type": "code",
   "execution_count": 43,
   "metadata": {},
   "outputs": [],
   "source": [
    "shots_df.loc[shots_df[\"espresso_enjoyment\"] > 100, \"espresso_enjoyment\"] = None"
   ]
  },
  {
   "cell_type": "code",
   "execution_count": 67,
   "metadata": {
    "scrolled": true,
    "tags": []
   },
   "outputs": [
    {
     "data": {
      "text/plain": [
       "0     35.2\n",
       "1     36.1\n",
       "2     40.3\n",
       "3    124.5\n",
       "4      0.0\n",
       "     ...  \n",
       "0        0\n",
       "0        0\n",
       "0        0\n",
       "0        0\n",
       "0        0\n",
       "Name: drink_weight, Length: 73202, dtype: object"
      ]
     },
     "execution_count": 67,
     "metadata": {},
     "output_type": "execute_result"
    }
   ],
   "source": [
    "shots_df[\"drink_weight\"].astype(float, errors='ignore')"
   ]
  },
  {
   "cell_type": "markdown",
   "metadata": {},
   "source": [
    "## Caterogrical fields"
   ]
  },
  {
   "cell_type": "code",
   "execution_count": 44,
   "metadata": {
    "scrolled": true,
    "tags": []
   },
   "outputs": [],
   "source": [
    "shots_df[\"profile_title\"] = shots_df[\"profile_title\"].replace({\"\": None})"
   ]
  },
  {
   "cell_type": "code",
   "execution_count": 60,
   "metadata": {
    "scrolled": true,
    "tags": []
   },
   "outputs": [
    {
     "ename": "ValueError",
     "evalue": "could not convert string to float: ",
     "output_type": "error",
     "traceback": [
      "\u001b[0;31m---------------------------------------------------------------------------\u001b[0m",
      "\u001b[0;31mValueError\u001b[0m                                Traceback (most recent call last)",
      "\u001b[0;32m/tmp/ipykernel_44930/2449205628.py\u001b[0m in \u001b[0;36m<module>\u001b[0;34m\u001b[0m\n\u001b[1;32m      3\u001b[0m     \u001b[0;31m# \"drink_ey\": float,\u001b[0m\u001b[0;34m\u001b[0m\u001b[0;34m\u001b[0m\u001b[0;34m\u001b[0m\u001b[0m\n\u001b[1;32m      4\u001b[0m     \u001b[0;31m# \"bean_weight\": float,\u001b[0m\u001b[0;34m\u001b[0m\u001b[0;34m\u001b[0m\u001b[0;34m\u001b[0m\u001b[0m\n\u001b[0;32m----> 5\u001b[0;31m     \u001b[0;34m\"drink_weight\"\u001b[0m\u001b[0;34m:\u001b[0m \u001b[0mfloat\u001b[0m\u001b[0;34m,\u001b[0m\u001b[0;34m\u001b[0m\u001b[0;34m\u001b[0m\u001b[0m\n\u001b[0m\u001b[1;32m      6\u001b[0m     \u001b[0;31m# \"espresso_enjoyment\": float,\u001b[0m\u001b[0;34m\u001b[0m\u001b[0;34m\u001b[0m\u001b[0;34m\u001b[0m\u001b[0m\n\u001b[1;32m      7\u001b[0m })\n",
      "\u001b[0;32m/opt/anaconda3/lib/python3.7/site-packages/pandas/core/generic.py\u001b[0m in \u001b[0;36mastype\u001b[0;34m(self, dtype, copy, errors)\u001b[0m\n\u001b[1;32m   5797\u001b[0m                 \u001b[0;32mif\u001b[0m \u001b[0mcol_name\u001b[0m \u001b[0;32min\u001b[0m \u001b[0mdtype\u001b[0m\u001b[0;34m:\u001b[0m\u001b[0;34m\u001b[0m\u001b[0;34m\u001b[0m\u001b[0m\n\u001b[1;32m   5798\u001b[0m                     results.append(\n\u001b[0;32m-> 5799\u001b[0;31m                         \u001b[0mcol\u001b[0m\u001b[0;34m.\u001b[0m\u001b[0mastype\u001b[0m\u001b[0;34m(\u001b[0m\u001b[0mdtype\u001b[0m\u001b[0;34m=\u001b[0m\u001b[0mdtype\u001b[0m\u001b[0;34m[\u001b[0m\u001b[0mcol_name\u001b[0m\u001b[0;34m]\u001b[0m\u001b[0;34m,\u001b[0m \u001b[0mcopy\u001b[0m\u001b[0;34m=\u001b[0m\u001b[0mcopy\u001b[0m\u001b[0;34m,\u001b[0m \u001b[0merrors\u001b[0m\u001b[0;34m=\u001b[0m\u001b[0merrors\u001b[0m\u001b[0;34m)\u001b[0m\u001b[0;34m\u001b[0m\u001b[0;34m\u001b[0m\u001b[0m\n\u001b[0m\u001b[1;32m   5800\u001b[0m                     )\n\u001b[1;32m   5801\u001b[0m                 \u001b[0;32melse\u001b[0m\u001b[0;34m:\u001b[0m\u001b[0;34m\u001b[0m\u001b[0;34m\u001b[0m\u001b[0m\n",
      "\u001b[0;32m/opt/anaconda3/lib/python3.7/site-packages/pandas/core/generic.py\u001b[0m in \u001b[0;36mastype\u001b[0;34m(self, dtype, copy, errors)\u001b[0m\n\u001b[1;32m   5813\u001b[0m         \u001b[0;32melse\u001b[0m\u001b[0;34m:\u001b[0m\u001b[0;34m\u001b[0m\u001b[0;34m\u001b[0m\u001b[0m\n\u001b[1;32m   5814\u001b[0m             \u001b[0;31m# else, only a single dtype is given\u001b[0m\u001b[0;34m\u001b[0m\u001b[0;34m\u001b[0m\u001b[0;34m\u001b[0m\u001b[0m\n\u001b[0;32m-> 5815\u001b[0;31m             \u001b[0mnew_data\u001b[0m \u001b[0;34m=\u001b[0m \u001b[0mself\u001b[0m\u001b[0;34m.\u001b[0m\u001b[0m_mgr\u001b[0m\u001b[0;34m.\u001b[0m\u001b[0mastype\u001b[0m\u001b[0;34m(\u001b[0m\u001b[0mdtype\u001b[0m\u001b[0;34m=\u001b[0m\u001b[0mdtype\u001b[0m\u001b[0;34m,\u001b[0m \u001b[0mcopy\u001b[0m\u001b[0;34m=\u001b[0m\u001b[0mcopy\u001b[0m\u001b[0;34m,\u001b[0m \u001b[0merrors\u001b[0m\u001b[0;34m=\u001b[0m\u001b[0merrors\u001b[0m\u001b[0;34m)\u001b[0m\u001b[0;34m\u001b[0m\u001b[0;34m\u001b[0m\u001b[0m\n\u001b[0m\u001b[1;32m   5816\u001b[0m             \u001b[0;32mreturn\u001b[0m \u001b[0mself\u001b[0m\u001b[0;34m.\u001b[0m\u001b[0m_constructor\u001b[0m\u001b[0;34m(\u001b[0m\u001b[0mnew_data\u001b[0m\u001b[0;34m)\u001b[0m\u001b[0;34m.\u001b[0m\u001b[0m__finalize__\u001b[0m\u001b[0;34m(\u001b[0m\u001b[0mself\u001b[0m\u001b[0;34m,\u001b[0m \u001b[0mmethod\u001b[0m\u001b[0;34m=\u001b[0m\u001b[0;34m\"astype\"\u001b[0m\u001b[0;34m)\u001b[0m\u001b[0;34m\u001b[0m\u001b[0;34m\u001b[0m\u001b[0m\n\u001b[1;32m   5817\u001b[0m \u001b[0;34m\u001b[0m\u001b[0m\n",
      "\u001b[0;32m/opt/anaconda3/lib/python3.7/site-packages/pandas/core/internals/managers.py\u001b[0m in \u001b[0;36mastype\u001b[0;34m(self, dtype, copy, errors)\u001b[0m\n\u001b[1;32m    416\u001b[0m \u001b[0;34m\u001b[0m\u001b[0m\n\u001b[1;32m    417\u001b[0m     \u001b[0;32mdef\u001b[0m \u001b[0mastype\u001b[0m\u001b[0;34m(\u001b[0m\u001b[0mself\u001b[0m\u001b[0;34m:\u001b[0m \u001b[0mT\u001b[0m\u001b[0;34m,\u001b[0m \u001b[0mdtype\u001b[0m\u001b[0;34m,\u001b[0m \u001b[0mcopy\u001b[0m\u001b[0;34m:\u001b[0m \u001b[0mbool\u001b[0m \u001b[0;34m=\u001b[0m \u001b[0;32mFalse\u001b[0m\u001b[0;34m,\u001b[0m \u001b[0merrors\u001b[0m\u001b[0;34m:\u001b[0m \u001b[0mstr\u001b[0m \u001b[0;34m=\u001b[0m \u001b[0;34m\"raise\"\u001b[0m\u001b[0;34m)\u001b[0m \u001b[0;34m->\u001b[0m \u001b[0mT\u001b[0m\u001b[0;34m:\u001b[0m\u001b[0;34m\u001b[0m\u001b[0;34m\u001b[0m\u001b[0m\n\u001b[0;32m--> 418\u001b[0;31m         \u001b[0;32mreturn\u001b[0m \u001b[0mself\u001b[0m\u001b[0;34m.\u001b[0m\u001b[0mapply\u001b[0m\u001b[0;34m(\u001b[0m\u001b[0;34m\"astype\"\u001b[0m\u001b[0;34m,\u001b[0m \u001b[0mdtype\u001b[0m\u001b[0;34m=\u001b[0m\u001b[0mdtype\u001b[0m\u001b[0;34m,\u001b[0m \u001b[0mcopy\u001b[0m\u001b[0;34m=\u001b[0m\u001b[0mcopy\u001b[0m\u001b[0;34m,\u001b[0m \u001b[0merrors\u001b[0m\u001b[0;34m=\u001b[0m\u001b[0merrors\u001b[0m\u001b[0;34m)\u001b[0m\u001b[0;34m\u001b[0m\u001b[0;34m\u001b[0m\u001b[0m\n\u001b[0m\u001b[1;32m    419\u001b[0m \u001b[0;34m\u001b[0m\u001b[0m\n\u001b[1;32m    420\u001b[0m     def convert(\n",
      "\u001b[0;32m/opt/anaconda3/lib/python3.7/site-packages/pandas/core/internals/managers.py\u001b[0m in \u001b[0;36mapply\u001b[0;34m(self, f, align_keys, ignore_failures, **kwargs)\u001b[0m\n\u001b[1;32m    325\u001b[0m                     \u001b[0mapplied\u001b[0m \u001b[0;34m=\u001b[0m \u001b[0mb\u001b[0m\u001b[0;34m.\u001b[0m\u001b[0mapply\u001b[0m\u001b[0;34m(\u001b[0m\u001b[0mf\u001b[0m\u001b[0;34m,\u001b[0m \u001b[0;34m**\u001b[0m\u001b[0mkwargs\u001b[0m\u001b[0;34m)\u001b[0m\u001b[0;34m\u001b[0m\u001b[0;34m\u001b[0m\u001b[0m\n\u001b[1;32m    326\u001b[0m                 \u001b[0;32melse\u001b[0m\u001b[0;34m:\u001b[0m\u001b[0;34m\u001b[0m\u001b[0;34m\u001b[0m\u001b[0m\n\u001b[0;32m--> 327\u001b[0;31m                     \u001b[0mapplied\u001b[0m \u001b[0;34m=\u001b[0m \u001b[0mgetattr\u001b[0m\u001b[0;34m(\u001b[0m\u001b[0mb\u001b[0m\u001b[0;34m,\u001b[0m \u001b[0mf\u001b[0m\u001b[0;34m)\u001b[0m\u001b[0;34m(\u001b[0m\u001b[0;34m**\u001b[0m\u001b[0mkwargs\u001b[0m\u001b[0;34m)\u001b[0m\u001b[0;34m\u001b[0m\u001b[0;34m\u001b[0m\u001b[0m\n\u001b[0m\u001b[1;32m    328\u001b[0m             \u001b[0;32mexcept\u001b[0m \u001b[0;34m(\u001b[0m\u001b[0mTypeError\u001b[0m\u001b[0;34m,\u001b[0m \u001b[0mNotImplementedError\u001b[0m\u001b[0;34m)\u001b[0m\u001b[0;34m:\u001b[0m\u001b[0;34m\u001b[0m\u001b[0;34m\u001b[0m\u001b[0m\n\u001b[1;32m    329\u001b[0m                 \u001b[0;32mif\u001b[0m \u001b[0;32mnot\u001b[0m \u001b[0mignore_failures\u001b[0m\u001b[0;34m:\u001b[0m\u001b[0;34m\u001b[0m\u001b[0;34m\u001b[0m\u001b[0m\n",
      "\u001b[0;32m/opt/anaconda3/lib/python3.7/site-packages/pandas/core/internals/blocks.py\u001b[0m in \u001b[0;36mastype\u001b[0;34m(self, dtype, copy, errors)\u001b[0m\n\u001b[1;32m    589\u001b[0m         \u001b[0mvalues\u001b[0m \u001b[0;34m=\u001b[0m \u001b[0mself\u001b[0m\u001b[0;34m.\u001b[0m\u001b[0mvalues\u001b[0m\u001b[0;34m\u001b[0m\u001b[0;34m\u001b[0m\u001b[0m\n\u001b[1;32m    590\u001b[0m \u001b[0;34m\u001b[0m\u001b[0m\n\u001b[0;32m--> 591\u001b[0;31m         \u001b[0mnew_values\u001b[0m \u001b[0;34m=\u001b[0m \u001b[0mastype_array_safe\u001b[0m\u001b[0;34m(\u001b[0m\u001b[0mvalues\u001b[0m\u001b[0;34m,\u001b[0m \u001b[0mdtype\u001b[0m\u001b[0;34m,\u001b[0m \u001b[0mcopy\u001b[0m\u001b[0;34m=\u001b[0m\u001b[0mcopy\u001b[0m\u001b[0;34m,\u001b[0m \u001b[0merrors\u001b[0m\u001b[0;34m=\u001b[0m\u001b[0merrors\u001b[0m\u001b[0;34m)\u001b[0m\u001b[0;34m\u001b[0m\u001b[0;34m\u001b[0m\u001b[0m\n\u001b[0m\u001b[1;32m    592\u001b[0m \u001b[0;34m\u001b[0m\u001b[0m\n\u001b[1;32m    593\u001b[0m         \u001b[0mnew_values\u001b[0m \u001b[0;34m=\u001b[0m \u001b[0mmaybe_coerce_values\u001b[0m\u001b[0;34m(\u001b[0m\u001b[0mnew_values\u001b[0m\u001b[0;34m)\u001b[0m\u001b[0;34m\u001b[0m\u001b[0;34m\u001b[0m\u001b[0m\n",
      "\u001b[0;32m/opt/anaconda3/lib/python3.7/site-packages/pandas/core/dtypes/cast.py\u001b[0m in \u001b[0;36mastype_array_safe\u001b[0;34m(values, dtype, copy, errors)\u001b[0m\n\u001b[1;32m   1307\u001b[0m \u001b[0;34m\u001b[0m\u001b[0m\n\u001b[1;32m   1308\u001b[0m     \u001b[0;32mtry\u001b[0m\u001b[0;34m:\u001b[0m\u001b[0;34m\u001b[0m\u001b[0;34m\u001b[0m\u001b[0m\n\u001b[0;32m-> 1309\u001b[0;31m         \u001b[0mnew_values\u001b[0m \u001b[0;34m=\u001b[0m \u001b[0mastype_array\u001b[0m\u001b[0;34m(\u001b[0m\u001b[0mvalues\u001b[0m\u001b[0;34m,\u001b[0m \u001b[0mdtype\u001b[0m\u001b[0;34m,\u001b[0m \u001b[0mcopy\u001b[0m\u001b[0;34m=\u001b[0m\u001b[0mcopy\u001b[0m\u001b[0;34m)\u001b[0m\u001b[0;34m\u001b[0m\u001b[0;34m\u001b[0m\u001b[0m\n\u001b[0m\u001b[1;32m   1310\u001b[0m     \u001b[0;32mexcept\u001b[0m \u001b[0;34m(\u001b[0m\u001b[0mValueError\u001b[0m\u001b[0;34m,\u001b[0m \u001b[0mTypeError\u001b[0m\u001b[0;34m)\u001b[0m\u001b[0;34m:\u001b[0m\u001b[0;34m\u001b[0m\u001b[0;34m\u001b[0m\u001b[0m\n\u001b[1;32m   1311\u001b[0m         \u001b[0;31m# e.g. astype_nansafe can fail on object-dtype of strings\u001b[0m\u001b[0;34m\u001b[0m\u001b[0;34m\u001b[0m\u001b[0;34m\u001b[0m\u001b[0m\n",
      "\u001b[0;32m/opt/anaconda3/lib/python3.7/site-packages/pandas/core/dtypes/cast.py\u001b[0m in \u001b[0;36mastype_array\u001b[0;34m(values, dtype, copy)\u001b[0m\n\u001b[1;32m   1255\u001b[0m \u001b[0;34m\u001b[0m\u001b[0m\n\u001b[1;32m   1256\u001b[0m     \u001b[0;32melse\u001b[0m\u001b[0;34m:\u001b[0m\u001b[0;34m\u001b[0m\u001b[0;34m\u001b[0m\u001b[0m\n\u001b[0;32m-> 1257\u001b[0;31m         \u001b[0mvalues\u001b[0m \u001b[0;34m=\u001b[0m \u001b[0mastype_nansafe\u001b[0m\u001b[0;34m(\u001b[0m\u001b[0mvalues\u001b[0m\u001b[0;34m,\u001b[0m \u001b[0mdtype\u001b[0m\u001b[0;34m,\u001b[0m \u001b[0mcopy\u001b[0m\u001b[0;34m=\u001b[0m\u001b[0mcopy\u001b[0m\u001b[0;34m)\u001b[0m\u001b[0;34m\u001b[0m\u001b[0;34m\u001b[0m\u001b[0m\n\u001b[0m\u001b[1;32m   1258\u001b[0m \u001b[0;34m\u001b[0m\u001b[0m\n\u001b[1;32m   1259\u001b[0m     \u001b[0;31m# in pandas we don't store numpy str dtypes, so convert to object\u001b[0m\u001b[0;34m\u001b[0m\u001b[0;34m\u001b[0m\u001b[0;34m\u001b[0m\u001b[0m\n",
      "\u001b[0;32m/opt/anaconda3/lib/python3.7/site-packages/pandas/core/dtypes/cast.py\u001b[0m in \u001b[0;36mastype_nansafe\u001b[0;34m(arr, dtype, copy, skipna)\u001b[0m\n\u001b[1;32m   1199\u001b[0m     \u001b[0;32mif\u001b[0m \u001b[0mcopy\u001b[0m \u001b[0;32mor\u001b[0m \u001b[0mis_object_dtype\u001b[0m\u001b[0;34m(\u001b[0m\u001b[0marr\u001b[0m\u001b[0;34m.\u001b[0m\u001b[0mdtype\u001b[0m\u001b[0;34m)\u001b[0m \u001b[0;32mor\u001b[0m \u001b[0mis_object_dtype\u001b[0m\u001b[0;34m(\u001b[0m\u001b[0mdtype\u001b[0m\u001b[0;34m)\u001b[0m\u001b[0;34m:\u001b[0m\u001b[0;34m\u001b[0m\u001b[0;34m\u001b[0m\u001b[0m\n\u001b[1;32m   1200\u001b[0m         \u001b[0;31m# Explicit copy, or required since NumPy can't view from / to object.\u001b[0m\u001b[0;34m\u001b[0m\u001b[0;34m\u001b[0m\u001b[0;34m\u001b[0m\u001b[0m\n\u001b[0;32m-> 1201\u001b[0;31m         \u001b[0;32mreturn\u001b[0m \u001b[0marr\u001b[0m\u001b[0;34m.\u001b[0m\u001b[0mastype\u001b[0m\u001b[0;34m(\u001b[0m\u001b[0mdtype\u001b[0m\u001b[0;34m,\u001b[0m \u001b[0mcopy\u001b[0m\u001b[0;34m=\u001b[0m\u001b[0;32mTrue\u001b[0m\u001b[0;34m)\u001b[0m\u001b[0;34m\u001b[0m\u001b[0;34m\u001b[0m\u001b[0m\n\u001b[0m\u001b[1;32m   1202\u001b[0m \u001b[0;34m\u001b[0m\u001b[0m\n\u001b[1;32m   1203\u001b[0m     \u001b[0;32mreturn\u001b[0m \u001b[0marr\u001b[0m\u001b[0;34m.\u001b[0m\u001b[0mastype\u001b[0m\u001b[0;34m(\u001b[0m\u001b[0mdtype\u001b[0m\u001b[0;34m,\u001b[0m \u001b[0mcopy\u001b[0m\u001b[0;34m=\u001b[0m\u001b[0mcopy\u001b[0m\u001b[0;34m)\u001b[0m\u001b[0;34m\u001b[0m\u001b[0;34m\u001b[0m\u001b[0m\n",
      "\u001b[0;31mValueError\u001b[0m: could not convert string to float: "
     ]
    }
   ],
   "source": [
    "shots_df.astype({\n",
    "    # \"drink_tds\": float,\n",
    "    # \"drink_ey\": float,\n",
    "    # \"bean_weight\": float,\n",
    "    \"drink_weight\": float,\n",
    "    # \"espresso_enjoyment\": float,\n",
    "})"
   ]
  },
  {
   "cell_type": "code",
   "execution_count": 51,
   "metadata": {},
   "outputs": [
    {
     "data": {
      "text/plain": [
       "{'id': dtype('O'),\n",
       " 'profile_title': dtype('O'),\n",
       " 'user_id': dtype('O'),\n",
       " 'drink_tds': dtype('O'),\n",
       " 'drink_ey': dtype('O'),\n",
       " 'espresso_enjoyment': dtype('O'),\n",
       " 'bean_weight': dtype('O'),\n",
       " 'drink_weight': dtype('O'),\n",
       " 'grinder_model': dtype('O'),\n",
       " 'grinder_setting': dtype('O'),\n",
       " 'bean_brand': dtype('O'),\n",
       " 'bean_type': dtype('O'),\n",
       " 'roast_date': dtype('<M8[ns]'),\n",
       " 'espresso_notes': dtype('O'),\n",
       " 'roast_level': dtype('O'),\n",
       " 'bean_notes': dtype('O'),\n",
       " 'start_time': dtype('<M8[ns]'),\n",
       " 'image_preview': dtype('O'),\n",
       " 'profile_url': dtype('O'),\n",
       " 'timeframe': dtype('O'),\n",
       " 'espresso_flow': dtype('O'),\n",
       " 'espresso_weight': dtype('O'),\n",
       " 'espresso_pressure': dtype('O'),\n",
       " 'espresso_flow_goal': dtype('O'),\n",
       " 'espresso_resistance': dtype('O'),\n",
       " 'espresso_flow_weight': dtype('O'),\n",
       " 'espresso_state_change': dtype('O'),\n",
       " 'espresso_pressure_goal': dtype('O'),\n",
       " 'espresso_flow_weight_raw': dtype('O'),\n",
       " 'espresso_temperature_mix': dtype('O'),\n",
       " 'espresso_water_dispensed': dtype('O'),\n",
       " 'espresso_temperature_goal': dtype('O'),\n",
       " 'espresso_resistance_weight': dtype('O'),\n",
       " 'espresso_temperature_basket': dtype('O'),\n",
       " 'duration': dtype('O'),\n",
       " 'user_name': dtype('O'),\n",
       " 'bean_age': dtype('float64'),\n",
       " 'shot_time': dtype('float64')}"
      ]
     },
     "execution_count": 51,
     "metadata": {},
     "output_type": "execute_result"
    }
   ],
   "source": [
    "shots_df.dtypes.to_dict()"
   ]
  },
  {
   "cell_type": "markdown",
   "metadata": {},
   "source": [
    "# Saved cleaned file"
   ]
  },
  {
   "cell_type": "code",
   "execution_count": 56,
   "metadata": {},
   "outputs": [
    {
     "data": {
      "text/plain": [
       "'time.struct_time(tm_year=2021, tm_mon=12, tm_mday=18, tm_hour=23, tm_min=53, tm_sec=40, tm_wday=5, tm_yday=352, tm_isdst=0)'"
      ]
     },
     "execution_count": 56,
     "metadata": {},
     "output_type": "execute_result"
    }
   ],
   "source": [
    "time.localtime().__str__()"
   ]
  },
  {
   "cell_type": "code",
   "execution_count": 45,
   "metadata": {
    "id": "s3c-P9tWlKKH"
   },
   "outputs": [],
   "source": [
    "shots_df.to_parquet(f\"../data/raw/visualizercoffee_{shots_df.index.size}shots_2021-11-11_cleaned.parquet\", index=False)"
   ]
  },
  {
   "cell_type": "markdown",
   "metadata": {
    "colab": {
     "base_uri": "https://localhost:8080/",
     "height": 194
    },
    "id": "pCzeR_JtGp_7",
    "outputId": "d4831b80-a857-4c7f-cd2f-a2fdd111fbc7"
   },
   "source": [
    "# Show shot data"
   ]
  },
  {
   "cell_type": "code",
   "execution_count": 43,
   "metadata": {
    "colab": {
     "base_uri": "https://localhost:8080/"
    },
    "id": "okxdoBH2G6Fg",
    "outputId": "7f5b756d-8c44-480d-cc0b-1cf8aafc216e"
   },
   "outputs": [
    {
     "data": {
      "text/plain": [
       "array(['https://visualizer-coffee.s3.eu-central-1.amazonaws.com/screenshots/14899484-a5f8-4ccc-b372-79700c8150ae.png'],\n",
       "      dtype=object)"
      ]
     },
     "execution_count": 43,
     "metadata": {},
     "output_type": "execute_result"
    }
   ],
   "source": [
    "shot_df[\"image_preview\"].values"
   ]
  },
  {
   "cell_type": "code",
   "execution_count": null,
   "metadata": {
    "id": "IkPcxkjAJD6o"
   },
   "outputs": [],
   "source": []
  }
 ],
 "metadata": {
  "colab": {
   "collapsed_sections": [],
   "name": "Collect VisualizerCoffee Data.ipynb",
   "provenance": []
  },
  "kernelspec": {
   "display_name": "Python 3 (ipykernel)",
   "language": "python",
   "name": "python3"
  },
  "language_info": {
   "codemirror_mode": {
    "name": "ipython",
    "version": 3
   },
   "file_extension": ".py",
   "mimetype": "text/x-python",
   "name": "python",
   "nbconvert_exporter": "python",
   "pygments_lexer": "ipython3",
   "version": "3.7.11"
  }
 },
 "nbformat": 4,
 "nbformat_minor": 4
}
